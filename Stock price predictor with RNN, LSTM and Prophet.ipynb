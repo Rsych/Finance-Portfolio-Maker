{
 "cells": [
  {
   "cell_type": "markdown",
   "id": "83f41b5d",
   "metadata": {},
   "source": [
    "# RNN stock price predictor\n",
    "\n",
    "Using Recurrent neural network (RNN) and Long short-term memory (LSTM) algorithm, one of deep learning technique, we'll predict selected ticker's future price. \n",
    "\n",
    "Note : This is just a basic code, hence it's not suitable to apply in real life market, and any investment should be your own decision also risk you take.\n",
    "\n",
    "\n",
    "\n"
   ]
  },
  {
   "cell_type": "markdown",
   "id": "a6414717",
   "metadata": {},
   "source": [
    "## Recurrent Neural Network (RNN)\n",
    "\n",
    "Recurrent neural networks (RNN) are the state of the art algorithm for sequential data and are used by Apple's Siri and and Google's voice search. In RNN, neuron is called cell, information of previously trained cell is used for next cell, hence it is suitable to process sequential data.\n",
    "\n",
    "[image : RNN]"
   ]
  },
  {
   "cell_type": "markdown",
   "id": "b4dbe791",
   "metadata": {},
   "source": [
    "## Long short-term memory\n",
    "\n",
    "RNN can store short-term memory, to find correlations of data, it needs long term memory, LSTM is used to support \n",
    "this.\n",
    "\n",
    "A common LSTM unit is composed of a cell, an input gate, an output gate and a forget gate. The cell remembers values over arbitrary time intervals and the three gates regulate the flow of information into and out of the cell.\n"
   ]
  },
  {
   "cell_type": "markdown",
   "id": "c0393143",
   "metadata": {},
   "source": [
    "## Stock price predictor\n",
    "\n",
    "\n",
    "### data cleansing"
   ]
  },
  {
   "cell_type": "code",
   "execution_count": 25,
   "id": "ec93ea6b",
   "metadata": {},
   "outputs": [],
   "source": [
    "import pandas as pd\n",
    "import yfinance as yf\n",
    "import numpy as np\n",
    "import matplotlib.pyplot as plt\n",
    "# To prevent TF complier error\n",
    "import os\n",
    "os.environ['TF_CPP_MIN_LOG_LEVEL'] = '2'\n",
    "# Model\n",
    "import tensorflow as tf\n",
    "from keras.layers import Dense, SimpleRNN, LSTM, Dropout, Bidirectional, Activation\n",
    "from keras.models import Sequential\n",
    "\n",
    "\n",
    "    \n",
    "def get_tickers(ticker):\n",
    "    data = yf.Ticker(ticker)\n",
    "    x = data.history(period='max', auto_adjust=True)\n",
    "#     x = pdr.get_data_yahoo(tickers, start=date_from)\n",
    "    df = pd.DataFrame(x[['Open', 'High', 'Low', 'Volume', 'Close']])\n",
    "    df.fillna(method='bfill', inplace=True)\n",
    "    df.fillna(method='ffill', inplace=True)\n",
    "    df.rename(columns={'Close' : 'Close'}, inplace=True)\n",
    "    return df\n",
    "\n",
    "def Normalizer(data):\n",
    "    numerator = data - np.min(data,0)\n",
    "    denominator = np.max(data, 0) - np.min(data,0)\n",
    "    return numerator / (denominator + 1e-7)"
   ]
  },
  {
   "cell_type": "code",
   "execution_count": 50,
   "id": "f006ee93",
   "metadata": {},
   "outputs": [
    {
     "data": {
      "text/html": [
       "<div>\n",
       "<style scoped>\n",
       "    .dataframe tbody tr th:only-of-type {\n",
       "        vertical-align: middle;\n",
       "    }\n",
       "\n",
       "    .dataframe tbody tr th {\n",
       "        vertical-align: top;\n",
       "    }\n",
       "\n",
       "    .dataframe thead th {\n",
       "        text-align: right;\n",
       "    }\n",
       "</style>\n",
       "<table border=\"1\" class=\"dataframe\">\n",
       "  <thead>\n",
       "    <tr style=\"text-align: right;\">\n",
       "      <th></th>\n",
       "      <th>Open</th>\n",
       "      <th>High</th>\n",
       "      <th>Low</th>\n",
       "      <th>Volume</th>\n",
       "      <th>Close</th>\n",
       "    </tr>\n",
       "    <tr>\n",
       "      <th>Date</th>\n",
       "      <th></th>\n",
       "      <th></th>\n",
       "      <th></th>\n",
       "      <th></th>\n",
       "      <th></th>\n",
       "    </tr>\n",
       "  </thead>\n",
       "  <tbody>\n",
       "    <tr>\n",
       "      <th>1993-01-29</th>\n",
       "      <td>25.818120</td>\n",
       "      <td>25.818120</td>\n",
       "      <td>25.689672</td>\n",
       "      <td>1003200</td>\n",
       "      <td>25.799770</td>\n",
       "    </tr>\n",
       "    <tr>\n",
       "      <th>1993-02-01</th>\n",
       "      <td>25.818125</td>\n",
       "      <td>25.983273</td>\n",
       "      <td>25.818125</td>\n",
       "      <td>480500</td>\n",
       "      <td>25.983273</td>\n",
       "    </tr>\n",
       "    <tr>\n",
       "      <th>1993-02-02</th>\n",
       "      <td>25.964916</td>\n",
       "      <td>26.056665</td>\n",
       "      <td>25.909866</td>\n",
       "      <td>201300</td>\n",
       "      <td>26.038315</td>\n",
       "    </tr>\n",
       "    <tr>\n",
       "      <th>1993-02-03</th>\n",
       "      <td>26.075019</td>\n",
       "      <td>26.331916</td>\n",
       "      <td>26.056669</td>\n",
       "      <td>529400</td>\n",
       "      <td>26.313566</td>\n",
       "    </tr>\n",
       "    <tr>\n",
       "      <th>1993-02-04</th>\n",
       "      <td>26.405305</td>\n",
       "      <td>26.478704</td>\n",
       "      <td>26.111709</td>\n",
       "      <td>531500</td>\n",
       "      <td>26.423655</td>\n",
       "    </tr>\n",
       "    <tr>\n",
       "      <th>...</th>\n",
       "      <td>...</td>\n",
       "      <td>...</td>\n",
       "      <td>...</td>\n",
       "      <td>...</td>\n",
       "      <td>...</td>\n",
       "    </tr>\n",
       "    <tr>\n",
       "      <th>2021-07-20</th>\n",
       "      <td>425.679993</td>\n",
       "      <td>432.420013</td>\n",
       "      <td>424.829987</td>\n",
       "      <td>99608200</td>\n",
       "      <td>431.059998</td>\n",
       "    </tr>\n",
       "    <tr>\n",
       "      <th>2021-07-21</th>\n",
       "      <td>432.339996</td>\n",
       "      <td>434.700012</td>\n",
       "      <td>431.010010</td>\n",
       "      <td>64724400</td>\n",
       "      <td>434.549988</td>\n",
       "    </tr>\n",
       "    <tr>\n",
       "      <th>2021-07-22</th>\n",
       "      <td>434.739990</td>\n",
       "      <td>435.720001</td>\n",
       "      <td>433.690002</td>\n",
       "      <td>47878500</td>\n",
       "      <td>435.459991</td>\n",
       "    </tr>\n",
       "    <tr>\n",
       "      <th>2021-07-23</th>\n",
       "      <td>437.519989</td>\n",
       "      <td>440.299988</td>\n",
       "      <td>436.790009</td>\n",
       "      <td>63731900</td>\n",
       "      <td>439.940002</td>\n",
       "    </tr>\n",
       "    <tr>\n",
       "      <th>2021-07-26</th>\n",
       "      <td>439.309998</td>\n",
       "      <td>441.029999</td>\n",
       "      <td>439.260010</td>\n",
       "      <td>43641000</td>\n",
       "      <td>441.019989</td>\n",
       "    </tr>\n",
       "  </tbody>\n",
       "</table>\n",
       "<p>7174 rows × 5 columns</p>\n",
       "</div>"
      ],
      "text/plain": [
       "                  Open        High         Low    Volume       Close\n",
       "Date                                                                \n",
       "1993-01-29   25.818120   25.818120   25.689672   1003200   25.799770\n",
       "1993-02-01   25.818125   25.983273   25.818125    480500   25.983273\n",
       "1993-02-02   25.964916   26.056665   25.909866    201300   26.038315\n",
       "1993-02-03   26.075019   26.331916   26.056669    529400   26.313566\n",
       "1993-02-04   26.405305   26.478704   26.111709    531500   26.423655\n",
       "...                ...         ...         ...       ...         ...\n",
       "2021-07-20  425.679993  432.420013  424.829987  99608200  431.059998\n",
       "2021-07-21  432.339996  434.700012  431.010010  64724400  434.549988\n",
       "2021-07-22  434.739990  435.720001  433.690002  47878500  435.459991\n",
       "2021-07-23  437.519989  440.299988  436.790009  63731900  439.940002\n",
       "2021-07-26  439.309998  441.029999  439.260010  43641000  441.019989\n",
       "\n",
       "[7174 rows x 5 columns]"
      ]
     },
     "execution_count": 50,
     "metadata": {},
     "output_type": "execute_result"
    }
   ],
   "source": [
    "tickers = 'SPY'\n",
    "df = get_tickers(tickers)\n",
    "df"
   ]
  },
  {
   "cell_type": "code",
   "execution_count": 27,
   "id": "1e3b91ca",
   "metadata": {},
   "outputs": [],
   "source": [
    "dfx = Normalizer(df)\n",
    "dfy = dfx[['Close']]\n",
    "\n",
    "\n",
    "x = dfx.values.tolist()\n",
    "y = dfy.values.tolist()"
   ]
  },
  {
   "cell_type": "code",
   "execution_count": 28,
   "id": "f3f24f0f",
   "metadata": {},
   "outputs": [
    {
     "name": "stdout",
     "output_type": "stream",
     "text": [
      "<class 'pandas.core.frame.DataFrame'>\n",
      "DatetimeIndex: 7174 entries, 1993-01-29 to 2021-07-26\n",
      "Data columns (total 5 columns):\n",
      " #   Column  Non-Null Count  Dtype  \n",
      "---  ------  --------------  -----  \n",
      " 0   Open    7174 non-null   float64\n",
      " 1   High    7174 non-null   float64\n",
      " 2   Low     7174 non-null   float64\n",
      " 3   Volume  7174 non-null   float64\n",
      " 4   Close   7174 non-null   float64\n",
      "dtypes: float64(5)\n",
      "memory usage: 336.3 KB\n"
     ]
    }
   ],
   "source": [
    "dfx.info()"
   ]
  },
  {
   "cell_type": "code",
   "execution_count": 29,
   "id": "1fe6ddc6",
   "metadata": {},
   "outputs": [
    {
     "name": "stdout",
     "output_type": "stream",
     "text": [
      "<class 'pandas.core.frame.DataFrame'>\n",
      "DatetimeIndex: 7174 entries, 1993-01-29 to 2021-07-26\n",
      "Data columns (total 1 columns):\n",
      " #   Column  Non-Null Count  Dtype  \n",
      "---  ------  --------------  -----  \n",
      " 0   Close   7174 non-null   float64\n",
      "dtypes: float64(1)\n",
      "memory usage: 112.1 KB\n"
     ]
    }
   ],
   "source": [
    "dfy.info()"
   ]
  },
  {
   "cell_type": "code",
   "execution_count": 30,
   "id": "55cedf19",
   "metadata": {},
   "outputs": [],
   "source": [
    "data_x = []\n",
    "data_y = []\n",
    "window_size = 10\n",
    "for i in range(len(y) - window_size):\n",
    "    _x = x[i : i + window_size] # not including next day close (i+window_size)\n",
    "    _y = y[i + window_size] # Next day close\n",
    "    data_x.append(_x)\n",
    "    data_y.append(_y)"
   ]
  },
  {
   "cell_type": "markdown",
   "id": "fb1810ad",
   "metadata": {},
   "source": [
    "Run `print(_x, \"->\", _y)` to see _x values added to data_x and _y"
   ]
  },
  {
   "cell_type": "code",
   "execution_count": 31,
   "id": "73637c0b",
   "metadata": {},
   "outputs": [
    {
     "name": "stdout",
     "output_type": "stream",
     "text": [
      "[[0.9906239799885092, 0.9911425526376642, 0.9896406836066197, 0.06071540632023724, 0.9905181765945881], [0.9925813365775537, 0.9923219198194689, 0.9904616911915272, 0.06074031960879018, 0.9869324367049155], [0.9953844818305931, 0.9925145145348833, 0.9894958042500154, 0.07362071940622333, 0.9884966812139712], [0.9891257637100438, 0.9867619410290148, 0.9842074866566097, 0.06328342677347311, 0.9849109413242986], [0.9920255894878454, 0.9880376055685268, 0.9798609585735818, 0.0870007626680915, 0.9767045881059606], [0.9682955722345891, 0.9768454433326786, 0.9582488790065625, 0.16989462138173228, 0.9613748597213312], [0.9670631352171785, 0.9792764558045901, 0.9651550406461991, 0.11435199445799876, 0.9760307563124216], [0.983157013418148, 0.9847642299401045, 0.9800782776084882, 0.07430267762744208, 0.9844296014251319], [0.9889565912281182, 0.9872192616614212, 0.986549801178312, 0.05496227358900949, 0.9866195731146729], [0.9956744496592467, 0.9982429218846224, 0.9940355539368156, 0.07316321039754374, 0.9974009552534536]] -> [0.9999999997593447]\n"
     ]
    }
   ],
   "source": [
    "print(_x, \"->\", _y)"
   ]
  },
  {
   "cell_type": "markdown",
   "id": "022b29b0",
   "metadata": {},
   "source": [
    "Past 10 days, given data, latest close is 0.8726370803053053, next day close is 0.8677396475977315"
   ]
  },
  {
   "cell_type": "markdown",
   "id": "3678ab6e",
   "metadata": {},
   "source": [
    "### Prepare train / test dataset"
   ]
  },
  {
   "cell_type": "code",
   "execution_count": 32,
   "id": "3f9b2e9f",
   "metadata": {},
   "outputs": [],
   "source": [
    "# train dataset\n",
    "train_size = int(len(data_y) * 0.7)\n",
    "train_x = np.array(data_x[0 : train_size])\n",
    "train_y = np.array(data_y[0 : train_size])\n",
    "\n",
    "# test dataset\n",
    "test_size = len(data_y) - train_size\n",
    "test_x = np.array(data_x[train_size : len(data_x)])\n",
    "test_y = np.array(data_y[train_size : len(data_y)])"
   ]
  },
  {
   "cell_type": "markdown",
   "id": "c06dff18",
   "metadata": {},
   "source": [
    "### Build model with SimpleRNN"
   ]
  },
  {
   "cell_type": "code",
   "execution_count": 33,
   "id": "f2b16739",
   "metadata": {},
   "outputs": [
    {
     "name": "stdout",
     "output_type": "stream",
     "text": [
      "Model: \"sequential_2\"\n",
      "_________________________________________________________________\n",
      "Layer (type)                 Output Shape              Param #   \n",
      "=================================================================\n",
      "simple_rnn_2 (SimpleRNN)     (None, 10, 20)            520       \n",
      "_________________________________________________________________\n",
      "dropout_2 (Dropout)          (None, 10, 20)            0         \n",
      "_________________________________________________________________\n",
      "simple_rnn_3 (SimpleRNN)     (None, 40)                2440      \n",
      "_________________________________________________________________\n",
      "dropout_3 (Dropout)          (None, 40)                0         \n",
      "_________________________________________________________________\n",
      "dense_3 (Dense)              (None, 1)                 41        \n",
      "=================================================================\n",
      "Total params: 3,001\n",
      "Trainable params: 3,001\n",
      "Non-trainable params: 0\n",
      "_________________________________________________________________\n"
     ]
    }
   ],
   "source": [
    "model_rnn = Sequential()\n",
    "\n",
    "model_rnn.add(SimpleRNN(units = 20, activation='relu',\n",
    "                   return_sequences=True, input_shape=(window_size, 5)))\n",
    "model_rnn.add(Dropout(0.1))\n",
    "model_rnn.add(SimpleRNN(units=40, activation='relu'))\n",
    "model_rnn.add(Dropout(0.1))\n",
    "model_rnn.add(Dense(units=1))\n",
    "model_rnn.summary()"
   ]
  },
  {
   "cell_type": "markdown",
   "id": "0b319a27",
   "metadata": {},
   "source": [
    "### Model fit"
   ]
  },
  {
   "cell_type": "code",
   "execution_count": 34,
   "id": "2be021cb",
   "metadata": {
    "scrolled": true
   },
   "outputs": [
    {
     "name": "stdout",
     "output_type": "stream",
     "text": [
      "Epoch 1/30\n",
      "168/168 [==============================] - 1s 1ms/step - loss: 0.0065 - accuracy: 1.4204e-04\n",
      "Epoch 2/30\n",
      "168/168 [==============================] - 0s 1ms/step - loss: 4.2450e-04 - accuracy: 1.9680e-04\n",
      "Epoch 3/30\n",
      "168/168 [==============================] - 0s 1ms/step - loss: 2.9971e-04 - accuracy: 2.4279e-04\n",
      "Epoch 4/30\n",
      "168/168 [==============================] - 0s 1ms/step - loss: 2.0957e-04 - accuracy: 3.9829e-04\n",
      "Epoch 5/30\n",
      "168/168 [==============================] - 0s 1ms/step - loss: 1.7859e-04 - accuracy: 3.5413e-06\n",
      "Epoch 6/30\n",
      "168/168 [==============================] - 0s 1ms/step - loss: 1.6275e-04 - accuracy: 3.3194e-04\n",
      "Epoch 7/30\n",
      "168/168 [==============================] - 0s 1ms/step - loss: 1.4051e-04 - accuracy: 7.6466e-04\n",
      "Epoch 8/30\n",
      "168/168 [==============================] - 0s 1ms/step - loss: 1.2289e-04 - accuracy: 5.6180e-05\n",
      "Epoch 9/30\n",
      "168/168 [==============================] - 0s 1ms/step - loss: 1.2019e-04 - accuracy: 2.9755e-04\n",
      "Epoch 10/30\n",
      "168/168 [==============================] - 0s 1ms/step - loss: 1.1102e-04 - accuracy: 4.1287e-05\n",
      "Epoch 11/30\n",
      "168/168 [==============================] - 0s 1ms/step - loss: 1.1296e-04 - accuracy: 6.5687e-05\n",
      "Epoch 12/30\n",
      "168/168 [==============================] - 0s 1ms/step - loss: 1.0090e-04 - accuracy: 8.3041e-04\n",
      "Epoch 13/30\n",
      "168/168 [==============================] - 0s 1ms/step - loss: 9.6978e-05 - accuracy: 3.6603e-04\n",
      "Epoch 14/30\n",
      "168/168 [==============================] - 0s 1ms/step - loss: 9.7030e-05 - accuracy: 8.6198e-05\n",
      "Epoch 15/30\n",
      "168/168 [==============================] - 0s 1ms/step - loss: 9.2277e-05 - accuracy: 7.5676e-05\n",
      "Epoch 16/30\n",
      "168/168 [==============================] - 0s 1ms/step - loss: 1.1162e-04 - accuracy: 5.7733e-05\n",
      "Epoch 17/30\n",
      "168/168 [==============================] - 0s 1ms/step - loss: 9.8327e-05 - accuracy: 1.5437e-04\n",
      "Epoch 18/30\n",
      "168/168 [==============================] - 0s 1ms/step - loss: 9.1336e-05 - accuracy: 6.7317e-05\n",
      "Epoch 19/30\n",
      "168/168 [==============================] - 0s 1ms/step - loss: 8.6817e-05 - accuracy: 2.8730e-04\n",
      "Epoch 20/30\n",
      "168/168 [==============================] - 0s 1ms/step - loss: 8.9004e-05 - accuracy: 1.5437e-04\n",
      "Epoch 21/30\n",
      "168/168 [==============================] - 0s 1ms/step - loss: 9.0588e-05 - accuracy: 6.5687e-05\n",
      "Epoch 22/30\n",
      "168/168 [==============================] - 0s 1ms/step - loss: 8.9184e-05 - accuracy: 1.5184e-04\n",
      "Epoch 23/30\n",
      "168/168 [==============================] - 0s 1ms/step - loss: 7.1830e-05 - accuracy: 8.8007e-05\n",
      "Epoch 24/30\n",
      "168/168 [==============================] - 0s 1ms/step - loss: 8.0093e-05 - accuracy: 3.1493e-05\n",
      "Epoch 25/30\n",
      "168/168 [==============================] - 0s 1ms/step - loss: 7.7511e-05 - accuracy: 1.5758e-05\n",
      "Epoch 26/30\n",
      "168/168 [==============================] - 0s 1ms/step - loss: 7.7757e-05 - accuracy: 1.8456e-04\n",
      "Epoch 27/30\n",
      "168/168 [==============================] - 0s 1ms/step - loss: 6.6079e-05 - accuracy: 2.4682e-04\n",
      "Epoch 28/30\n",
      "168/168 [==============================] - 0s 1ms/step - loss: 7.5267e-05 - accuracy: 1.7586e-04\n",
      "Epoch 29/30\n",
      "168/168 [==============================] - 0s 1ms/step - loss: 7.5755e-05 - accuracy: 6.4071e-05\n",
      "Epoch 30/30\n",
      "168/168 [==============================] - 0s 1ms/step - loss: 7.7086e-05 - accuracy: 9.5551e-06\n"
     ]
    }
   ],
   "source": [
    "model_rnn.compile(optimizer='adam', loss='mean_squared_error', metrics = ['accuracy'])\n",
    "history = model_rnn.fit(train_x, train_y, epochs=30, batch_size=30)\n",
    "pred_y = model_rnn.predict(test_x)"
   ]
  },
  {
   "cell_type": "markdown",
   "id": "1adcd4dc",
   "metadata": {},
   "source": [
    "### Compare prediction to real"
   ]
  },
  {
   "cell_type": "code",
   "execution_count": 35,
   "id": "8b7ceaae",
   "metadata": {},
   "outputs": [
    {
     "data": {
      "image/png": "[encoded data removed]",
      "text/plain": [
       "<Figure size 1152x576 with 1 Axes>"
      ]
     },
     "metadata": {
      "needs_background": "light"
     },
     "output_type": "display_data"
    }
   ],
   "source": [
    "plt.figure(figsize=(16,8))\n",
    "plt.plot(test_y, c='r', label='real stock price')\n",
    "plt.plot(pred_y, c='blue', label='predicted stock price')\n",
    "plt.title(f'{tickers} Stock price prediction')\n",
    "plt.xlabel('time')\n",
    "plt.ylabel('stock price')\n",
    "plt.legend()\n",
    "plt.show()"
   ]
  },
  {
   "cell_type": "markdown",
   "id": "75ec750f",
   "metadata": {},
   "source": [
    "### Build model with LSTM"
   ]
  },
  {
   "cell_type": "code",
   "execution_count": 36,
   "id": "52cd247a",
   "metadata": {},
   "outputs": [
    {
     "name": "stdout",
     "output_type": "stream",
     "text": [
      "Model: \"sequential_3\"\n",
      "_________________________________________________________________\n",
      "Layer (type)                 Output Shape              Param #   \n",
      "=================================================================\n",
      "lstm_2 (LSTM)                (None, 10, 64)            17920     \n",
      "_________________________________________________________________\n",
      "lstm_3 (LSTM)                (None, 64)                33024     \n",
      "_________________________________________________________________\n",
      "dense_4 (Dense)              (None, 32)                2080      \n",
      "_________________________________________________________________\n",
      "dense_5 (Dense)              (None, 1)                 33        \n",
      "=================================================================\n",
      "Total params: 53,057\n",
      "Trainable params: 53,057\n",
      "Non-trainable params: 0\n",
      "_________________________________________________________________\n"
     ]
    }
   ],
   "source": [
    "# model = keras.Sequential()\n",
    "# model.add(layers.LSTM(units=10, activation='relu',\n",
    "#                       return_sequences=True, input_shape=(window_size, 5)))\n",
    "# model.add(layers.Dropout(0.1))\n",
    "# model.add(layers.LSTM(units=10, activation='relu'))\n",
    "# model.add(layers.Dropout(0.1))\n",
    "# model.add(layers.Dense(units=1))\n",
    "# model.summary()\n",
    "\n",
    "model_lstm = Sequential()\n",
    "model_lstm.add(LSTM(units=64, activation='relu',\n",
    "                   return_sequences=True, input_shape=(window_size, 5)))\n",
    "model_lstm.add(LSTM(units=64, activation='relu',\n",
    "                   return_sequences=False))\n",
    "model_lstm.add(Dense(units=32))\n",
    "model_lstm.add(Dense(units=1))\n",
    "model_lstm.summary()"
   ]
  },
  {
   "cell_type": "code",
   "execution_count": 37,
   "id": "1828fce2",
   "metadata": {
    "scrolled": true
   },
   "outputs": [
    {
     "name": "stdout",
     "output_type": "stream",
     "text": [
      "Epoch 1/30\n",
      "168/168 [==============================] - 2s 4ms/step - loss: 0.0025 - accuracy: 1.4502e-05\n",
      "Epoch 2/30\n",
      "168/168 [==============================] - 1s 4ms/step - loss: 2.0824e-05 - accuracy: 1.0116e-04\n",
      "Epoch 3/30\n",
      "168/168 [==============================] - 1s 4ms/step - loss: 2.1862e-05 - accuracy: 1.8456e-04\n",
      "Epoch 4/30\n",
      "168/168 [==============================] - 1s 4ms/step - loss: 1.7993e-05 - accuracy: 9.2903e-04\n",
      "Epoch 5/30\n",
      "168/168 [==============================] - 1s 4ms/step - loss: 1.9914e-05 - accuracy: 5.9020e-04\n",
      "Epoch 6/30\n",
      "168/168 [==============================] - 1s 4ms/step - loss: 1.9123e-05 - accuracy: 9.9228e-05\n",
      "Epoch 7/30\n",
      "168/168 [==============================] - 1s 4ms/step - loss: 1.8937e-05 - accuracy: 1.0509e-04\n",
      "Epoch 8/30\n",
      "168/168 [==============================] - 1s 4ms/step - loss: 1.7238e-05 - accuracy: 1.3732e-04\n",
      "Epoch 9/30\n",
      "168/168 [==============================] - 1s 4ms/step - loss: 1.9418e-05 - accuracy: 2.7440e-05\n",
      "Epoch 10/30\n",
      "168/168 [==============================] - 1s 4ms/step - loss: 1.9360e-05 - accuracy: 2.0865e-05\n",
      "Epoch 11/30\n",
      "168/168 [==============================] - 1s 4ms/step - loss: 2.6627e-05 - accuracy: 5.9020e-04\n",
      "Epoch 12/30\n",
      "168/168 [==============================] - 1s 5ms/step - loss: 1.7067e-05 - accuracy: 5.6180e-05\n",
      "Epoch 13/30\n",
      "168/168 [==============================] - 1s 4ms/step - loss: 1.8632e-05 - accuracy: 4.2651e-04: 0s - loss: 2.0528e-05 - accu\n",
      "Epoch 14/30\n",
      "168/168 [==============================] - 1s 4ms/step - loss: 1.7890e-05 - accuracy: 1.1318e-04\n",
      "Epoch 15/30\n",
      "168/168 [==============================] - 1s 4ms/step - loss: 1.8338e-05 - accuracy: 1.7586e-04\n",
      "Epoch 16/30\n",
      "168/168 [==============================] - 1s 4ms/step - loss: 1.6844e-05 - accuracy: 6.0876e-05\n",
      "Epoch 17/30\n",
      "168/168 [==============================] - 1s 4ms/step - loss: 1.4135e-05 - accuracy: 1.0708e-04\n",
      "Epoch 18/30\n",
      "168/168 [==============================] - 1s 4ms/step - loss: 1.7865e-05 - accuracy: 7.5676e-05\n",
      "Epoch 19/30\n",
      "168/168 [==============================] - 1s 4ms/step - loss: 1.4683e-05 - accuracy: 9.9228e-05\n",
      "Epoch 20/30\n",
      "168/168 [==============================] - 1s 4ms/step - loss: 1.6026e-05 - accuracy: 1.6753e-04\n",
      "Epoch 21/30\n",
      "168/168 [==============================] - 1s 4ms/step - loss: 1.3745e-05 - accuracy: 4.8593e-05\n",
      "Epoch 22/30\n",
      "168/168 [==============================] - 1s 4ms/step - loss: 1.4581e-05 - accuracy: 4.1665e-04\n",
      "Epoch 23/30\n",
      "168/168 [==============================] - 1s 4ms/step - loss: 1.4138e-05 - accuracy: 1.3500e-04\n",
      "Epoch 24/30\n",
      "168/168 [==============================] - 1s 4ms/step - loss: 1.3228e-05 - accuracy: 6.2467e-05\n",
      "Epoch 25/30\n",
      "168/168 [==============================] - 1s 4ms/step - loss: 1.4849e-05 - accuracy: 2.2381e-04\n",
      "Epoch 26/30\n",
      "168/168 [==============================] - 1s 4ms/step - loss: 1.3119e-05 - accuracy: 3.6603e-04\n",
      "Epoch 27/30\n",
      "168/168 [==============================] - 1s 4ms/step - loss: 1.2607e-05 - accuracy: 2.5941e-04\n",
      "Epoch 28/30\n",
      "168/168 [==============================] - 1s 4ms/step - loss: 1.2359e-05 - accuracy: 2.3885e-04\n",
      "Epoch 29/30\n",
      "168/168 [==============================] - 1s 4ms/step - loss: 1.3800e-05 - accuracy: 5.4856e-04\n",
      "Epoch 30/30\n",
      "168/168 [==============================] - 1s 4ms/step - loss: 1.1137e-05 - accuracy: 7.1535e-04\n"
     ]
    }
   ],
   "source": [
    "model_lstm.compile(optimizer='adam',loss='mean_squared_error', metrics=['accuracy'])\n",
    "history2 = model_lstm.fit(train_x, train_y, epochs=30, batch_size=30)\n",
    "pred_y2 = model_lstm.predict(test_x)"
   ]
  },
  {
   "cell_type": "markdown",
   "id": "8b87df2d",
   "metadata": {},
   "source": [
    "### Compare prediction to real"
   ]
  },
  {
   "cell_type": "code",
   "execution_count": 38,
   "id": "a21e495c",
   "metadata": {},
   "outputs": [
    {
     "data": {
      "image/png": "[encoded data removed]",
      "text/plain": [
       "<Figure size 1152x576 with 1 Axes>"
      ]
     },
     "metadata": {
      "needs_background": "light"
     },
     "output_type": "display_data"
    }
   ],
   "source": [
    "plt.figure(figsize=(16,8))\n",
    "plt.plot(test_y, c='r', label='real stock price')\n",
    "plt.plot(pred_y2, c='blue', label='pridected stock price')\n",
    "plt.title(f'{tickers} Stock price prediction')\n",
    "plt.xlabel('time')\n",
    "plt.ylabel('stock price')\n",
    "plt.legend()\n",
    "plt.show()"
   ]
  },
  {
   "cell_type": "markdown",
   "id": "32210c82",
   "metadata": {},
   "source": [
    "## Evaluating Model"
   ]
  },
  {
   "cell_type": "code",
   "execution_count": 39,
   "id": "06f608b0",
   "metadata": {},
   "outputs": [],
   "source": [
    "# Losses\n",
    "history.history['loss'];"
   ]
  },
  {
   "cell_type": "code",
   "execution_count": 40,
   "id": "bc30a768",
   "metadata": {},
   "outputs": [
    {
     "data": {
      "image/png": "[encoded data removed]",
      "text/plain": [
       "<Figure size 864x576 with 1 Axes>"
      ]
     },
     "metadata": {
      "needs_background": "light"
     },
     "output_type": "display_data"
    }
   ],
   "source": [
    "# plot loss vs epochs\n",
    "plt.figure(figsize=(12,8))\n",
    "plt.plot(history.history['loss'])\n",
    "plt.xlabel('Epochs')\n",
    "plt.ylabel('Losses')\n",
    "plt.title('Simple RNN model, Loss vs Epoch')\n",
    "plt.show()"
   ]
  },
  {
   "cell_type": "code",
   "execution_count": 41,
   "id": "87182aa4",
   "metadata": {
    "scrolled": true
   },
   "outputs": [],
   "source": [
    "history2.history['loss'];"
   ]
  },
  {
   "cell_type": "code",
   "execution_count": 42,
   "id": "54609ce5",
   "metadata": {},
   "outputs": [
    {
     "data": {
      "image/png": "[encoded data removed]",
      "text/plain": [
       "<Figure size 864x576 with 1 Axes>"
      ]
     },
     "metadata": {
      "needs_background": "light"
     },
     "output_type": "display_data"
    }
   ],
   "source": [
    "# plot loss vs epochs\n",
    "plt.figure(figsize=(12,8))\n",
    "plt.plot(history2.history['loss'])\n",
    "plt.xlabel('Epochs')\n",
    "plt.ylabel('Losses')\n",
    "plt.title('Simple LSTM model, Loss vs Epoch')\n",
    "plt.show()"
   ]
  },
  {
   "cell_type": "markdown",
   "id": "c567caeb",
   "metadata": {},
   "source": [
    "## Predict with Prophet"
   ]
  },
  {
   "cell_type": "code",
   "execution_count": 51,
   "id": "a861a1f7",
   "metadata": {},
   "outputs": [
    {
     "data": {
      "text/html": [
       "<div>\n",
       "<style scoped>\n",
       "    .dataframe tbody tr th:only-of-type {\n",
       "        vertical-align: middle;\n",
       "    }\n",
       "\n",
       "    .dataframe tbody tr th {\n",
       "        vertical-align: top;\n",
       "    }\n",
       "\n",
       "    .dataframe thead th {\n",
       "        text-align: right;\n",
       "    }\n",
       "</style>\n",
       "<table border=\"1\" class=\"dataframe\">\n",
       "  <thead>\n",
       "    <tr style=\"text-align: right;\">\n",
       "      <th></th>\n",
       "      <th>ds</th>\n",
       "      <th>Open</th>\n",
       "      <th>High</th>\n",
       "      <th>Low</th>\n",
       "      <th>Volume</th>\n",
       "      <th>y</th>\n",
       "    </tr>\n",
       "  </thead>\n",
       "  <tbody>\n",
       "    <tr>\n",
       "      <th>0</th>\n",
       "      <td>1993-01-29</td>\n",
       "      <td>25.818120</td>\n",
       "      <td>25.818120</td>\n",
       "      <td>25.689672</td>\n",
       "      <td>1003200</td>\n",
       "      <td>25.799770</td>\n",
       "    </tr>\n",
       "    <tr>\n",
       "      <th>1</th>\n",
       "      <td>1993-02-01</td>\n",
       "      <td>25.818125</td>\n",
       "      <td>25.983273</td>\n",
       "      <td>25.818125</td>\n",
       "      <td>480500</td>\n",
       "      <td>25.983273</td>\n",
       "    </tr>\n",
       "    <tr>\n",
       "      <th>2</th>\n",
       "      <td>1993-02-02</td>\n",
       "      <td>25.964916</td>\n",
       "      <td>26.056665</td>\n",
       "      <td>25.909866</td>\n",
       "      <td>201300</td>\n",
       "      <td>26.038315</td>\n",
       "    </tr>\n",
       "    <tr>\n",
       "      <th>3</th>\n",
       "      <td>1993-02-03</td>\n",
       "      <td>26.075019</td>\n",
       "      <td>26.331916</td>\n",
       "      <td>26.056669</td>\n",
       "      <td>529400</td>\n",
       "      <td>26.313566</td>\n",
       "    </tr>\n",
       "    <tr>\n",
       "      <th>4</th>\n",
       "      <td>1993-02-04</td>\n",
       "      <td>26.405305</td>\n",
       "      <td>26.478704</td>\n",
       "      <td>26.111709</td>\n",
       "      <td>531500</td>\n",
       "      <td>26.423655</td>\n",
       "    </tr>\n",
       "  </tbody>\n",
       "</table>\n",
       "</div>"
      ],
      "text/plain": [
       "          ds       Open       High        Low   Volume          y\n",
       "0 1993-01-29  25.818120  25.818120  25.689672  1003200  25.799770\n",
       "1 1993-02-01  25.818125  25.983273  25.818125   480500  25.983273\n",
       "2 1993-02-02  25.964916  26.056665  25.909866   201300  26.038315\n",
       "3 1993-02-03  26.075019  26.331916  26.056669   529400  26.313566\n",
       "4 1993-02-04  26.405305  26.478704  26.111709   531500  26.423655"
      ]
     },
     "execution_count": 51,
     "metadata": {},
     "output_type": "execute_result"
    }
   ],
   "source": [
    "df2 = df.reset_index()\n",
    "pr_df = df2.rename(columns={'Date':'ds', 'Close':'y'})\n",
    "pr_df.head()"
   ]
  },
  {
   "cell_type": "code",
   "execution_count": 52,
   "id": "a9b91e0b",
   "metadata": {},
   "outputs": [
    {
     "name": "stdout",
     "output_type": "stream",
     "text": [
      "Initial log joint probability = -296.772\n"
     ]
    },
    {
     "data": {
      "text/plain": [
       "<prophet.forecaster.Prophet at 0x2b7ecd5b0>"
      ]
     },
     "execution_count": 52,
     "metadata": {},
     "output_type": "execute_result"
    },
    {
     "name": "stdout",
     "output_type": "stream",
     "text": [
      "    Iter      log prob        ||dx||      ||grad||       alpha      alpha0  # evals  Notes \n",
      "      99         21248    0.00417296       4069.72           1           1      119   \n",
      "    Iter      log prob        ||dx||      ||grad||       alpha      alpha0  # evals  Notes \n",
      "     199       22076.8   0.000215348       1686.41      0.6526      0.6526      228   \n",
      "    Iter      log prob        ||dx||      ||grad||       alpha      alpha0  # evals  Notes \n",
      "     299       22359.2     0.0662453       1150.12           1           1      335   \n",
      "    Iter      log prob        ||dx||      ||grad||       alpha      alpha0  # evals  Notes \n",
      "     399       22451.4     0.0388079       6676.41           1           1      448   \n",
      "    Iter      log prob        ||dx||      ||grad||       alpha      alpha0  # evals  Notes \n",
      "     499       22629.3   0.000908597       1118.93           1           1      558   \n",
      "    Iter      log prob        ||dx||      ||grad||       alpha      alpha0  # evals  Notes \n",
      "     599       22656.2     0.0041577       1651.39           1           1      665   \n",
      "    Iter      log prob        ||dx||      ||grad||       alpha      alpha0  # evals  Notes \n",
      "     699       22693.6    0.00417755       1156.41           1           1      777   \n",
      "    Iter      log prob        ||dx||      ||grad||       alpha      alpha0  # evals  Notes \n",
      "     799       22708.9     0.0213411       1634.61           1           1      890   \n",
      "    Iter      log prob        ||dx||      ||grad||       alpha      alpha0  # evals  Notes \n",
      "     899       22735.6    0.00169922       1383.11      0.1487      0.8098     1003   \n",
      "    Iter      log prob        ||dx||      ||grad||       alpha      alpha0  # evals  Notes \n",
      "     999       22757.7   0.000383448       1110.98     0.09943           1     1116   \n",
      "    Iter      log prob        ||dx||      ||grad||       alpha      alpha0  # evals  Notes \n",
      "    1099       22761.3   0.000983108        333.86           1           1     1228   \n",
      "    Iter      log prob        ||dx||      ||grad||       alpha      alpha0  # evals  Notes \n",
      "    1199       22769.2    0.00604742       1616.17      0.8891      0.8891     1336   \n",
      "    Iter      log prob        ||dx||      ||grad||       alpha      alpha0  # evals  Notes \n",
      "    1299       22782.8    0.00385774       427.162           1           1     1457   \n",
      "    Iter      log prob        ||dx||      ||grad||       alpha      alpha0  # evals  Notes \n",
      "    1399       22788.6    0.00136383       230.002      0.6136           1     1566   \n",
      "    Iter      log prob        ||dx||      ||grad||       alpha      alpha0  # evals  Notes \n",
      "    1473       22790.4   2.31746e-05       392.783   2.837e-08       0.001     1706  LS failed, Hessian reset \n",
      "    1499       22790.8    0.00185771       424.142           1           1     1735   \n",
      "    Iter      log prob        ||dx||      ||grad||       alpha      alpha0  # evals  Notes \n",
      "    1599       22791.7   0.000162336       240.783           1           1     1856   \n",
      "    Iter      log prob        ||dx||      ||grad||       alpha      alpha0  # evals  Notes \n",
      "    1699       22793.7   0.000735104       608.896           1           1     1981   \n",
      "    Iter      log prob        ||dx||      ||grad||       alpha      alpha0  # evals  Notes \n",
      "    1799       22796.1    0.00153688       457.888           1           1     2093   \n",
      "    Iter      log prob        ||dx||      ||grad||       alpha      alpha0  # evals  Notes \n",
      "    1899       22796.7   0.000168729       170.263      0.7978      0.7978     2208   \n",
      "    Iter      log prob        ||dx||      ||grad||       alpha      alpha0  # evals  Notes \n",
      "    1999       22797.3   5.73756e-05       141.686      0.9881      0.9881     2337   \n",
      "    Iter      log prob        ||dx||      ||grad||       alpha      alpha0  # evals  Notes \n",
      "    2016       22797.4   1.84881e-05       90.1294   1.888e-07       0.001     2402  LS failed, Hessian reset \n",
      "    2099       22797.6   0.000363254       108.837           1           1     2502   \n",
      "    Iter      log prob        ||dx||      ||grad||       alpha      alpha0  # evals  Notes \n",
      "    2151       22799.2   2.97801e-05       588.296   4.068e-08       0.001     2623  LS failed, Hessian reset \n",
      "    2199       22800.4    0.00178194       282.825           1           1     2680   \n",
      "    Iter      log prob        ||dx||      ||grad||       alpha      alpha0  # evals  Notes \n",
      "    2254       22800.8   7.47896e-06       139.854   3.625e-08       0.001     2794  LS failed, Hessian reset \n",
      "    2299       22800.9   0.000270511       289.635      0.7067      0.7067     2847   \n",
      "    Iter      log prob        ||dx||      ||grad||       alpha      alpha0  # evals  Notes \n",
      "    2316         22801   4.24841e-06        66.637   2.633e-08       0.001     2922  LS failed, Hessian reset \n",
      "    2390       22801.2   1.52183e-05       271.725   6.491e-08       0.001     3060  LS failed, Hessian reset \n",
      "    2399       22801.2   6.64244e-06       87.2678           1           1     3070   \n",
      "    Iter      log prob        ||dx||      ||grad||       alpha      alpha0  # evals  Notes \n",
      "    2480       22801.2   5.09645e-06       60.2461      0.3211      0.3211     3172   \n",
      "Optimization terminated normally: \n",
      "  Convergence detected: relative gradient magnitude is below tolerance\n"
     ]
    }
   ],
   "source": [
    "from prophet import Prophet\n",
    "m = Prophet(daily_seasonality=False)\n",
    "m.fit(pr_df)"
   ]
  },
  {
   "cell_type": "code",
   "execution_count": 53,
   "id": "0b4edc10",
   "metadata": {},
   "outputs": [],
   "source": [
    "future = m.make_future_dataframe(1, freq='D')\n",
    "forecast = m.predict(future)"
   ]
  },
  {
   "cell_type": "code",
   "execution_count": 54,
   "id": "2e81fed6",
   "metadata": {},
   "outputs": [
    {
     "data": {
      "text/html": [
       "<div>\n",
       "<style scoped>\n",
       "    .dataframe tbody tr th:only-of-type {\n",
       "        vertical-align: middle;\n",
       "    }\n",
       "\n",
       "    .dataframe tbody tr th {\n",
       "        vertical-align: top;\n",
       "    }\n",
       "\n",
       "    .dataframe thead th {\n",
       "        text-align: right;\n",
       "    }\n",
       "</style>\n",
       "<table border=\"1\" class=\"dataframe\">\n",
       "  <thead>\n",
       "    <tr style=\"text-align: right;\">\n",
       "      <th></th>\n",
       "      <th>ds</th>\n",
       "      <th>trend</th>\n",
       "      <th>yhat_lower</th>\n",
       "      <th>yhat_upper</th>\n",
       "      <th>trend_lower</th>\n",
       "      <th>trend_upper</th>\n",
       "      <th>additive_terms</th>\n",
       "      <th>additive_terms_lower</th>\n",
       "      <th>additive_terms_upper</th>\n",
       "      <th>weekly</th>\n",
       "      <th>weekly_lower</th>\n",
       "      <th>weekly_upper</th>\n",
       "      <th>yearly</th>\n",
       "      <th>yearly_lower</th>\n",
       "      <th>yearly_upper</th>\n",
       "      <th>multiplicative_terms</th>\n",
       "      <th>multiplicative_terms_lower</th>\n",
       "      <th>multiplicative_terms_upper</th>\n",
       "      <th>yhat</th>\n",
       "    </tr>\n",
       "  </thead>\n",
       "  <tbody>\n",
       "    <tr>\n",
       "      <th>7170</th>\n",
       "      <td>2021-07-21</td>\n",
       "      <td>369.275201</td>\n",
       "      <td>357.902266</td>\n",
       "      <td>385.064880</td>\n",
       "      <td>369.275201</td>\n",
       "      <td>369.275201</td>\n",
       "      <td>2.011754</td>\n",
       "      <td>2.011754</td>\n",
       "      <td>2.011754</td>\n",
       "      <td>-0.017198</td>\n",
       "      <td>-0.017198</td>\n",
       "      <td>-0.017198</td>\n",
       "      <td>2.028952</td>\n",
       "      <td>2.028952</td>\n",
       "      <td>2.028952</td>\n",
       "      <td>0.0</td>\n",
       "      <td>0.0</td>\n",
       "      <td>0.0</td>\n",
       "      <td>371.286955</td>\n",
       "    </tr>\n",
       "    <tr>\n",
       "      <th>7171</th>\n",
       "      <td>2021-07-22</td>\n",
       "      <td>369.371966</td>\n",
       "      <td>358.081826</td>\n",
       "      <td>385.359631</td>\n",
       "      <td>369.371966</td>\n",
       "      <td>369.371966</td>\n",
       "      <td>1.892523</td>\n",
       "      <td>1.892523</td>\n",
       "      <td>1.892523</td>\n",
       "      <td>-0.005415</td>\n",
       "      <td>-0.005415</td>\n",
       "      <td>-0.005415</td>\n",
       "      <td>1.897938</td>\n",
       "      <td>1.897938</td>\n",
       "      <td>1.897938</td>\n",
       "      <td>0.0</td>\n",
       "      <td>0.0</td>\n",
       "      <td>0.0</td>\n",
       "      <td>371.264490</td>\n",
       "    </tr>\n",
       "    <tr>\n",
       "      <th>7172</th>\n",
       "      <td>2021-07-23</td>\n",
       "      <td>369.468732</td>\n",
       "      <td>358.224657</td>\n",
       "      <td>384.313637</td>\n",
       "      <td>369.468732</td>\n",
       "      <td>369.468732</td>\n",
       "      <td>1.669128</td>\n",
       "      <td>1.669128</td>\n",
       "      <td>1.669128</td>\n",
       "      <td>-0.081571</td>\n",
       "      <td>-0.081571</td>\n",
       "      <td>-0.081571</td>\n",
       "      <td>1.750700</td>\n",
       "      <td>1.750700</td>\n",
       "      <td>1.750700</td>\n",
       "      <td>0.0</td>\n",
       "      <td>0.0</td>\n",
       "      <td>0.0</td>\n",
       "      <td>371.137860</td>\n",
       "    </tr>\n",
       "    <tr>\n",
       "      <th>7173</th>\n",
       "      <td>2021-07-26</td>\n",
       "      <td>369.759028</td>\n",
       "      <td>357.673344</td>\n",
       "      <td>383.869124</td>\n",
       "      <td>369.759028</td>\n",
       "      <td>369.759028</td>\n",
       "      <td>1.121539</td>\n",
       "      <td>1.121539</td>\n",
       "      <td>1.121539</td>\n",
       "      <td>-0.109853</td>\n",
       "      <td>-0.109853</td>\n",
       "      <td>-0.109853</td>\n",
       "      <td>1.231392</td>\n",
       "      <td>1.231392</td>\n",
       "      <td>1.231392</td>\n",
       "      <td>0.0</td>\n",
       "      <td>0.0</td>\n",
       "      <td>0.0</td>\n",
       "      <td>370.880567</td>\n",
       "    </tr>\n",
       "    <tr>\n",
       "      <th>7174</th>\n",
       "      <td>2021-07-27</td>\n",
       "      <td>369.855794</td>\n",
       "      <td>357.879766</td>\n",
       "      <td>383.755848</td>\n",
       "      <td>369.855794</td>\n",
       "      <td>369.855794</td>\n",
       "      <td>1.036783</td>\n",
       "      <td>1.036783</td>\n",
       "      <td>1.036783</td>\n",
       "      <td>-0.003326</td>\n",
       "      <td>-0.003326</td>\n",
       "      <td>-0.003326</td>\n",
       "      <td>1.040109</td>\n",
       "      <td>1.040109</td>\n",
       "      <td>1.040109</td>\n",
       "      <td>0.0</td>\n",
       "      <td>0.0</td>\n",
       "      <td>0.0</td>\n",
       "      <td>370.892577</td>\n",
       "    </tr>\n",
       "  </tbody>\n",
       "</table>\n",
       "</div>"
      ],
      "text/plain": [
       "             ds       trend  yhat_lower  yhat_upper  trend_lower  trend_upper  \\\n",
       "7170 2021-07-21  369.275201  357.902266  385.064880   369.275201   369.275201   \n",
       "7171 2021-07-22  369.371966  358.081826  385.359631   369.371966   369.371966   \n",
       "7172 2021-07-23  369.468732  358.224657  384.313637   369.468732   369.468732   \n",
       "7173 2021-07-26  369.759028  357.673344  383.869124   369.759028   369.759028   \n",
       "7174 2021-07-27  369.855794  357.879766  383.755848   369.855794   369.855794   \n",
       "\n",
       "      additive_terms  additive_terms_lower  additive_terms_upper    weekly  \\\n",
       "7170        2.011754              2.011754              2.011754 -0.017198   \n",
       "7171        1.892523              1.892523              1.892523 -0.005415   \n",
       "7172        1.669128              1.669128              1.669128 -0.081571   \n",
       "7173        1.121539              1.121539              1.121539 -0.109853   \n",
       "7174        1.036783              1.036783              1.036783 -0.003326   \n",
       "\n",
       "      weekly_lower  weekly_upper    yearly  yearly_lower  yearly_upper  \\\n",
       "7170     -0.017198     -0.017198  2.028952      2.028952      2.028952   \n",
       "7171     -0.005415     -0.005415  1.897938      1.897938      1.897938   \n",
       "7172     -0.081571     -0.081571  1.750700      1.750700      1.750700   \n",
       "7173     -0.109853     -0.109853  1.231392      1.231392      1.231392   \n",
       "7174     -0.003326     -0.003326  1.040109      1.040109      1.040109   \n",
       "\n",
       "      multiplicative_terms  multiplicative_terms_lower  \\\n",
       "7170                   0.0                         0.0   \n",
       "7171                   0.0                         0.0   \n",
       "7172                   0.0                         0.0   \n",
       "7173                   0.0                         0.0   \n",
       "7174                   0.0                         0.0   \n",
       "\n",
       "      multiplicative_terms_upper        yhat  \n",
       "7170                         0.0  371.286955  \n",
       "7171                         0.0  371.264490  \n",
       "7172                         0.0  371.137860  \n",
       "7173                         0.0  370.880567  \n",
       "7174                         0.0  370.892577  "
      ]
     },
     "execution_count": 54,
     "metadata": {},
     "output_type": "execute_result"
    }
   ],
   "source": [
    "forecast.tail()"
   ]
  },
  {
   "cell_type": "code",
   "execution_count": 55,
   "id": "ab289c5b",
   "metadata": {},
   "outputs": [
    {
     "data": {
      "image/png": "[encoded data removed]",
      "text/plain": [
       "<Figure size 720x432 with 1 Axes>"
      ]
     },
     "metadata": {},
     "output_type": "display_data"
    }
   ],
   "source": [
    "fig1 = m.plot(forecast)"
   ]
  },
  {
   "cell_type": "markdown",
   "id": "b3990a77",
   "metadata": {},
   "source": [
    "### Predict tomorrw's close price"
   ]
  },
  {
   "cell_type": "code",
   "execution_count": 56,
   "id": "1fbd75f2",
   "metadata": {},
   "outputs": [
    {
     "name": "stdout",
     "output_type": "stream",
     "text": [
      "RNN predicted SPY tomorrow price : [417.07364]\n"
     ]
    }
   ],
   "source": [
    "print(f'RNN predicted {tickers} tomorrow price : {df.Close[-1]*pred_y[-1]/dfy.Close[-1]}')"
   ]
  },
  {
   "cell_type": "code",
   "execution_count": 57,
   "id": "8c3d616f",
   "metadata": {},
   "outputs": [
    {
     "name": "stdout",
     "output_type": "stream",
     "text": [
      "LSTM predicted SPY tomorrow price : [475.3836]\n"
     ]
    }
   ],
   "source": [
    "print(f'LSTM predicted {tickers} tomorrow price : {df.Close[-1]*pred_y2[-1]/dfy.Close[-1]}')"
   ]
  },
  {
   "cell_type": "code",
   "execution_count": 58,
   "id": "b576eab9",
   "metadata": {},
   "outputs": [
    {
     "name": "stdout",
     "output_type": "stream",
     "text": [
      "Prophet predicted SPY tomorrow price : [370.89257720150385]\n"
     ]
    }
   ],
   "source": [
    "print(f'Prophet predicted {tickers} tomorrow price : [{forecast.loc[forecast.index[-1], \"yhat\"]}]')"
   ]
  },
  {
   "cell_type": "code",
   "execution_count": null,
   "id": "8b8f2cda",
   "metadata": {},
   "outputs": [],
   "source": []
  }
 ],
 "metadata": {
  "kernelspec": {
   "display_name": "Python 3 (ipykernel)",
   "language": "python",
   "name": "python3"
  },
  "language_info": {
   "codemirror_mode": {
    "name": "ipython",
    "version": 3
   },
   "file_extension": ".py",
   "mimetype": "text/x-python",
   "name": "python",
   "nbconvert_exporter": "python",
   "pygments_lexer": "ipython3",
   "version": "3.9.6"
  }
 },
 "nbformat": 4,
 "nbformat_minor": 5
}

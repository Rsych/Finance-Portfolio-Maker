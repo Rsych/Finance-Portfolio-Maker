{
 "cells": [
  {
   "cell_type": "markdown",
   "id": "83f41b5d",
   "metadata": {},
   "source": [
    "# RNN stock price predictor\n",
    "\n",
    "Using Recurrent neural network (RNN) and Long short-term memory (LSTM) algorithm, one of deep learning technique, we'll predict selected ticker's future price. \n",
    "\n",
    "Note : This is just a basic code, hence it's not suitable to apply in real life market, and any investment should be your own decision also risk you take.\n",
    "\n",
    "\n",
    "\n"
   ]
  },
  {
   "cell_type": "markdown",
   "id": "a6414717",
   "metadata": {},
   "source": [
    "## Recurrent Neural Network (RNN)\n",
    "\n",
    "Recurrent neural networks (RNN) are the state of the art algorithm for sequential data and are used by Apple's Siri and and Google's voice search. In RNN, neuron is called cell, information of previously trained cell is used for next cell, hence it is suitable to process sequential data.\n",
    "\n",
    "[image : RNN]"
   ]
  },
  {
   "cell_type": "markdown",
   "id": "b4dbe791",
   "metadata": {},
   "source": [
    "## Long short-term memory\n",
    "\n",
    "RNN can store short-term memory, to find correlations of data, it needs long term memory, LSTM is used to support \n",
    "this.\n",
    "\n",
    "A common LSTM unit is composed of a cell, an input gate, an output gate and a forget gate. The cell remembers values over arbitrary time intervals and the three gates regulate the flow of information into and out of the cell.\n"
   ]
  },
  {
   "cell_type": "markdown",
   "id": "c0393143",
   "metadata": {},
   "source": [
    "## Stock price predictor\n",
    "\n",
    "\n",
    "### data cleansing"
   ]
  },
  {
   "cell_type": "code",
   "execution_count": 1,
   "id": "ec93ea6b",
   "metadata": {},
   "outputs": [],
   "source": [
    "import pandas as pd\n",
    "import yfinance as yf\n",
    "import numpy as np\n",
    "import matplotlib.pyplot as plt\n",
    "# To prevent TF complier error\n",
    "import os\n",
    "os.environ['TF_CPP_MIN_LOG_LEVEL'] = '2'\n",
    "# Model\n",
    "import tensorflow as tf\n",
    "from keras.layers import Dense, SimpleRNN, LSTM, Dropout, Bidirectional, Activation\n",
    "from keras.models import Sequential\n",
    "\n",
    "\n",
    "    \n",
    "def get_tickers(ticker):\n",
    "    data = yf.Ticker(ticker)\n",
    "    x = data.history(period='max', auto_adjust=True)\n",
    "#     x = pdr.get_data_yahoo(tickers, start=date_from)\n",
    "    df = pd.DataFrame(x[['Open', 'High', 'Low', 'Volume', 'Close']])\n",
    "    df.fillna(method='bfill', inplace=True)\n",
    "    df.fillna(method='ffill', inplace=True)\n",
    "    df.rename(columns={'Close' : 'Close'}, inplace=True)\n",
    "    return df\n",
    "\n",
    "def Normalizer(data):\n",
    "    numerator = data - np.min(data,0)\n",
    "    denominator = np.max(data, 0) - np.min(data,0)\n",
    "    return numerator / (denominator + 1e-7)"
   ]
  },
  {
   "cell_type": "code",
   "execution_count": 2,
   "id": "f006ee93",
   "metadata": {},
   "outputs": [
    {
     "data": {
      "text/html": [
       "<div>\n",
       "<style scoped>\n",
       "    .dataframe tbody tr th:only-of-type {\n",
       "        vertical-align: middle;\n",
       "    }\n",
       "\n",
       "    .dataframe tbody tr th {\n",
       "        vertical-align: top;\n",
       "    }\n",
       "\n",
       "    .dataframe thead th {\n",
       "        text-align: right;\n",
       "    }\n",
       "</style>\n",
       "<table border=\"1\" class=\"dataframe\">\n",
       "  <thead>\n",
       "    <tr style=\"text-align: right;\">\n",
       "      <th></th>\n",
       "      <th>Open</th>\n",
       "      <th>High</th>\n",
       "      <th>Low</th>\n",
       "      <th>Volume</th>\n",
       "      <th>Close</th>\n",
       "    </tr>\n",
       "    <tr>\n",
       "      <th>Date</th>\n",
       "      <th></th>\n",
       "      <th></th>\n",
       "      <th></th>\n",
       "      <th></th>\n",
       "      <th></th>\n",
       "    </tr>\n",
       "  </thead>\n",
       "  <tbody>\n",
       "    <tr>\n",
       "      <th>2002-02-13</th>\n",
       "      <td>6.480513</td>\n",
       "      <td>6.773399</td>\n",
       "      <td>6.413183</td>\n",
       "      <td>19054000</td>\n",
       "      <td>6.766666</td>\n",
       "    </tr>\n",
       "    <tr>\n",
       "      <th>2002-02-14</th>\n",
       "      <td>6.850831</td>\n",
       "      <td>6.864296</td>\n",
       "      <td>6.682506</td>\n",
       "      <td>2755400</td>\n",
       "      <td>6.733003</td>\n",
       "    </tr>\n",
       "    <tr>\n",
       "      <th>2002-02-15</th>\n",
       "      <td>6.733001</td>\n",
       "      <td>6.749833</td>\n",
       "      <td>6.632006</td>\n",
       "      <td>2097400</td>\n",
       "      <td>6.699336</td>\n",
       "    </tr>\n",
       "    <tr>\n",
       "      <th>2002-02-19</th>\n",
       "      <td>6.665671</td>\n",
       "      <td>6.665671</td>\n",
       "      <td>6.312189</td>\n",
       "      <td>1852600</td>\n",
       "      <td>6.430017</td>\n",
       "    </tr>\n",
       "    <tr>\n",
       "      <th>2002-02-20</th>\n",
       "      <td>6.463681</td>\n",
       "      <td>6.648838</td>\n",
       "      <td>6.413183</td>\n",
       "      <td>1723200</td>\n",
       "      <td>6.648838</td>\n",
       "    </tr>\n",
       "    <tr>\n",
       "      <th>...</th>\n",
       "      <td>...</td>\n",
       "      <td>...</td>\n",
       "      <td>...</td>\n",
       "      <td>...</td>\n",
       "      <td>...</td>\n",
       "    </tr>\n",
       "    <tr>\n",
       "      <th>2021-07-15</th>\n",
       "      <td>160.000000</td>\n",
       "      <td>171.990005</td>\n",
       "      <td>158.009995</td>\n",
       "      <td>4298600</td>\n",
       "      <td>166.820007</td>\n",
       "    </tr>\n",
       "    <tr>\n",
       "      <th>2021-07-16</th>\n",
       "      <td>170.149994</td>\n",
       "      <td>179.470001</td>\n",
       "      <td>166.300003</td>\n",
       "      <td>3278800</td>\n",
       "      <td>169.039993</td>\n",
       "    </tr>\n",
       "    <tr>\n",
       "      <th>2021-07-19</th>\n",
       "      <td>163.300003</td>\n",
       "      <td>176.000000</td>\n",
       "      <td>161.220001</td>\n",
       "      <td>2436900</td>\n",
       "      <td>173.490005</td>\n",
       "    </tr>\n",
       "    <tr>\n",
       "      <th>2021-07-20</th>\n",
       "      <td>173.899994</td>\n",
       "      <td>193.639999</td>\n",
       "      <td>172.419998</td>\n",
       "      <td>3094100</td>\n",
       "      <td>191.179993</td>\n",
       "    </tr>\n",
       "    <tr>\n",
       "      <th>2021-07-21</th>\n",
       "      <td>187.789993</td>\n",
       "      <td>195.509995</td>\n",
       "      <td>182.110001</td>\n",
       "      <td>2225900</td>\n",
       "      <td>185.809998</td>\n",
       "    </tr>\n",
       "  </tbody>\n",
       "</table>\n",
       "<p>4893 rows × 5 columns</p>\n",
       "</div>"
      ],
      "text/plain": [
       "                  Open        High         Low    Volume       Close\n",
       "Date                                                                \n",
       "2002-02-13    6.480513    6.773399    6.413183  19054000    6.766666\n",
       "2002-02-14    6.850831    6.864296    6.682506   2755400    6.733003\n",
       "2002-02-15    6.733001    6.749833    6.632006   2097400    6.699336\n",
       "2002-02-19    6.665671    6.665671    6.312189   1852600    6.430017\n",
       "2002-02-20    6.463681    6.648838    6.413183   1723200    6.648838\n",
       "...                ...         ...         ...       ...         ...\n",
       "2021-07-15  160.000000  171.990005  158.009995   4298600  166.820007\n",
       "2021-07-16  170.149994  179.470001  166.300003   3278800  169.039993\n",
       "2021-07-19  163.300003  176.000000  161.220001   2436900  173.490005\n",
       "2021-07-20  173.899994  193.639999  172.419998   3094100  191.179993\n",
       "2021-07-21  187.789993  195.509995  182.110001   2225900  185.809998\n",
       "\n",
       "[4893 rows x 5 columns]"
      ]
     },
     "execution_count": 2,
     "metadata": {},
     "output_type": "execute_result"
    }
   ],
   "source": [
    "tickers = 'GME'\n",
    "df = get_tickers(tickers)\n",
    "df"
   ]
  },
  {
   "cell_type": "code",
   "execution_count": 3,
   "id": "1e3b91ca",
   "metadata": {},
   "outputs": [],
   "source": [
    "dfx = Normalizer(df)\n",
    "dfy = dfx[['Close']]\n",
    "\n",
    "\n",
    "x = dfx.values.tolist()\n",
    "y = dfy.values.tolist()"
   ]
  },
  {
   "cell_type": "code",
   "execution_count": 4,
   "id": "f3f24f0f",
   "metadata": {},
   "outputs": [
    {
     "name": "stdout",
     "output_type": "stream",
     "text": [
      "<class 'pandas.core.frame.DataFrame'>\n",
      "DatetimeIndex: 4893 entries, 2002-02-13 to 2021-07-21\n",
      "Data columns (total 5 columns):\n",
      " #   Column  Non-Null Count  Dtype  \n",
      "---  ------  --------------  -----  \n",
      " 0   Open    4893 non-null   float64\n",
      " 1   High    4893 non-null   float64\n",
      " 2   Low     4893 non-null   float64\n",
      " 3   Volume  4893 non-null   float64\n",
      " 4   Close   4893 non-null   float64\n",
      "dtypes: float64(5)\n",
      "memory usage: 229.4 KB\n"
     ]
    }
   ],
   "source": [
    "dfx.info()"
   ]
  },
  {
   "cell_type": "code",
   "execution_count": 5,
   "id": "1fe6ddc6",
   "metadata": {},
   "outputs": [
    {
     "name": "stdout",
     "output_type": "stream",
     "text": [
      "<class 'pandas.core.frame.DataFrame'>\n",
      "DatetimeIndex: 4893 entries, 2002-02-13 to 2021-07-21\n",
      "Data columns (total 1 columns):\n",
      " #   Column  Non-Null Count  Dtype  \n",
      "---  ------  --------------  -----  \n",
      " 0   Close   4893 non-null   float64\n",
      "dtypes: float64(1)\n",
      "memory usage: 76.5 KB\n"
     ]
    }
   ],
   "source": [
    "dfy.info()"
   ]
  },
  {
   "cell_type": "code",
   "execution_count": 6,
   "id": "55cedf19",
   "metadata": {},
   "outputs": [],
   "source": [
    "data_x = []\n",
    "data_y = []\n",
    "window_size = 10\n",
    "for i in range(len(y) - window_size):\n",
    "    _x = x[i : i + window_size] # not including next day close (i+window_size)\n",
    "    _y = y[i + window_size] # Next day close\n",
    "    data_x.append(_x)\n",
    "    data_y.append(_y)"
   ]
  },
  {
   "cell_type": "markdown",
   "id": "fb1810ad",
   "metadata": {},
   "source": [
    "Run `print(_x, \"->\", _y)` to see _x values added to data_x and _y"
   ]
  },
  {
   "cell_type": "code",
   "execution_count": 7,
   "id": "73637c0b",
   "metadata": {},
   "outputs": [
    {
     "name": "stdout",
     "output_type": "stream",
     "text": [
      "[[0.512879533059172, 0.4055924267117284, 0.6056890169403366, 0.021180367227840263, 0.5453027757404874], [0.470003601315811, 0.3987635086237864, 0.6124021734755716, 0.014168445438673837, 0.5473900090434455], [0.4993034918699731, 0.39992941681900346, 0.6374899691616293, 0.007682164096220611, 0.546955142968733], [0.5007353235273551, 0.4061129237109229, 0.6398084211854268, 0.007972382566799713, 0.5412152735026805], [0.4908184256669295, 0.3874582972816026, 0.6106719806696365, 0.01183655017506972, 0.5145740976290649], [0.4717536492546733, 0.37411277836640455, 0.5624688344409082, 0.0195278470203645, 0.478511398514156], [0.4174229024130799, 0.35248092435062744, 0.5380384676680188, 0.0214802258224421, 0.47619228971901567], [0.4443363529252132, 0.36805418567131326, 0.566725093959146, 0.01630601609697761, 0.48262787412994435], [0.4261731016475972, 0.3608296847810049, 0.5491463287146909, 0.012034426405010018, 0.49552814903227776], [0.4542797519508478, 0.39755595177342135, 0.5879026370073764, 0.015368894566978306, 0.5468101876104956]] -> [0.5312429464405838]\n"
     ]
    }
   ],
   "source": [
    "print(_x, \"->\", _y)"
   ]
  },
  {
   "cell_type": "markdown",
   "id": "022b29b0",
   "metadata": {},
   "source": [
    "Past 10 days, given data, latest close is 0.8726370803053053, next day close is 0.8677396475977315"
   ]
  },
  {
   "cell_type": "markdown",
   "id": "3678ab6e",
   "metadata": {},
   "source": [
    "### Prepare train / test dataset"
   ]
  },
  {
   "cell_type": "code",
   "execution_count": 8,
   "id": "3f9b2e9f",
   "metadata": {},
   "outputs": [],
   "source": [
    "# train dataset\n",
    "train_size = int(len(data_y) * 0.7)\n",
    "train_x = np.array(data_x[0 : train_size])\n",
    "train_y = np.array(data_y[0 : train_size])\n",
    "\n",
    "# test dataset\n",
    "test_size = len(data_y) - train_size\n",
    "test_x = np.array(data_x[train_size : len(data_x)])\n",
    "test_y = np.array(data_y[train_size : len(data_y)])"
   ]
  },
  {
   "cell_type": "markdown",
   "id": "c06dff18",
   "metadata": {},
   "source": [
    "### Build model with SimpleRNN"
   ]
  },
  {
   "cell_type": "code",
   "execution_count": 9,
   "id": "f2b16739",
   "metadata": {},
   "outputs": [
    {
     "name": "stdout",
     "output_type": "stream",
     "text": [
      "Model: \"sequential\"\n",
      "_________________________________________________________________\n",
      "Layer (type)                 Output Shape              Param #   \n",
      "=================================================================\n",
      "simple_rnn (SimpleRNN)       (None, 10, 20)            520       \n",
      "_________________________________________________________________\n",
      "dropout (Dropout)            (None, 10, 20)            0         \n",
      "_________________________________________________________________\n",
      "simple_rnn_1 (SimpleRNN)     (None, 40)                2440      \n",
      "_________________________________________________________________\n",
      "dropout_1 (Dropout)          (None, 40)                0         \n",
      "_________________________________________________________________\n",
      "dense (Dense)                (None, 1)                 41        \n",
      "=================================================================\n",
      "Total params: 3,001\n",
      "Trainable params: 3,001\n",
      "Non-trainable params: 0\n",
      "_________________________________________________________________\n"
     ]
    }
   ],
   "source": [
    "model_rnn = Sequential()\n",
    "\n",
    "model_rnn.add(SimpleRNN(units = 20, activation='relu',\n",
    "                   return_sequences=True, input_shape=(window_size, 5)))\n",
    "model_rnn.add(Dropout(0.1))\n",
    "model_rnn.add(SimpleRNN(units=40, activation='relu'))\n",
    "model_rnn.add(Dropout(0.1))\n",
    "model_rnn.add(Dense(units=1))\n",
    "model_rnn.summary()"
   ]
  },
  {
   "cell_type": "markdown",
   "id": "0b319a27",
   "metadata": {},
   "source": [
    "### Model fit"
   ]
  },
  {
   "cell_type": "code",
   "execution_count": 10,
   "id": "2be021cb",
   "metadata": {
    "scrolled": true
   },
   "outputs": [
    {
     "name": "stdout",
     "output_type": "stream",
     "text": [
      "Epoch 1/30\n",
      "114/114 [==============================] - 27s 6ms/step - loss: 1.9555e-04 - accuracy: 2.3540e-05\n",
      "Epoch 2/30\n",
      "114/114 [==============================] - 1s 6ms/step - loss: 5.1302e-05 - accuracy: 0.0013\n",
      "Epoch 3/30\n",
      "114/114 [==============================] - 1s 6ms/step - loss: 3.3150e-05 - accuracy: 1.5572e-04\n",
      "Epoch 4/30\n",
      "114/114 [==============================] - 1s 6ms/step - loss: 3.4961e-05 - accuracy: 2.9671e-04\n",
      "Epoch 5/30\n",
      "114/114 [==============================] - 1s 6ms/step - loss: 3.0402e-05 - accuracy: 5.8190e-05\n",
      "Epoch 6/30\n",
      "114/114 [==============================] - 1s 6ms/step - loss: 2.5737e-05 - accuracy: 1.0241e-05\n",
      "Epoch 7/30\n",
      "114/114 [==============================] - 1s 6ms/step - loss: 2.6290e-05 - accuracy: 1.9228e-04\n",
      "Epoch 8/30\n",
      "114/114 [==============================] - 1s 6ms/step - loss: 2.5359e-05 - accuracy: 2.0728e-04\n",
      "Epoch 9/30\n",
      "114/114 [==============================] - 1s 6ms/step - loss: 2.4023e-05 - accuracy: 1.5572e-04\n",
      "Epoch 10/30\n",
      "114/114 [==============================] - 1s 6ms/step - loss: 2.3034e-05 - accuracy: 1.8147e-05\n",
      "Epoch 11/30\n",
      "114/114 [==============================] - 1s 7ms/step - loss: 2.0059e-05 - accuracy: 4.9131e-05\n",
      "Epoch 12/30\n",
      "114/114 [==============================] - 1s 7ms/step - loss: 2.2641e-05 - accuracy: 2.6274e-05\n",
      "Epoch 13/30\n",
      "114/114 [==============================] - 1s 7ms/step - loss: 1.9056e-05 - accuracy: 5.6401e-04\n",
      "Epoch 14/30\n",
      "114/114 [==============================] - 1s 7ms/step - loss: 2.0239e-05 - accuracy: 1.9228e-04\n",
      "Epoch 15/30\n",
      "114/114 [==============================] - 1s 7ms/step - loss: 1.9673e-05 - accuracy: 4.6174e-05\n",
      "Epoch 16/30\n",
      "114/114 [==============================] - 1s 7ms/step - loss: 1.7985e-05 - accuracy: 2.8307e-04\n",
      "Epoch 17/30\n",
      "114/114 [==============================] - 1s 7ms/step - loss: 1.7655e-05 - accuracy: 1.2853e-05\n",
      "Epoch 18/30\n",
      "114/114 [==============================] - 1s 7ms/step - loss: 1.7016e-05 - accuracy: 5.8213e-04\n",
      "Epoch 19/30\n",
      "114/114 [==============================] - 1s 7ms/step - loss: 1.9645e-05 - accuracy: 3.4197e-04\n",
      "Epoch 20/30\n",
      "114/114 [==============================] - 1s 11ms/step - loss: 1.9068e-05 - accuracy: 2.0219e-04\n",
      "Epoch 21/30\n",
      "114/114 [==============================] - 1s 8ms/step - loss: 1.7429e-05 - accuracy: 3.7662e-04\n",
      "Epoch 22/30\n",
      "114/114 [==============================] - 1s 12ms/step - loss: 1.7577e-05 - accuracy: 6.7541e-05\n",
      "Epoch 23/30\n",
      "114/114 [==============================] - 1s 10ms/step - loss: 1.7666e-05 - accuracy: 8.7199e-05\n",
      "Epoch 24/30\n",
      "114/114 [==============================] - 1s 6ms/step - loss: 1.7969e-05 - accuracy: 4.7413e-04\n",
      "Epoch 25/30\n",
      "114/114 [==============================] - 1s 6ms/step - loss: 1.7476e-05 - accuracy: 1.6889e-04\n",
      "Epoch 26/30\n",
      "114/114 [==============================] - 1s 11ms/step - loss: 1.6611e-05 - accuracy: 2.2309e-04\n",
      "Epoch 27/30\n",
      "114/114 [==============================] - 2s 14ms/step - loss: 1.8294e-05 - accuracy: 9.7552e-05\n",
      "Epoch 28/30\n",
      "114/114 [==============================] - 1s 9ms/step - loss: 1.6385e-05 - accuracy: 9.4060e-05\n",
      "Epoch 29/30\n",
      "114/114 [==============================] - 1s 7ms/step - loss: 1.6827e-05 - accuracy: 1.1567e-04\n",
      "Epoch 30/30\n",
      "114/114 [==============================] - 1s 7ms/step - loss: 1.6261e-05 - accuracy: 8.7199e-05\n"
     ]
    }
   ],
   "source": [
    "model_rnn.compile(optimizer='adam', loss='mean_squared_error', metrics = ['accuracy'])\n",
    "history = model_rnn.fit(train_x, train_y, epochs=30, batch_size=30)\n",
    "pred_y = model_rnn.predict(test_x)"
   ]
  },
  {
   "cell_type": "markdown",
   "id": "1adcd4dc",
   "metadata": {},
   "source": [
    "### Compare prediction to real"
   ]
  },
  {
   "cell_type": "code",
   "execution_count": 11,
   "id": "8b7ceaae",
   "metadata": {},
   "outputs": [
    {
     "data": {
      "image/png": "[encoded data removed]",
      "text/plain": [
       "<Figure size 1152x576 with 1 Axes>"
      ]
     },
     "metadata": {
      "needs_background": "light"
     },
     "output_type": "display_data"
    }
   ],
   "source": [
    "plt.figure(figsize=(16,8))\n",
    "plt.plot(test_y, c='r', label='real stock price')\n",
    "plt.plot(pred_y, c='blue', label='predicted stock price')\n",
    "plt.title(f'{tickers} Stock price prediction')\n",
    "plt.xlabel('time')\n",
    "plt.ylabel('stock price')\n",
    "plt.legend()\n",
    "plt.show()"
   ]
  },
  {
   "cell_type": "markdown",
   "id": "75ec750f",
   "metadata": {},
   "source": [
    "### Build model with LSTM"
   ]
  },
  {
   "cell_type": "code",
   "execution_count": 12,
   "id": "52cd247a",
   "metadata": {},
   "outputs": [
    {
     "name": "stdout",
     "output_type": "stream",
     "text": [
      "Model: \"sequential_1\"\n",
      "_________________________________________________________________\n",
      "Layer (type)                 Output Shape              Param #   \n",
      "=================================================================\n",
      "lstm (LSTM)                  (None, 10, 64)            17920     \n",
      "_________________________________________________________________\n",
      "lstm_1 (LSTM)                (None, 64)                33024     \n",
      "_________________________________________________________________\n",
      "dense_1 (Dense)              (None, 32)                2080      \n",
      "_________________________________________________________________\n",
      "dense_2 (Dense)              (None, 1)                 33        \n",
      "=================================================================\n",
      "Total params: 53,057\n",
      "Trainable params: 53,057\n",
      "Non-trainable params: 0\n",
      "_________________________________________________________________\n"
     ]
    }
   ],
   "source": [
    "# model = keras.Sequential()\n",
    "# model.add(layers.LSTM(units=10, activation='relu',\n",
    "#                       return_sequences=True, input_shape=(window_size, 5)))\n",
    "# model.add(layers.Dropout(0.1))\n",
    "# model.add(layers.LSTM(units=10, activation='relu'))\n",
    "# model.add(layers.Dropout(0.1))\n",
    "# model.add(layers.Dense(units=1))\n",
    "# model.summary()\n",
    "\n",
    "model_lstm = Sequential()\n",
    "model_lstm.add(LSTM(units=64, activation='relu',\n",
    "                   return_sequences=True, input_shape=(window_size, 5)))\n",
    "model_lstm.add(LSTM(units=64, activation='relu',\n",
    "                   return_sequences=False))\n",
    "model_lstm.add(Dense(units=32))\n",
    "model_lstm.add(Dense(units=1))\n",
    "model_lstm.summary()"
   ]
  },
  {
   "cell_type": "code",
   "execution_count": 13,
   "id": "1828fce2",
   "metadata": {
    "scrolled": false
   },
   "outputs": [
    {
     "name": "stdout",
     "output_type": "stream",
     "text": [
      "Epoch 1/30\n",
      "114/114 [==============================] - 11s 17ms/step - loss: 4.2623e-04 - accuracy: 1.9228e-04\n",
      "Epoch 2/30\n",
      "114/114 [==============================] - 2s 19ms/step - loss: 1.0455e-05 - accuracy: 1.5488e-05\n",
      "Epoch 3/30\n",
      "114/114 [==============================] - 2s 19ms/step - loss: 9.5429e-06 - accuracy: 4.7413e-04\n",
      "Epoch 4/30\n",
      "114/114 [==============================] - 2s 18ms/step - loss: 1.0265e-05 - accuracy: 4.0562e-04\n",
      "Epoch 5/30\n",
      "114/114 [==============================] - 2s 19ms/step - loss: 1.0292e-05 - accuracy: 3.4197e-04\n",
      "Epoch 6/30\n",
      "114/114 [==============================] - 4s 31ms/step - loss: 1.1312e-05 - accuracy: 2.3413e-04\n",
      "Epoch 7/30\n",
      "114/114 [==============================] - 2s 14ms/step - loss: 1.0647e-05 - accuracy: 5.8190e-05\n",
      "Epoch 8/30\n",
      "114/114 [==============================] - 2s 13ms/step - loss: 1.0766e-05 - accuracy: 5.8213e-04\n",
      "Epoch 9/30\n",
      "114/114 [==============================] - 3s 25ms/step - loss: 8.2608e-06 - accuracy: 6.7541e-05 1s -\n",
      "Epoch 10/30\n",
      "114/114 [==============================] - 2s 19ms/step - loss: 8.8246e-06 - accuracy: 1.5572e-04\n",
      "Epoch 11/30\n",
      "114/114 [==============================] - 2s 17ms/step - loss: 8.3092e-06 - accuracy: 3.4636e-05\n",
      "Epoch 12/30\n",
      "114/114 [==============================] - 1s 12ms/step - loss: 1.0318e-05 - accuracy: 5.0882e-06\n",
      "Epoch 13/30\n",
      "114/114 [==============================] - 2s 16ms/step - loss: 8.4089e-06 - accuracy: 7.5615e-04\n",
      "Epoch 14/30\n",
      "114/114 [==============================] - 2s 13ms/step - loss: 1.0128e-05 - accuracy: 7.9238e-04\n",
      "Epoch 15/30\n",
      "114/114 [==============================] - 2s 13ms/step - loss: 8.3119e-06 - accuracy: 1.0241e-05\n",
      "Epoch 16/30\n",
      "114/114 [==============================] - 2s 14ms/step - loss: 7.4792e-06 - accuracy: 6.6861e-04\n",
      "Epoch 17/30\n",
      "114/114 [==============================] - 2s 14ms/step - loss: 7.6999e-06 - accuracy: 4.9131e-05\n",
      "Epoch 18/30\n",
      "114/114 [==============================] - 2s 14ms/step - loss: 7.1406e-06 - accuracy: 3.4636e-05\n",
      "Epoch 19/30\n",
      "114/114 [==============================] - 2s 14ms/step - loss: 7.5044e-06 - accuracy: 2.0728e-04\n",
      "Epoch 20/30\n",
      "114/114 [==============================] - 2s 14ms/step - loss: 6.8868e-06 - accuracy: 1.5488e-05\n",
      "Epoch 21/30\n",
      "114/114 [==============================] - 2s 14ms/step - loss: 5.9559e-06 - accuracy: 2.0219e-04\n",
      "Epoch 22/30\n",
      "114/114 [==============================] - 2s 15ms/step - loss: 6.6987e-06 - accuracy: 6.7541e-05\n",
      "Epoch 23/30\n",
      "114/114 [==============================] - 2s 14ms/step - loss: 6.0320e-06 - accuracy: 1.6004e-04\n",
      "Epoch 24/30\n",
      "114/114 [==============================] - 2s 15ms/step - loss: 7.9846e-06 - accuracy: 2.9671e-04\n",
      "Epoch 25/30\n",
      "114/114 [==============================] - 2s 19ms/step - loss: 5.9634e-06 - accuracy: 2.4561e-04\n",
      "Epoch 26/30\n",
      "114/114 [==============================] - 2s 13ms/step - loss: 7.1029e-06 - accuracy: 0.0011\n",
      "Epoch 27/30\n",
      "114/114 [==============================] - 2s 14ms/step - loss: 7.5544e-06 - accuracy: 1.2712e-04\n",
      "Epoch 28/30\n",
      "114/114 [==============================] - 2s 14ms/step - loss: 5.9238e-06 - accuracy: 8.3379e-04\n",
      "Epoch 29/30\n",
      "114/114 [==============================] - 2s 14ms/step - loss: 6.2642e-06 - accuracy: 3.5025e-04\n",
      "Epoch 30/30\n",
      "114/114 [==============================] - 2s 14ms/step - loss: 5.7938e-06 - accuracy: 1.9228e-04\n"
     ]
    }
   ],
   "source": [
    "model_lstm.compile(optimizer='adam',loss='mean_squared_error', metrics=['accuracy'])\n",
    "history2 = model_lstm.fit(train_x, train_y, epochs=30, batch_size=30)\n",
    "pred_y2 = model_lstm.predict(test_x)"
   ]
  },
  {
   "cell_type": "markdown",
   "id": "8b87df2d",
   "metadata": {},
   "source": [
    "### Compare prediction to real"
   ]
  },
  {
   "cell_type": "code",
   "execution_count": 14,
   "id": "a21e495c",
   "metadata": {},
   "outputs": [
    {
     "data": {
      "image/png": "[encoded data removed]",
      "text/plain": [
       "<Figure size 1152x576 with 1 Axes>"
      ]
     },
     "metadata": {
      "needs_background": "light"
     },
     "output_type": "display_data"
    }
   ],
   "source": [
    "plt.figure(figsize=(16,8))\n",
    "plt.plot(test_y, c='r', label='real stock price')\n",
    "plt.plot(pred_y2, c='blue', label='pridected stock price')\n",
    "plt.title(f'{tickers} Stock price prediction')\n",
    "plt.xlabel('time')\n",
    "plt.ylabel('stock price')\n",
    "plt.legend()\n",
    "plt.show()"
   ]
  },
  {
   "cell_type": "markdown",
   "id": "32210c82",
   "metadata": {},
   "source": [
    "## Evaluating Model"
   ]
  },
  {
   "cell_type": "code",
   "execution_count": 15,
   "id": "06f608b0",
   "metadata": {},
   "outputs": [],
   "source": [
    "# Losses\n",
    "history.history['loss'];"
   ]
  },
  {
   "cell_type": "code",
   "execution_count": 16,
   "id": "bc30a768",
   "metadata": {},
   "outputs": [
    {
     "data": {
      "image/png": "[encoded data removed]",
      "text/plain": [
       "<Figure size 864x576 with 1 Axes>"
      ]
     },
     "metadata": {
      "needs_background": "light"
     },
     "output_type": "display_data"
    }
   ],
   "source": [
    "# plot loss vs epochs\n",
    "plt.figure(figsize=(12,8))\n",
    "plt.plot(history.history['loss'])\n",
    "plt.xlabel('Epochs')\n",
    "plt.ylabel('Losses')\n",
    "plt.title('Simple RNN model, Loss vs Epoch')\n",
    "plt.show()"
   ]
  },
  {
   "cell_type": "code",
   "execution_count": 17,
   "id": "87182aa4",
   "metadata": {
    "scrolled": true
   },
   "outputs": [],
   "source": [
    "history2.history['loss'];"
   ]
  },
  {
   "cell_type": "code",
   "execution_count": 18,
   "id": "54609ce5",
   "metadata": {},
   "outputs": [
    {
     "data": {
      "image/png": "[encoded data removed]",
      "text/plain": [
       "<Figure size 864x576 with 1 Axes>"
      ]
     },
     "metadata": {
      "needs_background": "light"
     },
     "output_type": "display_data"
    }
   ],
   "source": [
    "# plot loss vs epochs\n",
    "plt.figure(figsize=(12,8))\n",
    "plt.plot(history2.history['loss'])\n",
    "plt.xlabel('Epochs')\n",
    "plt.ylabel('Losses')\n",
    "plt.title('Simple LSTM model, Loss vs Epoch')\n",
    "plt.show()"
   ]
  },
  {
   "cell_type": "markdown",
   "id": "b3990a77",
   "metadata": {},
   "source": [
    "### Predict tomorrw's close price"
   ]
  },
  {
   "cell_type": "code",
   "execution_count": 19,
   "id": "1fbd75f2",
   "metadata": {},
   "outputs": [
    {
     "name": "stdout",
     "output_type": "stream",
     "text": [
      "RNN predicted GME tomorrow price : [168.87404]\n"
     ]
    }
   ],
   "source": [
    "print(f'RNN predicted {tickers} tomorrow price : {df.Close[-1]*pred_y[-1]/dfy.Close[-1]}')"
   ]
  },
  {
   "cell_type": "code",
   "execution_count": 20,
   "id": "8c3d616f",
   "metadata": {},
   "outputs": [
    {
     "name": "stdout",
     "output_type": "stream",
     "text": [
      "LSTM predicted GME tomorrow price : [159.64194]\n"
     ]
    }
   ],
   "source": [
    "print(f'LSTM predicted {tickers} tomorrow price : {df.Close[-1]*pred_y2[-1]/dfy.Close[-1]}')"
   ]
  },
  {
   "cell_type": "code",
   "execution_count": null,
   "id": "b576eab9",
   "metadata": {},
   "outputs": [],
   "source": []
  }
 ],
 "metadata": {
  "kernelspec": {
   "display_name": "Python 3 (ipykernel)",
   "language": "python",
   "name": "python3"
  },
  "language_info": {
   "codemirror_mode": {
    "name": "ipython",
    "version": 3
   },
   "file_extension": ".py",
   "mimetype": "text/x-python",
   "name": "python",
   "nbconvert_exporter": "python",
   "pygments_lexer": "ipython3",
   "version": "3.8.10"
  }
 },
 "nbformat": 4,
 "nbformat_minor": 5
}

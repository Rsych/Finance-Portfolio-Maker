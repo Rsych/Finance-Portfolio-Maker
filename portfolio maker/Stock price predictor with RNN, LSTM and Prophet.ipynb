{
 "cells": [
  {
   "cell_type": "markdown",
   "id": "83f41b5d",
   "metadata": {},
   "source": [
    "# RNN stock price predictor\n",
    "\n",
    "Using Recurrent neural network (RNN) and Long short-term memory (LSTM) algorithm, one of deep learning technique, we'll predict selected ticker's future price. \n",
    "\n",
    "Note : This is just a basic code, hence it's not suitable to apply in real life market, and any investment should be your own decision also risk you take.\n",
    "\n",
    "\n",
    "\n"
   ]
  },
  {
   "cell_type": "markdown",
   "id": "a6414717",
   "metadata": {},
   "source": [
    "## Recurrent Neural Network (RNN)\n",
    "\n",
    "Recurrent neural networks (RNN) are the state of the art algorithm for sequential data and are used by Apple's Siri and and Google's voice search. In RNN, neuron is called cell, information of previously trained cell is used for next cell, hence it is suitable to process sequential data.\n",
    "\n",
    "[image : RNN]"
   ]
  },
  {
   "cell_type": "markdown",
   "id": "b4dbe791",
   "metadata": {},
   "source": [
    "## Long short-term memory\n",
    "\n",
    "RNN can store short-term memory, to find correlations of data, it needs long term memory, LSTM is used to support \n",
    "this.\n",
    "\n",
    "A common LSTM unit is composed of a cell, an input gate, an output gate and a forget gate. The cell remembers values over arbitrary time intervals and the three gates regulate the flow of information into and out of the cell.\n"
   ]
  },
  {
   "cell_type": "markdown",
   "id": "c0393143",
   "metadata": {},
   "source": [
    "## Stock price predictor\n",
    "\n",
    "\n",
    "### data cleansing"
   ]
  },
  {
   "cell_type": "code",
   "execution_count": 61,
   "id": "ec93ea6b",
   "metadata": {},
   "outputs": [],
   "source": [
    "import pandas as pd\n",
    "import yfinance as yf\n",
    "import numpy as np\n",
    "import matplotlib.pyplot as plt\n",
    "# To prevent TF complier error\n",
    "import os\n",
    "os.environ['TF_CPP_MIN_LOG_LEVEL'] = '2'\n",
    "# Model\n",
    "import tensorflow as tf\n",
    "from keras.layers import Dense, SimpleRNN, LSTM, Dropout, Bidirectional, Activation\n",
    "from keras.models import Sequential\n",
    "\n",
    "\n",
    "    \n",
    "def get_tickers(ticker):\n",
    "    data = yf.Ticker(ticker)\n",
    "    x = data.history(period='5y', auto_adjust=True)\n",
    "#     x = pdr.get_data_yahoo(tickers, start=date_from)\n",
    "    df = pd.DataFrame(x[['Open', 'High', 'Low', 'Volume', 'Close']])\n",
    "    df.fillna(method='bfill', inplace=True)\n",
    "    df.fillna(method='ffill', inplace=True)\n",
    "    df.rename(columns={'Close' : 'Close'}, inplace=True)\n",
    "    return df\n",
    "\n",
    "def Normalizer(data):\n",
    "    numerator = data - np.min(data,0)\n",
    "    denominator = np.max(data, 0) - np.min(data,0)\n",
    "    return numerator / (denominator + 1e-7)"
   ]
  },
  {
   "cell_type": "code",
   "execution_count": 62,
   "id": "f006ee93",
   "metadata": {},
   "outputs": [
    {
     "data": {
      "text/html": [
       "<div>\n",
       "<style scoped>\n",
       "    .dataframe tbody tr th:only-of-type {\n",
       "        vertical-align: middle;\n",
       "    }\n",
       "\n",
       "    .dataframe tbody tr th {\n",
       "        vertical-align: top;\n",
       "    }\n",
       "\n",
       "    .dataframe thead th {\n",
       "        text-align: right;\n",
       "    }\n",
       "</style>\n",
       "<table border=\"1\" class=\"dataframe\">\n",
       "  <thead>\n",
       "    <tr style=\"text-align: right;\">\n",
       "      <th></th>\n",
       "      <th>Open</th>\n",
       "      <th>High</th>\n",
       "      <th>Low</th>\n",
       "      <th>Volume</th>\n",
       "      <th>Close</th>\n",
       "    </tr>\n",
       "    <tr>\n",
       "      <th>Date</th>\n",
       "      <th></th>\n",
       "      <th></th>\n",
       "      <th></th>\n",
       "      <th></th>\n",
       "      <th></th>\n",
       "    </tr>\n",
       "  </thead>\n",
       "  <tbody>\n",
       "    <tr>\n",
       "      <th>2016-07-27</th>\n",
       "      <td>197.944812</td>\n",
       "      <td>198.017725</td>\n",
       "      <td>196.513923</td>\n",
       "      <td>84083900</td>\n",
       "      <td>197.334183</td>\n",
       "    </tr>\n",
       "    <tr>\n",
       "      <th>2016-07-28</th>\n",
       "      <td>197.124565</td>\n",
       "      <td>197.871912</td>\n",
       "      <td>196.632420</td>\n",
       "      <td>65035700</td>\n",
       "      <td>197.562042</td>\n",
       "    </tr>\n",
       "    <tr>\n",
       "      <th>2016-07-29</th>\n",
       "      <td>197.279535</td>\n",
       "      <td>198.263825</td>\n",
       "      <td>196.978775</td>\n",
       "      <td>79519400</td>\n",
       "      <td>197.881042</td>\n",
       "    </tr>\n",
       "    <tr>\n",
       "      <th>2016-08-01</th>\n",
       "      <td>197.944812</td>\n",
       "      <td>198.364044</td>\n",
       "      <td>197.233929</td>\n",
       "      <td>73311400</td>\n",
       "      <td>197.716965</td>\n",
       "    </tr>\n",
       "    <tr>\n",
       "      <th>2016-08-02</th>\n",
       "      <td>197.452655</td>\n",
       "      <td>197.616712</td>\n",
       "      <td>195.556976</td>\n",
       "      <td>92295500</td>\n",
       "      <td>196.450134</td>\n",
       "    </tr>\n",
       "    <tr>\n",
       "      <th>...</th>\n",
       "      <td>...</td>\n",
       "      <td>...</td>\n",
       "      <td>...</td>\n",
       "      <td>...</td>\n",
       "      <td>...</td>\n",
       "    </tr>\n",
       "    <tr>\n",
       "      <th>2021-07-20</th>\n",
       "      <td>425.679993</td>\n",
       "      <td>432.420013</td>\n",
       "      <td>424.829987</td>\n",
       "      <td>99608200</td>\n",
       "      <td>431.059998</td>\n",
       "    </tr>\n",
       "    <tr>\n",
       "      <th>2021-07-21</th>\n",
       "      <td>432.339996</td>\n",
       "      <td>434.700012</td>\n",
       "      <td>431.010010</td>\n",
       "      <td>64724400</td>\n",
       "      <td>434.549988</td>\n",
       "    </tr>\n",
       "    <tr>\n",
       "      <th>2021-07-22</th>\n",
       "      <td>434.739990</td>\n",
       "      <td>435.720001</td>\n",
       "      <td>433.690002</td>\n",
       "      <td>47878500</td>\n",
       "      <td>435.459991</td>\n",
       "    </tr>\n",
       "    <tr>\n",
       "      <th>2021-07-23</th>\n",
       "      <td>437.519989</td>\n",
       "      <td>440.299988</td>\n",
       "      <td>436.790009</td>\n",
       "      <td>63731900</td>\n",
       "      <td>439.940002</td>\n",
       "    </tr>\n",
       "    <tr>\n",
       "      <th>2021-07-26</th>\n",
       "      <td>439.309998</td>\n",
       "      <td>441.029999</td>\n",
       "      <td>439.260010</td>\n",
       "      <td>43641000</td>\n",
       "      <td>441.019989</td>\n",
       "    </tr>\n",
       "  </tbody>\n",
       "</table>\n",
       "<p>1258 rows × 5 columns</p>\n",
       "</div>"
      ],
      "text/plain": [
       "                  Open        High         Low    Volume       Close\n",
       "Date                                                                \n",
       "2016-07-27  197.944812  198.017725  196.513923  84083900  197.334183\n",
       "2016-07-28  197.124565  197.871912  196.632420  65035700  197.562042\n",
       "2016-07-29  197.279535  198.263825  196.978775  79519400  197.881042\n",
       "2016-08-01  197.944812  198.364044  197.233929  73311400  197.716965\n",
       "2016-08-02  197.452655  197.616712  195.556976  92295500  196.450134\n",
       "...                ...         ...         ...       ...         ...\n",
       "2021-07-20  425.679993  432.420013  424.829987  99608200  431.059998\n",
       "2021-07-21  432.339996  434.700012  431.010010  64724400  434.549988\n",
       "2021-07-22  434.739990  435.720001  433.690002  47878500  435.459991\n",
       "2021-07-23  437.519989  440.299988  436.790009  63731900  439.940002\n",
       "2021-07-26  439.309998  441.029999  439.260010  43641000  441.019989\n",
       "\n",
       "[1258 rows x 5 columns]"
      ]
     },
     "execution_count": 62,
     "metadata": {},
     "output_type": "execute_result"
    }
   ],
   "source": [
    "tickers = 'SPY'\n",
    "df = get_tickers(tickers)\n",
    "df"
   ]
  },
  {
   "cell_type": "code",
   "execution_count": 63,
   "id": "1e3b91ca",
   "metadata": {},
   "outputs": [],
   "source": [
    "dfx = Normalizer(df)\n",
    "dfy = dfx[['Close']]\n",
    "\n",
    "\n",
    "x = dfx.values.tolist()\n",
    "y = dfy.values.tolist()"
   ]
  },
  {
   "cell_type": "code",
   "execution_count": 64,
   "id": "f3f24f0f",
   "metadata": {},
   "outputs": [
    {
     "name": "stdout",
     "output_type": "stream",
     "text": [
      "<class 'pandas.core.frame.DataFrame'>\n",
      "DatetimeIndex: 1258 entries, 2016-07-27 to 2021-07-26\n",
      "Data columns (total 5 columns):\n",
      " #   Column  Non-Null Count  Dtype  \n",
      "---  ------  --------------  -----  \n",
      " 0   Open    1258 non-null   float64\n",
      " 1   High    1258 non-null   float64\n",
      " 2   Low     1258 non-null   float64\n",
      " 3   Volume  1258 non-null   float64\n",
      " 4   Close   1258 non-null   float64\n",
      "dtypes: float64(5)\n",
      "memory usage: 59.0 KB\n"
     ]
    }
   ],
   "source": [
    "dfx.info()"
   ]
  },
  {
   "cell_type": "code",
   "execution_count": 65,
   "id": "1fe6ddc6",
   "metadata": {},
   "outputs": [
    {
     "name": "stdout",
     "output_type": "stream",
     "text": [
      "<class 'pandas.core.frame.DataFrame'>\n",
      "DatetimeIndex: 1258 entries, 2016-07-27 to 2021-07-26\n",
      "Data columns (total 1 columns):\n",
      " #   Column  Non-Null Count  Dtype  \n",
      "---  ------  --------------  -----  \n",
      " 0   Close   1258 non-null   float64\n",
      "dtypes: float64(1)\n",
      "memory usage: 19.7 KB\n"
     ]
    }
   ],
   "source": [
    "dfy.info()"
   ]
  },
  {
   "cell_type": "code",
   "execution_count": 66,
   "id": "55cedf19",
   "metadata": {},
   "outputs": [],
   "source": [
    "data_x = []\n",
    "data_y = []\n",
    "window_size = 10\n",
    "for i in range(len(y) - window_size):\n",
    "    _x = x[i : i + window_size] # not including next day close (i+window_size)\n",
    "    _y = y[i + window_size] # Next day close\n",
    "    data_x.append(_x)\n",
    "    data_y.append(_y)"
   ]
  },
  {
   "cell_type": "markdown",
   "id": "fb1810ad",
   "metadata": {},
   "source": [
    "Run `print(_x, \"->\", _y)` to see _x values added to data_x and _y"
   ]
  },
  {
   "cell_type": "code",
   "execution_count": 67,
   "id": "73637c0b",
   "metadata": {},
   "outputs": [
    {
     "name": "stdout",
     "output_type": "stream",
     "text": [
      "[[0.9843724299632776, 0.9852073706323444, 0.9827284053971, 0.08769871921198157, 0.984239326091595], [0.9876348725716173, 0.987177006001898, 0.9840972322225352, 0.08775706027707432, 0.9782791141465766], [0.9923070414355161, 0.9874986542292876, 0.9824868549493121, 0.11791992863570357, 0.9808791992321277], [0.981875263810349, 0.9778914068699235, 0.9736698950133215, 0.09371241941472348, 0.9749189872871094], [0.9867085758533425, 0.9800218663531719, 0.9664231358518627, 0.1492528445302025, 0.9612783981808417], [0.947156345147413, 0.9613300806721657, 0.9303903454019347, 0.34337077467524585, 0.9357973446066246], [0.945102169091706, 0.9653900615011856, 0.9419046596261941, 0.2133029995641895, 0.9601583558943526], [0.971926792806235, 0.9745550732161028, 0.9667854615235446, 0.11951691447280509, 0.9741189047644228], [0.9815932939759909, 0.9786551680689046, 0.9775751244044402, 0.074226234820905, 0.9777590727143757], [0.9927903480565692, 0.9970655422191586, 0.9900557632837618, 0.11684855009010599, 0.9956798713736548]] -> [0.9999999995999832]\n"
     ]
    }
   ],
   "source": [
    "print(_x, \"->\", _y)"
   ]
  },
  {
   "cell_type": "markdown",
   "id": "022b29b0",
   "metadata": {},
   "source": [
    "Past 10 days, given data, latest close is 0.8726370803053053, next day close is 0.8677396475977315"
   ]
  },
  {
   "cell_type": "markdown",
   "id": "3678ab6e",
   "metadata": {},
   "source": [
    "### Prepare train / test dataset"
   ]
  },
  {
   "cell_type": "code",
   "execution_count": 68,
   "id": "3f9b2e9f",
   "metadata": {},
   "outputs": [],
   "source": [
    "# train dataset\n",
    "train_size = int(len(data_y) * 0.7)\n",
    "train_x = np.array(data_x[0 : train_size])\n",
    "train_y = np.array(data_y[0 : train_size])\n",
    "\n",
    "# test dataset\n",
    "test_size = len(data_y) - train_size\n",
    "test_x = np.array(data_x[train_size : len(data_x)])\n",
    "test_y = np.array(data_y[train_size : len(data_y)])"
   ]
  },
  {
   "cell_type": "markdown",
   "id": "c06dff18",
   "metadata": {},
   "source": [
    "### Build model with SimpleRNN"
   ]
  },
  {
   "cell_type": "code",
   "execution_count": 69,
   "id": "f2b16739",
   "metadata": {},
   "outputs": [
    {
     "name": "stdout",
     "output_type": "stream",
     "text": [
      "Model: \"sequential_4\"\n",
      "_________________________________________________________________\n",
      "Layer (type)                 Output Shape              Param #   \n",
      "=================================================================\n",
      "simple_rnn_4 (SimpleRNN)     (None, 10, 20)            520       \n",
      "_________________________________________________________________\n",
      "dropout_4 (Dropout)          (None, 10, 20)            0         \n",
      "_________________________________________________________________\n",
      "simple_rnn_5 (SimpleRNN)     (None, 40)                2440      \n",
      "_________________________________________________________________\n",
      "dropout_5 (Dropout)          (None, 40)                0         \n",
      "_________________________________________________________________\n",
      "dense_6 (Dense)              (None, 1)                 41        \n",
      "=================================================================\n",
      "Total params: 3,001\n",
      "Trainable params: 3,001\n",
      "Non-trainable params: 0\n",
      "_________________________________________________________________\n"
     ]
    }
   ],
   "source": [
    "model_rnn = Sequential()\n",
    "\n",
    "model_rnn.add(SimpleRNN(units = 20, activation='relu',\n",
    "                   return_sequences=True, input_shape=(window_size, 5)))\n",
    "model_rnn.add(Dropout(0.1))\n",
    "model_rnn.add(SimpleRNN(units=40, activation='relu'))\n",
    "model_rnn.add(Dropout(0.1))\n",
    "model_rnn.add(Dense(units=1))\n",
    "model_rnn.summary()"
   ]
  },
  {
   "cell_type": "markdown",
   "id": "0b319a27",
   "metadata": {},
   "source": [
    "### Model fit"
   ]
  },
  {
   "cell_type": "code",
   "execution_count": 70,
   "id": "2be021cb",
   "metadata": {
    "scrolled": true
   },
   "outputs": [
    {
     "name": "stdout",
     "output_type": "stream",
     "text": [
      "Epoch 1/30\n",
      "30/30 [==============================] - 1s 2ms/step - loss: 0.0620 - accuracy: 1.4938e-04\n",
      "Epoch 2/30\n",
      "30/30 [==============================] - 0s 1ms/step - loss: 0.0041 - accuracy: 9.9696e-04\n",
      "Epoch 3/30\n",
      "30/30 [==============================] - 0s 1ms/step - loss: 0.0028 - accuracy: 7.6576e-04\n",
      "Epoch 4/30\n",
      "30/30 [==============================] - 0s 1ms/step - loss: 0.0022 - accuracy: 9.1425e-04\n",
      "Epoch 5/30\n",
      "30/30 [==============================] - 0s 1ms/step - loss: 0.0019 - accuracy: 3.6513e-04\n",
      "Epoch 6/30\n",
      "30/30 [==============================] - 0s 1ms/step - loss: 0.0020 - accuracy: 0.0027\n",
      "Epoch 7/30\n",
      "30/30 [==============================] - 0s 1ms/step - loss: 0.0021 - accuracy: 6.9855e-04\n",
      "Epoch 8/30\n",
      "30/30 [==============================] - 0s 1ms/step - loss: 0.0018 - accuracy: 9.9696e-04\n",
      "Epoch 9/30\n",
      "30/30 [==============================] - 0s 1ms/step - loss: 0.0016 - accuracy: 0.0043\n",
      "Epoch 10/30\n",
      "30/30 [==============================] - 0s 1ms/step - loss: 0.0014 - accuracy: 0.0013\n",
      "Epoch 11/30\n",
      "30/30 [==============================] - 0s 1ms/step - loss: 0.0016 - accuracy: 1.1098e-04\n",
      "Epoch 12/30\n",
      "30/30 [==============================] - 0s 1ms/step - loss: 0.0012 - accuracy: 0.0024    \n",
      "Epoch 13/30\n",
      "30/30 [==============================] - 0s 1ms/step - loss: 0.0011 - accuracy: 0.0017\n",
      "Epoch 14/30\n",
      "30/30 [==============================] - 0s 1ms/step - loss: 0.0011 - accuracy: 0.0021\n",
      "Epoch 15/30\n",
      "30/30 [==============================] - 0s 1ms/step - loss: 0.0011 - accuracy: 0.0033\n",
      "Epoch 16/30\n",
      "30/30 [==============================] - 0s 1ms/step - loss: 0.0010 - accuracy: 1.4938e-04\n",
      "Epoch 17/30\n",
      "30/30 [==============================] - 0s 1ms/step - loss: 9.9948e-04 - accuracy: 7.6576e-04\n",
      "Epoch 18/30\n",
      "30/30 [==============================] - 0s 1ms/step - loss: 0.0011 - accuracy: 3.1838e-04\n",
      "Epoch 19/30\n",
      "30/30 [==============================] - 0s 1ms/step - loss: 8.2764e-04 - accuracy: 9.1425e-04\n",
      "Epoch 20/30\n",
      "30/30 [==============================] - 0s 1ms/step - loss: 8.1962e-04 - accuracy: 0.0043\n",
      "Epoch 21/30\n",
      "30/30 [==============================] - 0s 1ms/step - loss: 7.4840e-04 - accuracy: 9.1425e-04\n",
      "Epoch 22/30\n",
      "30/30 [==============================] - 0s 1ms/step - loss: 7.8608e-04 - accuracy: 9.1425e-04\n",
      "Epoch 23/30\n",
      "30/30 [==============================] - 0s 1ms/step - loss: 0.0010 - accuracy: 1.1098e-04\n",
      "Epoch 24/30\n",
      "30/30 [==============================] - 0s 1ms/step - loss: 7.0314e-04 - accuracy: 6.3530e-04\n",
      "Epoch 25/30\n",
      "30/30 [==============================] - 0s 1ms/step - loss: 7.6879e-04 - accuracy: 1.4938e-04\n",
      "Epoch 26/30\n",
      "30/30 [==============================] - 0s 1ms/step - loss: 7.4832e-04 - accuracy: 0.0015\n",
      "Epoch 27/30\n",
      "30/30 [==============================] - 0s 1ms/step - loss: 8.8812e-04 - accuracy: 0.0014\n",
      "Epoch 28/30\n",
      "30/30 [==============================] - 0s 1ms/step - loss: 9.6386e-04 - accuracy: 0.0017\n",
      "Epoch 29/30\n",
      "30/30 [==============================] - 0s 1ms/step - loss: 6.6116e-04 - accuracy: 2.7357e-04\n",
      "Epoch 30/30\n",
      "30/30 [==============================] - 0s 1ms/step - loss: 6.2627e-04 - accuracy: 7.6576e-04\n"
     ]
    }
   ],
   "source": [
    "model_rnn.compile(optimizer='adam', loss='mean_squared_error', metrics = ['accuracy'])\n",
    "history = model_rnn.fit(train_x, train_y, epochs=30, batch_size=30)\n",
    "pred_y = model_rnn.predict(test_x)"
   ]
  },
  {
   "cell_type": "markdown",
   "id": "1adcd4dc",
   "metadata": {},
   "source": [
    "### Compare prediction to real"
   ]
  },
  {
   "cell_type": "code",
   "execution_count": 71,
   "id": "8b7ceaae",
   "metadata": {},
   "outputs": [
    {
     "data": {
      "image/png": "[encoded data removed]",
      "text/plain": [
       "<Figure size 1152x576 with 1 Axes>"
      ]
     },
     "metadata": {
      "needs_background": "light"
     },
     "output_type": "display_data"
    }
   ],
   "source": [
    "plt.figure(figsize=(16,8))\n",
    "plt.plot(test_y, c='r', label='real stock price')\n",
    "plt.plot(pred_y, c='blue', label='predicted stock price')\n",
    "plt.title(f'{tickers} Stock price prediction')\n",
    "plt.xlabel('time')\n",
    "plt.ylabel('stock price')\n",
    "plt.legend()\n",
    "plt.show()"
   ]
  },
  {
   "cell_type": "markdown",
   "id": "75ec750f",
   "metadata": {},
   "source": [
    "### Build model with LSTM"
   ]
  },
  {
   "cell_type": "code",
   "execution_count": 72,
   "id": "52cd247a",
   "metadata": {},
   "outputs": [
    {
     "name": "stdout",
     "output_type": "stream",
     "text": [
      "Model: \"sequential_5\"\n",
      "_________________________________________________________________\n",
      "Layer (type)                 Output Shape              Param #   \n",
      "=================================================================\n",
      "lstm_4 (LSTM)                (None, 10, 64)            17920     \n",
      "_________________________________________________________________\n",
      "lstm_5 (LSTM)                (None, 64)                33024     \n",
      "_________________________________________________________________\n",
      "dense_7 (Dense)              (None, 32)                2080      \n",
      "_________________________________________________________________\n",
      "dense_8 (Dense)              (None, 1)                 33        \n",
      "=================================================================\n",
      "Total params: 53,057\n",
      "Trainable params: 53,057\n",
      "Non-trainable params: 0\n",
      "_________________________________________________________________\n"
     ]
    }
   ],
   "source": [
    "# model = keras.Sequential()\n",
    "# model.add(layers.LSTM(units=10, activation='relu',\n",
    "#                       return_sequences=True, input_shape=(window_size, 5)))\n",
    "# model.add(layers.Dropout(0.1))\n",
    "# model.add(layers.LSTM(units=10, activation='relu'))\n",
    "# model.add(layers.Dropout(0.1))\n",
    "# model.add(layers.Dense(units=1))\n",
    "# model.summary()\n",
    "\n",
    "model_lstm = Sequential()\n",
    "model_lstm.add(LSTM(units=64, activation='relu',\n",
    "                   return_sequences=True, input_shape=(window_size, 5)))\n",
    "model_lstm.add(LSTM(units=64, activation='relu',\n",
    "                   return_sequences=False))\n",
    "model_lstm.add(Dense(units=32))\n",
    "model_lstm.add(Dense(units=1))\n",
    "model_lstm.summary()"
   ]
  },
  {
   "cell_type": "code",
   "execution_count": 73,
   "id": "1828fce2",
   "metadata": {
    "scrolled": true
   },
   "outputs": [
    {
     "name": "stdout",
     "output_type": "stream",
     "text": [
      "Epoch 1/30\n",
      "30/30 [==============================] - 1s 4ms/step - loss: 0.0233 - accuracy: 5.7556e-04\n",
      "Epoch 2/30\n",
      "30/30 [==============================] - 0s 4ms/step - loss: 7.6926e-04 - accuracy: 0.0043\n",
      "Epoch 3/30\n",
      "30/30 [==============================] - 0s 4ms/step - loss: 2.6525e-04 - accuracy: 1.8921e-04\n",
      "Epoch 4/30\n",
      "30/30 [==============================] - 0s 4ms/step - loss: 2.5577e-04 - accuracy: 2.7357e-04\n",
      "Epoch 5/30\n",
      "30/30 [==============================] - 0s 4ms/step - loss: 2.7694e-04 - accuracy: 1.8921e-04\n",
      "Epoch 6/30\n",
      "30/30 [==============================] - 0s 4ms/step - loss: 2.5886e-04 - accuracy: 0.0021\n",
      "Epoch 7/30\n",
      "30/30 [==============================] - 0s 4ms/step - loss: 2.2179e-04 - accuracy: 0.0017\n",
      "Epoch 8/30\n",
      "30/30 [==============================] - 0s 4ms/step - loss: 2.1918e-04 - accuracy: 0.0021\n",
      "Epoch 9/30\n",
      "30/30 [==============================] - 0s 4ms/step - loss: 1.9699e-04 - accuracy: 0.0014\n",
      "Epoch 10/30\n",
      "30/30 [==============================] - 0s 4ms/step - loss: 2.5409e-04 - accuracy: 6.9855e-04\n",
      "Epoch 11/30\n",
      "30/30 [==============================] - 0s 4ms/step - loss: 2.0907e-04 - accuracy: 2.3056e-04\n",
      "Epoch 12/30\n",
      "30/30 [==============================] - 0s 4ms/step - loss: 2.2731e-04 - accuracy: 0.0033\n",
      "Epoch 13/30\n",
      "30/30 [==============================] - 0s 4ms/step - loss: 1.9365e-04 - accuracy: 0.0012\n",
      "Epoch 14/30\n",
      "30/30 [==============================] - 0s 4ms/step - loss: 1.5959e-04 - accuracy: 2.7357e-04\n",
      "Epoch 15/30\n",
      "30/30 [==============================] - 0s 4ms/step - loss: 1.7738e-04 - accuracy: 9.9696e-04\n",
      "Epoch 16/30\n",
      "30/30 [==============================] - 0s 4ms/step - loss: 1.5375e-04 - accuracy: 3.6513e-04\n",
      "Epoch 17/30\n",
      "30/30 [==============================] - 0s 4ms/step - loss: 2.2069e-04 - accuracy: 5.1897e-04\n",
      "Epoch 18/30\n",
      "30/30 [==============================] - 0s 4ms/step - loss: 1.7222e-04 - accuracy: 0.0015\n",
      "Epoch 19/30\n",
      "30/30 [==============================] - 0s 4ms/step - loss: 1.4670e-04 - accuracy: 0.0015\n",
      "Epoch 20/30\n",
      "30/30 [==============================] - 0s 4ms/step - loss: 2.3508e-04 - accuracy: 1.1098e-04\n",
      "Epoch 21/30\n",
      "30/30 [==============================] - 0s 4ms/step - loss: 1.4636e-04 - accuracy: 0.0012\n",
      "Epoch 22/30\n",
      "30/30 [==============================] - 0s 4ms/step - loss: 1.4512e-04 - accuracy: 0.0024\n",
      "Epoch 23/30\n",
      "30/30 [==============================] - 0s 4ms/step - loss: 1.7007e-04 - accuracy: 0.0043\n",
      "Epoch 24/30\n",
      "30/30 [==============================] - 0s 4ms/step - loss: 1.3650e-04 - accuracy: 1.8921e-04\n",
      "Epoch 25/30\n",
      "30/30 [==============================] - 0s 4ms/step - loss: 1.3453e-04 - accuracy: 0.0043\n",
      "Epoch 26/30\n",
      "30/30 [==============================] - 0s 4ms/step - loss: 1.6247e-04 - accuracy: 2.7357e-04\n",
      "Epoch 27/30\n",
      "30/30 [==============================] - 0s 4ms/step - loss: 1.7774e-04 - accuracy: 0.0024\n",
      "Epoch 28/30\n",
      "30/30 [==============================] - 0s 4ms/step - loss: 1.3395e-04 - accuracy: 0.0033\n",
      "Epoch 29/30\n",
      "30/30 [==============================] - 0s 5ms/step - loss: 1.4100e-04 - accuracy: 3.1838e-04\n",
      "Epoch 30/30\n",
      "30/30 [==============================] - 0s 4ms/step - loss: 1.3455e-04 - accuracy: 6.3530e-04\n"
     ]
    }
   ],
   "source": [
    "model_lstm.compile(optimizer='adam',loss='mean_squared_error', metrics=['accuracy'])\n",
    "history2 = model_lstm.fit(train_x, train_y, epochs=30, batch_size=30)\n",
    "pred_y2 = model_lstm.predict(test_x)"
   ]
  },
  {
   "cell_type": "markdown",
   "id": "8b87df2d",
   "metadata": {},
   "source": [
    "### Compare prediction to real"
   ]
  },
  {
   "cell_type": "code",
   "execution_count": 74,
   "id": "a21e495c",
   "metadata": {},
   "outputs": [
    {
     "data": {
      "image/png": "[encoded data removed]",
      "text/plain": [
       "<Figure size 1152x576 with 1 Axes>"
      ]
     },
     "metadata": {
      "needs_background": "light"
     },
     "output_type": "display_data"
    }
   ],
   "source": [
    "plt.figure(figsize=(16,8))\n",
    "plt.plot(test_y, c='r', label='real stock price')\n",
    "plt.plot(pred_y2, c='blue', label='pridected stock price')\n",
    "plt.title(f'{tickers} Stock price prediction')\n",
    "plt.xlabel('time')\n",
    "plt.ylabel('stock price')\n",
    "plt.legend()\n",
    "plt.show()"
   ]
  },
  {
   "cell_type": "markdown",
   "id": "32210c82",
   "metadata": {},
   "source": [
    "## Evaluating Model"
   ]
  },
  {
   "cell_type": "code",
   "execution_count": 75,
   "id": "06f608b0",
   "metadata": {},
   "outputs": [],
   "source": [
    "# Losses\n",
    "history.history['loss'];"
   ]
  },
  {
   "cell_type": "code",
   "execution_count": 76,
   "id": "bc30a768",
   "metadata": {},
   "outputs": [
    {
     "data": {
      "image/png": "[encoded data removed]",
      "text/plain": [
       "<Figure size 864x576 with 1 Axes>"
      ]
     },
     "metadata": {
      "needs_background": "light"
     },
     "output_type": "display_data"
    }
   ],
   "source": [
    "# plot loss vs epochs\n",
    "plt.figure(figsize=(12,8))\n",
    "plt.plot(history.history['loss'])\n",
    "plt.xlabel('Epochs')\n",
    "plt.ylabel('Losses')\n",
    "plt.title('Simple RNN model, Loss vs Epoch')\n",
    "plt.show()"
   ]
  },
  {
   "cell_type": "code",
   "execution_count": 77,
   "id": "87182aa4",
   "metadata": {
    "scrolled": true
   },
   "outputs": [],
   "source": [
    "history2.history['loss'];"
   ]
  },
  {
   "cell_type": "code",
   "execution_count": 78,
   "id": "54609ce5",
   "metadata": {},
   "outputs": [
    {
     "data": {
      "image/png": "[encoded data removed]",
      "text/plain": [
       "<Figure size 864x576 with 1 Axes>"
      ]
     },
     "metadata": {
      "needs_background": "light"
     },
     "output_type": "display_data"
    }
   ],
   "source": [
    "# plot loss vs epochs\n",
    "plt.figure(figsize=(12,8))\n",
    "plt.plot(history2.history['loss'])\n",
    "plt.xlabel('Epochs')\n",
    "plt.ylabel('Losses')\n",
    "plt.title('Simple LSTM model, Loss vs Epoch')\n",
    "plt.show()"
   ]
  },
  {
   "cell_type": "markdown",
   "id": "6ff47aea",
   "metadata": {},
   "source": [
    "## Predict with Prophet"
   ]
  },
  {
   "cell_type": "code",
   "execution_count": 79,
   "id": "bd90ce69",
   "metadata": {},
   "outputs": [
    {
     "data": {
      "text/html": [
       "<div>\n",
       "<style scoped>\n",
       "    .dataframe tbody tr th:only-of-type {\n",
       "        vertical-align: middle;\n",
       "    }\n",
       "\n",
       "    .dataframe tbody tr th {\n",
       "        vertical-align: top;\n",
       "    }\n",
       "\n",
       "    .dataframe thead th {\n",
       "        text-align: right;\n",
       "    }\n",
       "</style>\n",
       "<table border=\"1\" class=\"dataframe\">\n",
       "  <thead>\n",
       "    <tr style=\"text-align: right;\">\n",
       "      <th></th>\n",
       "      <th>ds</th>\n",
       "      <th>Open</th>\n",
       "      <th>High</th>\n",
       "      <th>Low</th>\n",
       "      <th>Volume</th>\n",
       "      <th>y</th>\n",
       "    </tr>\n",
       "  </thead>\n",
       "  <tbody>\n",
       "    <tr>\n",
       "      <th>0</th>\n",
       "      <td>2016-07-27</td>\n",
       "      <td>197.944812</td>\n",
       "      <td>198.017725</td>\n",
       "      <td>196.513923</td>\n",
       "      <td>84083900</td>\n",
       "      <td>197.334183</td>\n",
       "    </tr>\n",
       "    <tr>\n",
       "      <th>1</th>\n",
       "      <td>2016-07-28</td>\n",
       "      <td>197.124565</td>\n",
       "      <td>197.871912</td>\n",
       "      <td>196.632420</td>\n",
       "      <td>65035700</td>\n",
       "      <td>197.562042</td>\n",
       "    </tr>\n",
       "    <tr>\n",
       "      <th>2</th>\n",
       "      <td>2016-07-29</td>\n",
       "      <td>197.279535</td>\n",
       "      <td>198.263825</td>\n",
       "      <td>196.978775</td>\n",
       "      <td>79519400</td>\n",
       "      <td>197.881042</td>\n",
       "    </tr>\n",
       "    <tr>\n",
       "      <th>3</th>\n",
       "      <td>2016-08-01</td>\n",
       "      <td>197.944812</td>\n",
       "      <td>198.364044</td>\n",
       "      <td>197.233929</td>\n",
       "      <td>73311400</td>\n",
       "      <td>197.716965</td>\n",
       "    </tr>\n",
       "    <tr>\n",
       "      <th>4</th>\n",
       "      <td>2016-08-02</td>\n",
       "      <td>197.452655</td>\n",
       "      <td>197.616712</td>\n",
       "      <td>195.556976</td>\n",
       "      <td>92295500</td>\n",
       "      <td>196.450134</td>\n",
       "    </tr>\n",
       "  </tbody>\n",
       "</table>\n",
       "</div>"
      ],
      "text/plain": [
       "          ds        Open        High         Low    Volume           y\n",
       "0 2016-07-27  197.944812  198.017725  196.513923  84083900  197.334183\n",
       "1 2016-07-28  197.124565  197.871912  196.632420  65035700  197.562042\n",
       "2 2016-07-29  197.279535  198.263825  196.978775  79519400  197.881042\n",
       "3 2016-08-01  197.944812  198.364044  197.233929  73311400  197.716965\n",
       "4 2016-08-02  197.452655  197.616712  195.556976  92295500  196.450134"
      ]
     },
     "execution_count": 79,
     "metadata": {},
     "output_type": "execute_result"
    }
   ],
   "source": [
    "df2 = df.reset_index()\n",
    "pr_df = df2.rename(columns={'Date':'ds', 'Close':'y'})\n",
    "pr_df.head()"
   ]
  },
  {
   "cell_type": "code",
   "execution_count": 80,
   "id": "f8096ac9",
   "metadata": {},
   "outputs": [
    {
     "name": "stdout",
     "output_type": "stream",
     "text": [
      "Initial log joint probability = -9.47741\n"
     ]
    },
    {
     "data": {
      "text/plain": [
       "<prophet.forecaster.Prophet at 0x2b9299ee0>"
      ]
     },
     "execution_count": 80,
     "metadata": {},
     "output_type": "execute_result"
    },
    {
     "name": "stdout",
     "output_type": "stream",
     "text": [
      "    Iter      log prob        ||dx||      ||grad||       alpha      alpha0  # evals  Notes \n",
      "      99       4070.43    0.00598237       1338.32      0.7207      0.7207      136   \n",
      "    Iter      log prob        ||dx||      ||grad||       alpha      alpha0  # evals  Notes \n",
      "     199       4127.69    0.00718497       1090.84           1           1      250   \n",
      "    Iter      log prob        ||dx||      ||grad||       alpha      alpha0  # evals  Notes \n",
      "     299       4204.18     0.0142336       1309.69           1           1      359   \n",
      "    Iter      log prob        ||dx||      ||grad||       alpha      alpha0  # evals  Notes \n",
      "     399       4223.24    0.00758467       734.678           1           1      474   \n",
      "    Iter      log prob        ||dx||      ||grad||       alpha      alpha0  # evals  Notes \n",
      "     499       4235.86    0.00122603       226.582           1           1      587   \n",
      "    Iter      log prob        ||dx||      ||grad||       alpha      alpha0  # evals  Notes \n",
      "     599       4249.09    0.00930923       406.015      0.5893      0.5893      700   \n",
      "    Iter      log prob        ||dx||      ||grad||       alpha      alpha0  # evals  Notes \n",
      "     699       4283.05     0.0818865       6701.73      0.3836      0.3836      815   \n",
      "    Iter      log prob        ||dx||      ||grad||       alpha      alpha0  # evals  Notes \n",
      "     799       4314.56    0.00375157        537.94      0.6252      0.6252      939   \n",
      "    Iter      log prob        ||dx||      ||grad||       alpha      alpha0  # evals  Notes \n",
      "     899       4320.57    0.00255501       203.825           1           1     1058   \n",
      "    Iter      log prob        ||dx||      ||grad||       alpha      alpha0  # evals  Notes \n",
      "     999       4322.95      0.001044       1038.25      0.3399      0.3399     1174   \n",
      "    Iter      log prob        ||dx||      ||grad||       alpha      alpha0  # evals  Notes \n",
      "    1099       4327.58     0.0011255       413.479      0.4713           1     1288   \n",
      "    Iter      log prob        ||dx||      ||grad||       alpha      alpha0  # evals  Notes \n",
      "    1199       4343.02     0.0019552        614.49           1           1     1406   \n",
      "    Iter      log prob        ||dx||      ||grad||       alpha      alpha0  # evals  Notes \n",
      "    1299       4346.82     0.0013048       423.486      0.3998           1     1523   \n",
      "    Iter      log prob        ||dx||      ||grad||       alpha      alpha0  # evals  Notes \n",
      "    1323       4348.46   1.22526e-05       93.9785   6.682e-08       0.001     1595  LS failed, Hessian reset \n",
      "    1366       4350.21   2.12988e-05       139.022   1.836e-07       0.001     1688  LS failed, Hessian reset \n",
      "    1399       4350.66    0.00244443       378.484           1           1     1723   \n",
      "    Iter      log prob        ||dx||      ||grad||       alpha      alpha0  # evals  Notes \n",
      "    1499       4352.13   0.000104151       280.718      0.5659      0.5659     1841   \n",
      "    Iter      log prob        ||dx||      ||grad||       alpha      alpha0  # evals  Notes \n",
      "    1599       4361.13     0.0241311       2922.24      0.2583           1     1958   \n",
      "    Iter      log prob        ||dx||      ||grad||       alpha      alpha0  # evals  Notes \n",
      "    1699       4371.61     0.0153383       1518.07           1           1     2072   \n",
      "    Iter      log prob        ||dx||      ||grad||       alpha      alpha0  # evals  Notes \n",
      "    1799       4389.91     0.0131179       452.773       0.625       0.625     2184   \n",
      "    Iter      log prob        ||dx||      ||grad||       alpha      alpha0  # evals  Notes \n",
      "    1803       4389.92    7.3789e-05       269.918   9.993e-07       0.001     2228  LS failed, Hessian reset \n",
      "    1899       4394.28    0.00300491       254.074           1           1     2340   \n",
      "    Iter      log prob        ||dx||      ||grad||       alpha      alpha0  # evals  Notes \n",
      "    1947       4394.74    6.8741e-06       73.4328   5.964e-08       0.001     2461  LS failed, Hessian reset \n",
      "    1977       4394.87   2.10068e-05       140.324     2.7e-07       0.001     2545  LS failed, Hessian reset \n",
      "    1999        4394.9   1.98408e-05       119.323      0.8413      0.8413     2571   \n",
      "    Iter      log prob        ||dx||      ||grad||       alpha      alpha0  # evals  Notes \n",
      "    2094        4396.2   3.02986e-05       318.821   7.364e-08       0.001     2724  LS failed, Hessian reset \n",
      "    2099       4396.25     0.0003433       271.464           1           1     2729   \n",
      "    Iter      log prob        ||dx||      ||grad||       alpha      alpha0  # evals  Notes \n",
      "    2151       4396.71   0.000326496       341.123   3.905e-06       0.001     2827  LS failed, Hessian reset \n",
      "    2161       4396.85   7.02139e-06       76.1245   6.665e-08       0.001     2883  LS failed, Hessian reset \n",
      "    2199       4397.01     3.854e-05       67.5631      0.8571      0.8571     2928   \n",
      "    Iter      log prob        ||dx||      ||grad||       alpha      alpha0  # evals  Notes \n",
      "    2299       4398.12   0.000217047       318.292      0.5538      0.5538     3035   \n",
      "    Iter      log prob        ||dx||      ||grad||       alpha      alpha0  # evals  Notes \n",
      "    2329       4398.24   2.50015e-05       108.616   3.696e-07       0.001     3108  LS failed, Hessian reset \n",
      "    2353       4398.26   2.83387e-05       147.465   3.238e-07       0.001     3179  LS failed, Hessian reset \n",
      "    2384       4398.29   6.92451e-06       87.7748   7.086e-08       0.001     3266  LS failed, Hessian reset \n",
      "    2399        4398.3   9.18153e-06       62.1843      0.7723      0.7723     3281   \n",
      "    Iter      log prob        ||dx||      ||grad||       alpha      alpha0  # evals  Notes \n",
      "    2492       4399.03   2.64366e-05       237.789   1.825e-07       0.001     3443  LS failed, Hessian reset \n",
      "    2499       4399.07   0.000112428       122.981           1           1     3450   \n",
      "    Iter      log prob        ||dx||      ||grad||       alpha      alpha0  # evals  Notes \n",
      "    2539       4399.28    1.0213e-05       88.5491   1.632e-07       0.001     3553  LS failed, Hessian reset \n",
      "    2599       4399.41    2.6113e-05       256.292      0.2579      0.2579     3626   \n",
      "    Iter      log prob        ||dx||      ||grad||       alpha      alpha0  # evals  Notes \n",
      "    2699       4399.79   0.000156449       90.5628      0.8886      0.8886     3753   \n",
      "    Iter      log prob        ||dx||      ||grad||       alpha      alpha0  # evals  Notes \n",
      "    2799       4400.47   0.000807726       373.339      0.8019      0.8019     3874   \n",
      "    Iter      log prob        ||dx||      ||grad||       alpha      alpha0  # evals  Notes \n",
      "    2855       4400.94   3.16584e-05       304.688    5.39e-08       0.001     3996  LS failed, Hessian reset \n",
      "    2892       4401.26   3.90929e-05       115.117   4.169e-07       0.001     4093  LS failed, Hessian reset \n",
      "    2899       4401.28   0.000198581       280.445      0.8918      0.8918     4102   \n",
      "    Iter      log prob        ||dx||      ||grad||       alpha      alpha0  # evals  Notes \n",
      "    2921       4401.34   8.05003e-06       68.9424    4.88e-08       0.001     4169  LS failed, Hessian reset \n",
      "    2994       4401.47   2.56884e-05       185.459   2.523e-07       0.001     4304  LS failed, Hessian reset \n",
      "    2999       4401.48   7.18217e-05       95.4557           1           1     4309   \n",
      "    Iter      log prob        ||dx||      ||grad||       alpha      alpha0  # evals  Notes \n",
      "    3050        4401.5    4.2454e-06       56.3855   9.891e-08       0.001     4424  LS failed, Hessian reset \n",
      "    3059        4401.5   2.14254e-07       58.4855       0.222           1     4436   \n",
      "Optimization terminated normally: \n",
      "  Convergence detected: relative gradient magnitude is below tolerance\n"
     ]
    }
   ],
   "source": [
    "from prophet import Prophet\n",
    "m = Prophet(daily_seasonality=False)\n",
    "m.fit(pr_df)"
   ]
  },
  {
   "cell_type": "code",
   "execution_count": 81,
   "id": "9c0b8e53",
   "metadata": {},
   "outputs": [],
   "source": [
    "future = m.make_future_dataframe(1, freq='D')\n",
    "forecast = m.predict(future)"
   ]
  },
  {
   "cell_type": "code",
   "execution_count": 82,
   "id": "7ab14d08",
   "metadata": {},
   "outputs": [
    {
     "data": {
      "text/html": [
       "<div>\n",
       "<style scoped>\n",
       "    .dataframe tbody tr th:only-of-type {\n",
       "        vertical-align: middle;\n",
       "    }\n",
       "\n",
       "    .dataframe tbody tr th {\n",
       "        vertical-align: top;\n",
       "    }\n",
       "\n",
       "    .dataframe thead th {\n",
       "        text-align: right;\n",
       "    }\n",
       "</style>\n",
       "<table border=\"1\" class=\"dataframe\">\n",
       "  <thead>\n",
       "    <tr style=\"text-align: right;\">\n",
       "      <th></th>\n",
       "      <th>ds</th>\n",
       "      <th>trend</th>\n",
       "      <th>yhat_lower</th>\n",
       "      <th>yhat_upper</th>\n",
       "      <th>trend_lower</th>\n",
       "      <th>trend_upper</th>\n",
       "      <th>additive_terms</th>\n",
       "      <th>additive_terms_lower</th>\n",
       "      <th>additive_terms_upper</th>\n",
       "      <th>weekly</th>\n",
       "      <th>weekly_lower</th>\n",
       "      <th>weekly_upper</th>\n",
       "      <th>yearly</th>\n",
       "      <th>yearly_lower</th>\n",
       "      <th>yearly_upper</th>\n",
       "      <th>multiplicative_terms</th>\n",
       "      <th>multiplicative_terms_lower</th>\n",
       "      <th>multiplicative_terms_upper</th>\n",
       "      <th>yhat</th>\n",
       "    </tr>\n",
       "  </thead>\n",
       "  <tbody>\n",
       "    <tr>\n",
       "      <th>1254</th>\n",
       "      <td>2021-07-21</td>\n",
       "      <td>433.777988</td>\n",
       "      <td>429.569010</td>\n",
       "      <td>445.035271</td>\n",
       "      <td>433.777988</td>\n",
       "      <td>433.777988</td>\n",
       "      <td>3.441333</td>\n",
       "      <td>3.441333</td>\n",
       "      <td>3.441333</td>\n",
       "      <td>-0.002780</td>\n",
       "      <td>-0.002780</td>\n",
       "      <td>-0.002780</td>\n",
       "      <td>3.444113</td>\n",
       "      <td>3.444113</td>\n",
       "      <td>3.444113</td>\n",
       "      <td>0.0</td>\n",
       "      <td>0.0</td>\n",
       "      <td>0.0</td>\n",
       "      <td>437.219321</td>\n",
       "    </tr>\n",
       "    <tr>\n",
       "      <th>1255</th>\n",
       "      <td>2021-07-22</td>\n",
       "      <td>434.096026</td>\n",
       "      <td>430.265045</td>\n",
       "      <td>445.443218</td>\n",
       "      <td>434.096026</td>\n",
       "      <td>434.096026</td>\n",
       "      <td>3.345710</td>\n",
       "      <td>3.345710</td>\n",
       "      <td>3.345710</td>\n",
       "      <td>-0.071339</td>\n",
       "      <td>-0.071339</td>\n",
       "      <td>-0.071339</td>\n",
       "      <td>3.417049</td>\n",
       "      <td>3.417049</td>\n",
       "      <td>3.417049</td>\n",
       "      <td>0.0</td>\n",
       "      <td>0.0</td>\n",
       "      <td>0.0</td>\n",
       "      <td>437.441736</td>\n",
       "    </tr>\n",
       "    <tr>\n",
       "      <th>1256</th>\n",
       "      <td>2021-07-23</td>\n",
       "      <td>434.414064</td>\n",
       "      <td>430.404536</td>\n",
       "      <td>446.234035</td>\n",
       "      <td>434.414064</td>\n",
       "      <td>434.414064</td>\n",
       "      <td>3.363983</td>\n",
       "      <td>3.363983</td>\n",
       "      <td>3.363983</td>\n",
       "      <td>0.014245</td>\n",
       "      <td>0.014245</td>\n",
       "      <td>0.014245</td>\n",
       "      <td>3.349738</td>\n",
       "      <td>3.349738</td>\n",
       "      <td>3.349738</td>\n",
       "      <td>0.0</td>\n",
       "      <td>0.0</td>\n",
       "      <td>0.0</td>\n",
       "      <td>437.778047</td>\n",
       "    </tr>\n",
       "    <tr>\n",
       "      <th>1257</th>\n",
       "      <td>2021-07-26</td>\n",
       "      <td>435.368177</td>\n",
       "      <td>430.317885</td>\n",
       "      <td>445.946823</td>\n",
       "      <td>435.368177</td>\n",
       "      <td>435.368177</td>\n",
       "      <td>2.713337</td>\n",
       "      <td>2.713337</td>\n",
       "      <td>2.713337</td>\n",
       "      <td>-0.211648</td>\n",
       "      <td>-0.211648</td>\n",
       "      <td>-0.211648</td>\n",
       "      <td>2.924985</td>\n",
       "      <td>2.924985</td>\n",
       "      <td>2.924985</td>\n",
       "      <td>0.0</td>\n",
       "      <td>0.0</td>\n",
       "      <td>0.0</td>\n",
       "      <td>438.081514</td>\n",
       "    </tr>\n",
       "    <tr>\n",
       "      <th>1258</th>\n",
       "      <td>2021-07-27</td>\n",
       "      <td>435.686215</td>\n",
       "      <td>430.942596</td>\n",
       "      <td>446.315848</td>\n",
       "      <td>435.686215</td>\n",
       "      <td>435.686215</td>\n",
       "      <td>2.800257</td>\n",
       "      <td>2.800257</td>\n",
       "      <td>2.800257</td>\n",
       "      <td>0.080580</td>\n",
       "      <td>0.080580</td>\n",
       "      <td>0.080580</td>\n",
       "      <td>2.719677</td>\n",
       "      <td>2.719677</td>\n",
       "      <td>2.719677</td>\n",
       "      <td>0.0</td>\n",
       "      <td>0.0</td>\n",
       "      <td>0.0</td>\n",
       "      <td>438.486472</td>\n",
       "    </tr>\n",
       "  </tbody>\n",
       "</table>\n",
       "</div>"
      ],
      "text/plain": [
       "             ds       trend  yhat_lower  yhat_upper  trend_lower  trend_upper  \\\n",
       "1254 2021-07-21  433.777988  429.569010  445.035271   433.777988   433.777988   \n",
       "1255 2021-07-22  434.096026  430.265045  445.443218   434.096026   434.096026   \n",
       "1256 2021-07-23  434.414064  430.404536  446.234035   434.414064   434.414064   \n",
       "1257 2021-07-26  435.368177  430.317885  445.946823   435.368177   435.368177   \n",
       "1258 2021-07-27  435.686215  430.942596  446.315848   435.686215   435.686215   \n",
       "\n",
       "      additive_terms  additive_terms_lower  additive_terms_upper    weekly  \\\n",
       "1254        3.441333              3.441333              3.441333 -0.002780   \n",
       "1255        3.345710              3.345710              3.345710 -0.071339   \n",
       "1256        3.363983              3.363983              3.363983  0.014245   \n",
       "1257        2.713337              2.713337              2.713337 -0.211648   \n",
       "1258        2.800257              2.800257              2.800257  0.080580   \n",
       "\n",
       "      weekly_lower  weekly_upper    yearly  yearly_lower  yearly_upper  \\\n",
       "1254     -0.002780     -0.002780  3.444113      3.444113      3.444113   \n",
       "1255     -0.071339     -0.071339  3.417049      3.417049      3.417049   \n",
       "1256      0.014245      0.014245  3.349738      3.349738      3.349738   \n",
       "1257     -0.211648     -0.211648  2.924985      2.924985      2.924985   \n",
       "1258      0.080580      0.080580  2.719677      2.719677      2.719677   \n",
       "\n",
       "      multiplicative_terms  multiplicative_terms_lower  \\\n",
       "1254                   0.0                         0.0   \n",
       "1255                   0.0                         0.0   \n",
       "1256                   0.0                         0.0   \n",
       "1257                   0.0                         0.0   \n",
       "1258                   0.0                         0.0   \n",
       "\n",
       "      multiplicative_terms_upper        yhat  \n",
       "1254                         0.0  437.219321  \n",
       "1255                         0.0  437.441736  \n",
       "1256                         0.0  437.778047  \n",
       "1257                         0.0  438.081514  \n",
       "1258                         0.0  438.486472  "
      ]
     },
     "execution_count": 82,
     "metadata": {},
     "output_type": "execute_result"
    }
   ],
   "source": [
    "forecast.tail()"
   ]
  },
  {
   "cell_type": "code",
   "execution_count": 83,
   "id": "9470ac7e",
   "metadata": {},
   "outputs": [
    {
     "data": {
      "image/png": "[encoded data removed]",
      "text/plain": [
       "<Figure size 720x432 with 1 Axes>"
      ]
     },
     "metadata": {},
     "output_type": "display_data"
    }
   ],
   "source": [
    "fig1 = m.plot(forecast)"
   ]
  },
  {
   "cell_type": "markdown",
   "id": "b3990a77",
   "metadata": {},
   "source": [
    "### Predict tomorrw's close price"
   ]
  },
  {
   "cell_type": "code",
   "execution_count": 84,
   "id": "1fbd75f2",
   "metadata": {},
   "outputs": [
    {
     "name": "stdout",
     "output_type": "stream",
     "text": [
      "RNN predicted SPY tomorrow price : [413.96075]\n"
     ]
    }
   ],
   "source": [
    "print(f'RNN predicted {tickers} tomorrow price : {df.Close[-1]*pred_y[-1]/dfy.Close[-1]}')"
   ]
  },
  {
   "cell_type": "code",
   "execution_count": 85,
   "id": "8c3d616f",
   "metadata": {},
   "outputs": [
    {
     "name": "stdout",
     "output_type": "stream",
     "text": [
      "LSTM predicted SPY tomorrow price : [467.6915]\n"
     ]
    }
   ],
   "source": [
    "print(f'LSTM predicted {tickers} tomorrow price : {df.Close[-1]*pred_y2[-1]/dfy.Close[-1]}')"
   ]
  },
  {
   "cell_type": "code",
   "execution_count": 86,
   "id": "b576eab9",
   "metadata": {},
   "outputs": [
    {
     "name": "stdout",
     "output_type": "stream",
     "text": [
      "Prophet predicted SPY tomorrow price : [438.4864717182654]\n"
     ]
    }
   ],
   "source": [
    "print(f'Prophet predicted {tickers} tomorrow price : [{forecast.loc[forecast.index[-1], \"yhat\"]}]')"
   ]
  },
  {
   "cell_type": "code",
   "execution_count": null,
   "id": "9131044a",
   "metadata": {},
   "outputs": [],
   "source": []
  }
 ],
 "metadata": {
  "kernelspec": {
   "display_name": "Python 3 (ipykernel)",
   "language": "python",
   "name": "python3"
  },
  "language_info": {
   "codemirror_mode": {
    "name": "ipython",
    "version": 3
   },
   "file_extension": ".py",
   "mimetype": "text/x-python",
   "name": "python",
   "nbconvert_exporter": "python",
   "pygments_lexer": "ipython3",
   "version": "3.9.6"
  }
 },
 "nbformat": 4,
 "nbformat_minor": 5
}

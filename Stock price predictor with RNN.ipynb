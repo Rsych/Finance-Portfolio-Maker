{
 "cells": [
  {
   "cell_type": "markdown",
   "id": "ba0d6016",
   "metadata": {},
   "source": [
    "# RNN stock price predictor\n",
    "\n",
    "Using Recurrent neural network (RNN) and Long short-term memory (LSTM) algorithm, one of deep learning technique, we'll predict selected ticker's future price. \n",
    "\n",
    "Note : This is just a basic code, hence it's not suitable to apply in real life market, and any investment should be your own decision also risk you take.\n",
    "\n",
    "\n",
    "\n"
   ]
  },
  {
   "cell_type": "markdown",
   "id": "4853093b",
   "metadata": {},
   "source": [
    "## Recurrent Neural Network (RNN)\n",
    "\n",
    "Recurrent neural networks (RNN) are the state of the art algorithm for sequential data and are used by Apple's Siri and and Google's voice search. In RNN, neuron is called cell, information of previously trained cell is used for next cell, hence it is suitable to process sequential data.\n",
    "\n",
    "[image : RNN]"
   ]
  },
  {
   "cell_type": "markdown",
   "id": "53d53519",
   "metadata": {},
   "source": [
    "## Long short-term memory\n",
    "\n",
    "RNN can store short-term memory, to find correlations of data, it needs long term memory, LSTM is used to support \n",
    "this.\n",
    "\n",
    "A common LSTM unit is composed of a cell, an input gate, an output gate and a forget gate. The cell remembers values over arbitrary time intervals and the three gates regulate the flow of information into and out of the cell.\n"
   ]
  },
  {
   "cell_type": "markdown",
   "id": "c20e1ec9",
   "metadata": {},
   "source": [
    "## Stock price predictor\n",
    "\n",
    "\n",
    "### data cleansing"
   ]
  },
  {
   "cell_type": "code",
   "execution_count": 72,
   "id": "85a6d7c9",
   "metadata": {},
   "outputs": [],
   "source": [
    "from pandas_datareader import data as pdr\n",
    "import pandas as pd\n",
    "import yfinance as yf\n",
    "import tensorflow as tf\n",
    "from tensorflow import keras\n",
    "from tensorflow.keras import layers\n",
    "import numpy as np\n",
    "yf.pdr_override()\n",
    "import matplotlib.pyplot as plt\n",
    "\n",
    "    \n",
    "def get_tickers(tickers, date_from):\n",
    "    x = pdr.get_data_yahoo(tickers, start=date_from)\n",
    "    df = pd.DataFrame(x[['Open', 'High', 'Low', 'Volume', 'Adj Close']])\n",
    "    df.fillna(method='bfill', inplace=True)\n",
    "    df.fillna(method='ffill', inplace=True)\n",
    "    df.rename(columns={'Adj Close' : 'Close'}, inplace=True)\n",
    "    return df\n",
    "\n",
    "def Normalizer(data):\n",
    "    numerator = data - np.min(data,0)\n",
    "    denominator = np.max(data, 0) - np.min(data,0)\n",
    "    return numerator / (denominator + 1e-7)"
   ]
  },
  {
   "cell_type": "code",
   "execution_count": 73,
   "id": "79ddcafb",
   "metadata": {},
   "outputs": [
    {
     "name": "stdout",
     "output_type": "stream",
     "text": [
      "[*********************100%***********************]  1 of 1 completed\n"
     ]
    },
    {
     "data": {
      "text/html": [
       "<div>\n",
       "<style scoped>\n",
       "    .dataframe tbody tr th:only-of-type {\n",
       "        vertical-align: middle;\n",
       "    }\n",
       "\n",
       "    .dataframe tbody tr th {\n",
       "        vertical-align: top;\n",
       "    }\n",
       "\n",
       "    .dataframe thead th {\n",
       "        text-align: right;\n",
       "    }\n",
       "</style>\n",
       "<table border=\"1\" class=\"dataframe\">\n",
       "  <thead>\n",
       "    <tr style=\"text-align: right;\">\n",
       "      <th></th>\n",
       "      <th>Open</th>\n",
       "      <th>High</th>\n",
       "      <th>Low</th>\n",
       "      <th>Volume</th>\n",
       "      <th>Close</th>\n",
       "    </tr>\n",
       "    <tr>\n",
       "      <th>Date</th>\n",
       "      <th></th>\n",
       "      <th></th>\n",
       "      <th></th>\n",
       "      <th></th>\n",
       "      <th></th>\n",
       "    </tr>\n",
       "  </thead>\n",
       "  <tbody>\n",
       "    <tr>\n",
       "      <th>2000-01-03</th>\n",
       "      <td>0.936384</td>\n",
       "      <td>1.004464</td>\n",
       "      <td>0.907924</td>\n",
       "      <td>535796800</td>\n",
       "      <td>0.859423</td>\n",
       "    </tr>\n",
       "    <tr>\n",
       "      <th>2000-01-04</th>\n",
       "      <td>0.966518</td>\n",
       "      <td>0.987723</td>\n",
       "      <td>0.903460</td>\n",
       "      <td>512377600</td>\n",
       "      <td>0.786965</td>\n",
       "    </tr>\n",
       "    <tr>\n",
       "      <th>2000-01-05</th>\n",
       "      <td>0.926339</td>\n",
       "      <td>0.987165</td>\n",
       "      <td>0.919643</td>\n",
       "      <td>778321600</td>\n",
       "      <td>0.798481</td>\n",
       "    </tr>\n",
       "    <tr>\n",
       "      <th>2000-01-06</th>\n",
       "      <td>0.947545</td>\n",
       "      <td>0.955357</td>\n",
       "      <td>0.848214</td>\n",
       "      <td>767972800</td>\n",
       "      <td>0.729382</td>\n",
       "    </tr>\n",
       "    <tr>\n",
       "      <th>2000-01-07</th>\n",
       "      <td>0.861607</td>\n",
       "      <td>0.901786</td>\n",
       "      <td>0.852679</td>\n",
       "      <td>460734400</td>\n",
       "      <td>0.763932</td>\n",
       "    </tr>\n",
       "    <tr>\n",
       "      <th>...</th>\n",
       "      <td>...</td>\n",
       "      <td>...</td>\n",
       "      <td>...</td>\n",
       "      <td>...</td>\n",
       "      <td>...</td>\n",
       "    </tr>\n",
       "    <tr>\n",
       "      <th>2021-05-24</th>\n",
       "      <td>126.010002</td>\n",
       "      <td>127.940002</td>\n",
       "      <td>125.940002</td>\n",
       "      <td>63092900</td>\n",
       "      <td>127.099998</td>\n",
       "    </tr>\n",
       "    <tr>\n",
       "      <th>2021-05-25</th>\n",
       "      <td>127.820000</td>\n",
       "      <td>128.320007</td>\n",
       "      <td>126.320000</td>\n",
       "      <td>72009500</td>\n",
       "      <td>126.900002</td>\n",
       "    </tr>\n",
       "    <tr>\n",
       "      <th>2021-05-26</th>\n",
       "      <td>126.959999</td>\n",
       "      <td>127.389999</td>\n",
       "      <td>126.419998</td>\n",
       "      <td>56575900</td>\n",
       "      <td>126.849998</td>\n",
       "    </tr>\n",
       "    <tr>\n",
       "      <th>2021-05-27</th>\n",
       "      <td>126.440002</td>\n",
       "      <td>127.639999</td>\n",
       "      <td>125.080002</td>\n",
       "      <td>94625600</td>\n",
       "      <td>125.279999</td>\n",
       "    </tr>\n",
       "    <tr>\n",
       "      <th>2021-05-28</th>\n",
       "      <td>125.570000</td>\n",
       "      <td>125.800003</td>\n",
       "      <td>124.550003</td>\n",
       "      <td>71232700</td>\n",
       "      <td>124.610001</td>\n",
       "    </tr>\n",
       "  </tbody>\n",
       "</table>\n",
       "<p>5386 rows × 5 columns</p>\n",
       "</div>"
      ],
      "text/plain": [
       "                  Open        High         Low     Volume       Close\n",
       "Date                                                                 \n",
       "2000-01-03    0.936384    1.004464    0.907924  535796800    0.859423\n",
       "2000-01-04    0.966518    0.987723    0.903460  512377600    0.786965\n",
       "2000-01-05    0.926339    0.987165    0.919643  778321600    0.798481\n",
       "2000-01-06    0.947545    0.955357    0.848214  767972800    0.729382\n",
       "2000-01-07    0.861607    0.901786    0.852679  460734400    0.763932\n",
       "...                ...         ...         ...        ...         ...\n",
       "2021-05-24  126.010002  127.940002  125.940002   63092900  127.099998\n",
       "2021-05-25  127.820000  128.320007  126.320000   72009500  126.900002\n",
       "2021-05-26  126.959999  127.389999  126.419998   56575900  126.849998\n",
       "2021-05-27  126.440002  127.639999  125.080002   94625600  125.279999\n",
       "2021-05-28  125.570000  125.800003  124.550003   71232700  124.610001\n",
       "\n",
       "[5386 rows x 5 columns]"
      ]
     },
     "execution_count": 73,
     "metadata": {},
     "output_type": "execute_result"
    }
   ],
   "source": [
    "tickers = ['AAPL']\n",
    "df = get_tickers(tickers, '2000-01-04')\n",
    "df"
   ]
  },
  {
   "cell_type": "code",
   "execution_count": 74,
   "id": "b6d33e3d",
   "metadata": {},
   "outputs": [],
   "source": [
    "dfx = Normalizer(df)\n",
    "dfy = dfx[['Close']]\n",
    "\n",
    "\n",
    "x = dfx.values.tolist()\n",
    "y = dfy.values.tolist()"
   ]
  },
  {
   "cell_type": "code",
   "execution_count": 75,
   "id": "e83c8f26",
   "metadata": {},
   "outputs": [
    {
     "name": "stdout",
     "output_type": "stream",
     "text": [
      "<class 'pandas.core.frame.DataFrame'>\n",
      "DatetimeIndex: 5386 entries, 2000-01-03 to 2021-05-28\n",
      "Data columns (total 5 columns):\n",
      " #   Column  Non-Null Count  Dtype  \n",
      "---  ------  --------------  -----  \n",
      " 0   Open    5386 non-null   float64\n",
      " 1   High    5386 non-null   float64\n",
      " 2   Low     5386 non-null   float64\n",
      " 3   Volume  5386 non-null   float64\n",
      " 4   Close   5386 non-null   float64\n",
      "dtypes: float64(5)\n",
      "memory usage: 252.5 KB\n"
     ]
    }
   ],
   "source": [
    "dfx.info()"
   ]
  },
  {
   "cell_type": "code",
   "execution_count": 76,
   "id": "95133549",
   "metadata": {},
   "outputs": [
    {
     "name": "stdout",
     "output_type": "stream",
     "text": [
      "<class 'pandas.core.frame.DataFrame'>\n",
      "DatetimeIndex: 5386 entries, 2000-01-03 to 2021-05-28\n",
      "Data columns (total 1 columns):\n",
      " #   Column  Non-Null Count  Dtype  \n",
      "---  ------  --------------  -----  \n",
      " 0   Close   5386 non-null   float64\n",
      "dtypes: float64(1)\n",
      "memory usage: 84.2 KB\n"
     ]
    }
   ],
   "source": [
    "dfy.info()"
   ]
  },
  {
   "cell_type": "code",
   "execution_count": 77,
   "id": "72bbc716",
   "metadata": {},
   "outputs": [],
   "source": [
    "data_x = []\n",
    "data_y = []\n",
    "window_size = 20\n",
    "for i in range(len(y) - window_size):\n",
    "    _x = x[i : i + window_size] # not including next day close (i+window_size)\n",
    "    _y = y[i + window_size] # Next day close\n",
    "    data_x.append(_x)\n",
    "    data_y.append(_y)"
   ]
  },
  {
   "cell_type": "markdown",
   "id": "73901b9b",
   "metadata": {},
   "source": [
    "Run `print(_x, \"->\", _y)` to see _x values added to data_x and _y"
   ]
  },
  {
   "cell_type": "code",
   "execution_count": 78,
   "id": "f2797bb8",
   "metadata": {},
   "outputs": [
    {
     "name": "stdout",
     "output_type": "stream",
     "text": [
      "[[0.9175547964307232, 0.92040287303561, 0.927024374727454, 0.009532692030105303, 0.919531830888699], [0.919368272452664, 0.9239237157080603, 0.9324089513809773, 0.004848772892050132, 0.9270976992944958], [0.9134395394400335, 0.9061127223623834, 0.8960627616704036, 0.013305431824181426, 0.8942418305138101], [0.8995591413912367, 0.8989330432435207, 0.9050607679636836, 0.0060497263942428355, 0.8959932940354725], [0.8904218361834393, 0.894100627685878, 0.8991093226434518, 0.00525422914222081, 0.9074823143785697], [0.9110680462349814, 0.9045248459129903, 0.9157591099850063, 0.00535777409666103, 0.9123243502316951], [0.901023949800766, 0.8926508503492057, 0.8968421182487007, 0.006601085666950878, 0.8887457664653976], [0.8598013483648804, 0.8700764910022464, 0.8682186289809585, 0.011758231254949677, 0.8821494295419565], [0.8591038534937149, 0.8588238361069469, 0.8645344421098943, 0.009865799562109418, 0.8601146863977368], [0.8673344206905419, 0.8692481070034387, 0.878775348430833, 0.009010917030094465, 0.8755530390798616], [0.8789827500068931, 0.8812601490105647, 0.8900405050644477, 0.005752474892380435, 0.8929562068191939], [0.8829585293095287, 0.8746328136732062, 0.8852226889687996, 0.004728146542064501, 0.8846756509233112], [0.8811450000721404, 0.8750470056726101, 0.8824595353018972, 0.0032514118091747225, 0.8747109295936408], [0.8574298551598282, 0.8607568023300041, 0.868856308933391, 0.00721617845753454, 0.8735881704840003], [0.8718682171762889, 0.8800865698993342, 0.8847267396966483, 0.005082033503701177, 0.8919737725212632], [0.8899335844520787, 0.8820195361223914, 0.8855060962749456, 0.005400660455342053, 0.8787810451357272], [0.8773087516730064, 0.8816053441229875, 0.8906781850168801, 0.0032175470281568586, 0.8905001210743672], [0.8899335844520787, 0.8842287005708903, 0.8933704733436418, 0.004425381853852392, 0.889096658802653], [0.8839350327722498, 0.8778084085638543, 0.8940789645817985, 0.002334759916583188, 0.8887457664653976], [0.8803080275129208, 0.8795342787872096, 0.8845850630707837, 0.007488938949764821, 0.8777284216626147]] -> [0.873026764159853]\n"
     ]
    }
   ],
   "source": [
    "print(_x, \"->\", _y)"
   ]
  },
  {
   "cell_type": "markdown",
   "id": "6c980bbc",
   "metadata": {},
   "source": [
    "Past 10 days, given data, latest close is 0.8726370803053053, next day close is 0.8677396475977315"
   ]
  },
  {
   "cell_type": "markdown",
   "id": "3fe17f66",
   "metadata": {},
   "source": [
    "### Prepare train / test dataset"
   ]
  },
  {
   "cell_type": "code",
   "execution_count": 79,
   "id": "66e14791",
   "metadata": {},
   "outputs": [],
   "source": [
    "# train dataset\n",
    "train_size = int(len(data_y) * 0.7)\n",
    "train_x = np.array(data_x[0 : train_size])\n",
    "train_y = np.array(data_y[0 : train_size])\n",
    "\n",
    "# test dataset\n",
    "test_size = len(data_y) - train_size\n",
    "test_x = np.array(data_x[train_size : len(data_x)])\n",
    "test_y = np.array(data_y[train_size : len(data_y)])"
   ]
  },
  {
   "cell_type": "markdown",
   "id": "48711e41",
   "metadata": {},
   "source": [
    "### Build model"
   ]
  },
  {
   "cell_type": "code",
   "execution_count": 80,
   "id": "2b427330",
   "metadata": {},
   "outputs": [
    {
     "name": "stdout",
     "output_type": "stream",
     "text": [
      "Model: \"sequential_4\"\n",
      "_________________________________________________________________\n",
      "Layer (type)                 Output Shape              Param #   \n",
      "=================================================================\n",
      "lstm_8 (LSTM)                (None, 20, 10)            640       \n",
      "_________________________________________________________________\n",
      "dropout_8 (Dropout)          (None, 20, 10)            0         \n",
      "_________________________________________________________________\n",
      "lstm_9 (LSTM)                (None, 10)                840       \n",
      "_________________________________________________________________\n",
      "dropout_9 (Dropout)          (None, 10)                0         \n",
      "_________________________________________________________________\n",
      "dense_4 (Dense)              (None, 1)                 11        \n",
      "=================================================================\n",
      "Total params: 1,491\n",
      "Trainable params: 1,491\n",
      "Non-trainable params: 0\n",
      "_________________________________________________________________\n"
     ]
    }
   ],
   "source": [
    "model = keras.Sequential()\n",
    "model.add(layers.LSTM(units=10, activation='relu',\n",
    "                      return_sequences=True, input_shape=(window_size, 5)))\n",
    "model.add(layers.Dropout(0.1))\n",
    "model.add(layers.LSTM(units=10, activation='relu'))\n",
    "model.add(layers.Dropout(0.1))\n",
    "model.add(layers.Dense(units=1))\n",
    "model.summary()\n"
   ]
  },
  {
   "cell_type": "markdown",
   "id": "c725583e",
   "metadata": {},
   "source": [
    "### Model fit"
   ]
  },
  {
   "cell_type": "code",
   "execution_count": 81,
   "id": "c8e00fec",
   "metadata": {
    "scrolled": true
   },
   "outputs": [
    {
     "name": "stdout",
     "output_type": "stream",
     "text": [
      "Epoch 1/20\n",
      "126/126 [==============================] - 5s 16ms/step - loss: 4.6710e-04 - accuracy: 2.6624e-04\n",
      "Epoch 2/20\n",
      "126/126 [==============================] - 2s 15ms/step - loss: 1.3531e-04 - accuracy: 2.6624e-04\n",
      "Epoch 3/20\n",
      "126/126 [==============================] - 2s 16ms/step - loss: 1.0652e-04 - accuracy: 2.6624e-04\n",
      "Epoch 4/20\n",
      "126/126 [==============================] - 2s 16ms/step - loss: 1.1145e-04 - accuracy: 2.6624e-04\n",
      "Epoch 5/20\n",
      "126/126 [==============================] - 3s 21ms/step - loss: 1.0220e-04 - accuracy: 2.6624e-04\n",
      "Epoch 6/20\n",
      "126/126 [==============================] - 3s 21ms/step - loss: 9.8137e-05 - accuracy: 2.6624e-04\n",
      "Epoch 7/20\n",
      "126/126 [==============================] - 2s 16ms/step - loss: 1.0391e-04 - accuracy: 2.6624e-04\n",
      "Epoch 8/20\n",
      "126/126 [==============================] - 2s 16ms/step - loss: 9.7792e-05 - accuracy: 2.6624e-04\n",
      "Epoch 9/20\n",
      "126/126 [==============================] - 2s 18ms/step - loss: 9.5982e-05 - accuracy: 2.6624e-04\n",
      "Epoch 10/20\n",
      "126/126 [==============================] - 2s 16ms/step - loss: 9.9174e-05 - accuracy: 2.6624e-04\n",
      "Epoch 11/20\n",
      "126/126 [==============================] - 2s 16ms/step - loss: 9.2707e-05 - accuracy: 2.6624e-04\n",
      "Epoch 12/20\n",
      "126/126 [==============================] - 2s 16ms/step - loss: 9.1712e-05 - accuracy: 2.6624e-04\n",
      "Epoch 13/20\n",
      "126/126 [==============================] - 2s 16ms/step - loss: 8.4744e-05 - accuracy: 2.6624e-04\n",
      "Epoch 14/20\n",
      "126/126 [==============================] - 2s 16ms/step - loss: 8.8127e-05 - accuracy: 2.6624e-04\n",
      "Epoch 15/20\n",
      "126/126 [==============================] - 3s 25ms/step - loss: 8.8669e-05 - accuracy: 2.6624e-04\n",
      "Epoch 16/20\n",
      "126/126 [==============================] - 2s 17ms/step - loss: 9.4340e-05 - accuracy: 2.6624e-04\n",
      "Epoch 17/20\n",
      "126/126 [==============================] - 2s 17ms/step - loss: 8.7388e-05 - accuracy: 2.6624e-04\n",
      "Epoch 18/20\n",
      "126/126 [==============================] - 2s 17ms/step - loss: 9.1416e-05 - accuracy: 2.6624e-04\n",
      "Epoch 19/20\n",
      "126/126 [==============================] - 2s 17ms/step - loss: 9.1349e-05 - accuracy: 2.6624e-04\n",
      "Epoch 20/20\n",
      "126/126 [==============================] - 2s 17ms/step - loss: 9.1710e-05 - accuracy: 2.6624e-04\n"
     ]
    }
   ],
   "source": [
    "model.compile(optimizer='RMSprop', loss='mean_squared_error', metrics=['accuracy'])\n",
    "model.fit(train_x, train_y, epochs=20, batch_size=30)\n",
    "pred_y = model.predict(test_x)"
   ]
  },
  {
   "cell_type": "markdown",
   "id": "252545e4",
   "metadata": {},
   "source": [
    "### Compare prediction to real"
   ]
  },
  {
   "cell_type": "code",
   "execution_count": 82,
   "id": "5c871d1c",
   "metadata": {},
   "outputs": [
    {
     "data": {
      "image/png": "[encoded data removed]",
      "text/plain": [
       "<Figure size 432x288 with 1 Axes>"
      ]
     },
     "metadata": {
      "needs_background": "light"
     },
     "output_type": "display_data"
    }
   ],
   "source": [
    "plt.figure()\n",
    "plt.plot(test_y, c='r', label='real stock price')\n",
    "plt.plot(pred_y, c='blue', label='predicted stock price')\n",
    "plt.title(f'{tickers} Stock price prediction')\n",
    "plt.xlabel('time')\n",
    "plt.ylabel('stock price')\n",
    "plt.legend()\n",
    "plt.show()"
   ]
  },
  {
   "cell_type": "markdown",
   "id": "01809265",
   "metadata": {},
   "source": [
    "### Predict tomorrw's close price"
   ]
  },
  {
   "cell_type": "code",
   "execution_count": 83,
   "id": "e414b099",
   "metadata": {},
   "outputs": [
    {
     "name": "stdout",
     "output_type": "stream",
     "text": [
      "['AAPL'] tomorrow price : [126.392975]\n"
     ]
    }
   ],
   "source": [
    "print(f'{tickers} tomorrow price : {df.Close[-1]*pred_y[-1]/dfy.Close[-1]}')"
   ]
  },
  {
   "cell_type": "code",
   "execution_count": null,
   "id": "553ef352",
   "metadata": {},
   "outputs": [],
   "source": []
  }
 ],
 "metadata": {
  "kernelspec": {
   "display_name": "Python 3",
   "language": "python",
   "name": "python3"
  },
  "language_info": {
   "codemirror_mode": {
    "name": "ipython",
    "version": 3
   },
   "file_extension": ".py",
   "mimetype": "text/x-python",
   "name": "python",
   "nbconvert_exporter": "python",
   "pygments_lexer": "ipython3",
   "version": "3.7.1"
  }
 },
 "nbformat": 4,
 "nbformat_minor": 5
}

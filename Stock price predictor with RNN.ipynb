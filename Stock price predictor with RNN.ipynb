{
 "cells": [
  {
   "cell_type": "markdown",
   "id": "a423ee4e",
   "metadata": {},
   "source": [
    "# RNN stock price predictor\n",
    "\n",
    "Using Recurrent neural network (RNN) and Long short-term memory (LSTM) algorithm, one of deep learning technique, we'll predict selected ticker's future price. \n",
    "\n",
    "Note : This is just a basic code, hence it's not suitable to apply in real life market, and any investment should be your own decision also risk you take.\n",
    "\n",
    "\n",
    "\n"
   ]
  },
  {
   "cell_type": "markdown",
   "id": "5f056a58",
   "metadata": {},
   "source": [
    "## Recurrent Neural Network (RNN)\n",
    "\n",
    "Recurrent neural networks (RNN) are the state of the art algorithm for sequential data and are used by Apple's Siri and and Google's voice search. In RNN, neuron is called cell, information of previously trained cell is used for next cell, hence it is suitable to process sequential data.\n",
    "\n",
    "[image : RNN]"
   ]
  },
  {
   "cell_type": "markdown",
   "id": "c9739df3",
   "metadata": {},
   "source": [
    "## Long short-term memory\n",
    "\n",
    "RNN can store short-term memory, to find correlations of data, it needs long term memory, LSTM is used to support \n",
    "this.\n",
    "\n",
    "A common LSTM unit is composed of a cell, an input gate, an output gate and a forget gate. The cell remembers values over arbitrary time intervals and the three gates regulate the flow of information into and out of the cell.\n"
   ]
  },
  {
   "cell_type": "markdown",
   "id": "d011915c",
   "metadata": {},
   "source": [
    "## Stock price predictor\n",
    "\n",
    "\n",
    "### data cleansing"
   ]
  },
  {
   "cell_type": "code",
   "execution_count": 47,
   "id": "5bb33890",
   "metadata": {},
   "outputs": [],
   "source": [
    "from pandas_datareader import data as pdr\n",
    "import pandas as pd\n",
    "import yfinance as yf\n",
    "import tensorflow as tf\n",
    "from tensorflow import keras\n",
    "from tensorflow.keras import layers\n",
    "import numpy as np\n",
    "yf.pdr_override()\n",
    "import matplotlib.pyplot as plt\n",
    "\n",
    "    \n",
    "def get_tickers(tickers, date_from):\n",
    "    x = pdr.get_data_yahoo(tickers, start=date_from)\n",
    "    df = pd.DataFrame(x[['Open', 'High', 'Low', 'Volume', 'Adj Close']])\n",
    "    df.fillna(method='bfill', inplace=True)\n",
    "    df.fillna(method='ffill', inplace=True)\n",
    "    df.rename(columns={'Adj Close' : 'Close'}, inplace=True)\n",
    "    return df\n",
    "\n",
    "def Normalizer(data):\n",
    "    numerator = data - np.min(data,0)\n",
    "    denominator = np.max(data, 0) - np.min(data,0)\n",
    "    return numerator / (denominator + 1e-7)"
   ]
  },
  {
   "cell_type": "code",
   "execution_count": 48,
   "id": "7afe7e8d",
   "metadata": {},
   "outputs": [
    {
     "name": "stdout",
     "output_type": "stream",
     "text": [
      "[*********************100%***********************]  1 of 1 completed\n"
     ]
    },
    {
     "data": {
      "text/html": [
       "<div>\n",
       "<style scoped>\n",
       "    .dataframe tbody tr th:only-of-type {\n",
       "        vertical-align: middle;\n",
       "    }\n",
       "\n",
       "    .dataframe tbody tr th {\n",
       "        vertical-align: top;\n",
       "    }\n",
       "\n",
       "    .dataframe thead th {\n",
       "        text-align: right;\n",
       "    }\n",
       "</style>\n",
       "<table border=\"1\" class=\"dataframe\">\n",
       "  <thead>\n",
       "    <tr style=\"text-align: right;\">\n",
       "      <th></th>\n",
       "      <th>Open</th>\n",
       "      <th>High</th>\n",
       "      <th>Low</th>\n",
       "      <th>Volume</th>\n",
       "      <th>Close</th>\n",
       "    </tr>\n",
       "    <tr>\n",
       "      <th>Date</th>\n",
       "      <th></th>\n",
       "      <th></th>\n",
       "      <th></th>\n",
       "      <th></th>\n",
       "      <th></th>\n",
       "    </tr>\n",
       "  </thead>\n",
       "  <tbody>\n",
       "    <tr>\n",
       "      <th>2014-10-16</th>\n",
       "      <td>394.518005</td>\n",
       "      <td>398.807007</td>\n",
       "      <td>373.070007</td>\n",
       "      <td>26990000</td>\n",
       "      <td>382.556000</td>\n",
       "    </tr>\n",
       "    <tr>\n",
       "      <th>2014-10-17</th>\n",
       "      <td>382.756012</td>\n",
       "      <td>385.477997</td>\n",
       "      <td>375.389008</td>\n",
       "      <td>13600700</td>\n",
       "      <td>383.757996</td>\n",
       "    </tr>\n",
       "    <tr>\n",
       "      <th>2014-10-18</th>\n",
       "      <td>383.976013</td>\n",
       "      <td>395.157990</td>\n",
       "      <td>378.971008</td>\n",
       "      <td>11416800</td>\n",
       "      <td>391.441986</td>\n",
       "    </tr>\n",
       "    <tr>\n",
       "      <th>2014-10-19</th>\n",
       "      <td>391.253998</td>\n",
       "      <td>393.938995</td>\n",
       "      <td>386.457001</td>\n",
       "      <td>5914570</td>\n",
       "      <td>389.545990</td>\n",
       "    </tr>\n",
       "    <tr>\n",
       "      <th>2014-10-20</th>\n",
       "      <td>389.230988</td>\n",
       "      <td>390.084015</td>\n",
       "      <td>378.252014</td>\n",
       "      <td>16419000</td>\n",
       "      <td>382.845001</td>\n",
       "    </tr>\n",
       "    <tr>\n",
       "      <th>...</th>\n",
       "      <td>...</td>\n",
       "      <td>...</td>\n",
       "      <td>...</td>\n",
       "      <td>...</td>\n",
       "      <td>...</td>\n",
       "    </tr>\n",
       "    <tr>\n",
       "      <th>2021-05-27</th>\n",
       "      <td>39316.890625</td>\n",
       "      <td>40379.617188</td>\n",
       "      <td>37247.902344</td>\n",
       "      <td>43210968721</td>\n",
       "      <td>38436.968750</td>\n",
       "    </tr>\n",
       "    <tr>\n",
       "      <th>2021-05-28</th>\n",
       "      <td>38507.082031</td>\n",
       "      <td>38856.968750</td>\n",
       "      <td>34779.039062</td>\n",
       "      <td>55200191952</td>\n",
       "      <td>35697.605469</td>\n",
       "    </tr>\n",
       "    <tr>\n",
       "      <th>2021-05-29</th>\n",
       "      <td>35684.156250</td>\n",
       "      <td>37234.500000</td>\n",
       "      <td>33693.929688</td>\n",
       "      <td>45231013335</td>\n",
       "      <td>34616.066406</td>\n",
       "    </tr>\n",
       "    <tr>\n",
       "      <th>2021-05-30</th>\n",
       "      <td>34607.406250</td>\n",
       "      <td>36400.667969</td>\n",
       "      <td>33520.738281</td>\n",
       "      <td>31646080921</td>\n",
       "      <td>35678.128906</td>\n",
       "    </tr>\n",
       "    <tr>\n",
       "      <th>2021-05-31</th>\n",
       "      <td>35508.320312</td>\n",
       "      <td>37176.070312</td>\n",
       "      <td>34249.679688</td>\n",
       "      <td>36825399296</td>\n",
       "      <td>37151.726562</td>\n",
       "    </tr>\n",
       "  </tbody>\n",
       "</table>\n",
       "<p>2416 rows × 5 columns</p>\n",
       "</div>"
      ],
      "text/plain": [
       "                    Open          High           Low       Volume  \\\n",
       "Date                                                                \n",
       "2014-10-16    394.518005    398.807007    373.070007     26990000   \n",
       "2014-10-17    382.756012    385.477997    375.389008     13600700   \n",
       "2014-10-18    383.976013    395.157990    378.971008     11416800   \n",
       "2014-10-19    391.253998    393.938995    386.457001      5914570   \n",
       "2014-10-20    389.230988    390.084015    378.252014     16419000   \n",
       "...                  ...           ...           ...          ...   \n",
       "2021-05-27  39316.890625  40379.617188  37247.902344  43210968721   \n",
       "2021-05-28  38507.082031  38856.968750  34779.039062  55200191952   \n",
       "2021-05-29  35684.156250  37234.500000  33693.929688  45231013335   \n",
       "2021-05-30  34607.406250  36400.667969  33520.738281  31646080921   \n",
       "2021-05-31  35508.320312  37176.070312  34249.679688  36825399296   \n",
       "\n",
       "                   Close  \n",
       "Date                      \n",
       "2014-10-16    382.556000  \n",
       "2014-10-17    383.757996  \n",
       "2014-10-18    391.441986  \n",
       "2014-10-19    389.545990  \n",
       "2014-10-20    382.845001  \n",
       "...                  ...  \n",
       "2021-05-27  38436.968750  \n",
       "2021-05-28  35697.605469  \n",
       "2021-05-29  34616.066406  \n",
       "2021-05-30  35678.128906  \n",
       "2021-05-31  37151.726562  \n",
       "\n",
       "[2416 rows x 5 columns]"
      ]
     },
     "execution_count": 48,
     "metadata": {},
     "output_type": "execute_result"
    }
   ],
   "source": [
    "tickers = ['BTC-USD']\n",
    "df = get_tickers(tickers, '2014-10-17')\n",
    "df"
   ]
  },
  {
   "cell_type": "code",
   "execution_count": 49,
   "id": "bb0bee43",
   "metadata": {},
   "outputs": [],
   "source": [
    "dfx = Normalizer(df)\n",
    "dfy = dfx[['Close']]\n",
    "\n",
    "\n",
    "x = dfx.values.tolist()\n",
    "y = dfy.values.tolist()"
   ]
  },
  {
   "cell_type": "code",
   "execution_count": 50,
   "id": "7342ee47",
   "metadata": {},
   "outputs": [
    {
     "name": "stdout",
     "output_type": "stream",
     "text": [
      "<class 'pandas.core.frame.DataFrame'>\n",
      "DatetimeIndex: 2416 entries, 2014-10-16 to 2021-05-31\n",
      "Data columns (total 5 columns):\n",
      " #   Column  Non-Null Count  Dtype  \n",
      "---  ------  --------------  -----  \n",
      " 0   Open    2416 non-null   float64\n",
      " 1   High    2416 non-null   float64\n",
      " 2   Low     2416 non-null   float64\n",
      " 3   Volume  2416 non-null   float64\n",
      " 4   Close   2416 non-null   float64\n",
      "dtypes: float64(5)\n",
      "memory usage: 113.2 KB\n"
     ]
    }
   ],
   "source": [
    "dfx.info()"
   ]
  },
  {
   "cell_type": "code",
   "execution_count": 51,
   "id": "b34f417d",
   "metadata": {},
   "outputs": [
    {
     "name": "stdout",
     "output_type": "stream",
     "text": [
      "<class 'pandas.core.frame.DataFrame'>\n",
      "DatetimeIndex: 2416 entries, 2014-10-16 to 2021-05-31\n",
      "Data columns (total 1 columns):\n",
      " #   Column  Non-Null Count  Dtype  \n",
      "---  ------  --------------  -----  \n",
      " 0   Close   2416 non-null   float64\n",
      "dtypes: float64(1)\n",
      "memory usage: 37.8 KB\n"
     ]
    }
   ],
   "source": [
    "dfy.info()"
   ]
  },
  {
   "cell_type": "code",
   "execution_count": 52,
   "id": "a26ca4fa",
   "metadata": {},
   "outputs": [],
   "source": [
    "data_x = []\n",
    "data_y = []\n",
    "window_size = 10\n",
    "for i in range(len(y) - window_size):\n",
    "    _x = x[i : i + window_size] # not including next day close (i+window_size)\n",
    "    _y = y[i + window_size] # Next day close\n",
    "    data_x.append(_x)\n",
    "    data_y.append(_y)"
   ]
  },
  {
   "cell_type": "markdown",
   "id": "0a9ad6d8",
   "metadata": {},
   "source": [
    "Run `print(_x, \"->\", _y)` to see _x values added to data_x and _y"
   ]
  },
  {
   "cell_type": "code",
   "execution_count": 53,
   "id": "8ceec4ba",
   "metadata": {},
   "outputs": [
    {
     "name": "stdout",
     "output_type": "stream",
     "text": [
      "[[0.6380751025636054, 0.6490263554218816, 0.539108885297013, 0.23377373049043113, 0.5862831558617594], [0.5871504296365694, 0.5973473676379949, 0.5675953935369413, 0.16346884925210348, 0.5899458500509391], [0.5896828041945557, 0.5889664784852006, 0.5005980649054943, 0.223566522230465, 0.5462658608361611], [0.5449909903319163, 0.6128781443171756, 0.5541744438135532, 0.19191155841330934, 0.6084115605720756], [0.6096416797103922, 0.6119688199588053, 0.5869022154666724, 0.16014838336790635, 0.6036147802440194], [0.6032774136724384, 0.627524973131708, 0.6082507097467215, 0.1462859701437501, 0.6177003953360994], [0.6178679659142444, 0.6212998775408176, 0.5976452844379659, 0.12310464049776679, 0.6041634719059887], [0.6050842441427322, 0.5977481953983556, 0.5578489503161747, 0.15726566736609135, 0.5609049173662612], [0.5605212473461467, 0.5726525348735815, 0.5403577528188697, 0.12886037604497394, 0.5438258330249347], [0.5435235610734752, 0.5597551736202859, 0.5375660295499092, 0.09015267728438295, 0.5605973539456228]] -> [0.5838676171556259]\n"
     ]
    }
   ],
   "source": [
    "print(_x, \"->\", _y)"
   ]
  },
  {
   "cell_type": "markdown",
   "id": "70cba69f",
   "metadata": {},
   "source": [
    "Past 10 days, given data, latest close is 0.8726370803053053, next day close is 0.8677396475977315"
   ]
  },
  {
   "cell_type": "markdown",
   "id": "1721a33e",
   "metadata": {},
   "source": [
    "### Prepare train / test dataset"
   ]
  },
  {
   "cell_type": "code",
   "execution_count": 54,
   "id": "1bb42a9c",
   "metadata": {},
   "outputs": [],
   "source": [
    "# train dataset\n",
    "train_size = int(len(data_y) * 0.7)\n",
    "train_x = np.array(data_x[0 : train_size])\n",
    "train_y = np.array(data_y[0 : train_size])\n",
    "\n",
    "# test dataset\n",
    "test_size = len(data_y) - train_size\n",
    "test_x = np.array(data_x[train_size : len(data_x)])\n",
    "test_y = np.array(data_y[train_size : len(data_y)])"
   ]
  },
  {
   "cell_type": "markdown",
   "id": "b6d94f9c",
   "metadata": {},
   "source": [
    "### Build model"
   ]
  },
  {
   "cell_type": "code",
   "execution_count": 63,
   "id": "5cb5f9d0",
   "metadata": {},
   "outputs": [
    {
     "name": "stdout",
     "output_type": "stream",
     "text": [
      "Model: \"sequential_4\"\n",
      "_________________________________________________________________\n",
      "Layer (type)                 Output Shape              Param #   \n",
      "=================================================================\n",
      "lstm_16 (LSTM)               (None, 10, 10)            640       \n",
      "_________________________________________________________________\n",
      "dropout_16 (Dropout)         (None, 10, 10)            0         \n",
      "_________________________________________________________________\n",
      "lstm_17 (LSTM)               (None, 10)                840       \n",
      "_________________________________________________________________\n",
      "dropout_17 (Dropout)         (None, 10)                0         \n",
      "_________________________________________________________________\n",
      "dense_4 (Dense)              (None, 1)                 11        \n",
      "=================================================================\n",
      "Total params: 1,491\n",
      "Trainable params: 1,491\n",
      "Non-trainable params: 0\n",
      "_________________________________________________________________\n"
     ]
    }
   ],
   "source": [
    "model = keras.Sequential()\n",
    "model.add(layers.LSTM(units=10, activation='relu',\n",
    "                      return_sequences=True, input_shape=(window_size, 5)))\n",
    "model.add(layers.Dropout(0.1))\n",
    "model.add(layers.LSTM(units=10, activation='relu'))\n",
    "model.add(layers.Dropout(0.1))\n",
    "model.add(layers.Dense(units=1))\n",
    "model.summary()\n",
    "\n",
    "# from tensorflow.keras.layers import Dense, LSTM, Dropout, Bidirectional, Activation\n",
    "# model = keras.Sequential()\n",
    "# model.add(layers.LSTM(units=30, activation='relu',\n",
    "#                       return_sequences=True, input_shape=(window_size, 5)))\n",
    "# model.add(layers.Dropout(0.1))\n",
    "# model.add(layers.LSTM(units=40, activation='relu', return_sequences=True))\n",
    "# model.add(layers.Dropout(0.2))\n",
    "# model.add(layers.LSTM(units=60, activation='relu', return_sequences=True))\n",
    "# model.add(layers.Dropout(0.3))\n",
    "# model.add(layers.LSTM(units=90, activation='relu'))\n",
    "# model.add(layers.Dropout(0.5))\n",
    "# model.add(layers.Dense(units=1))\n",
    "# model.summary()"
   ]
  },
  {
   "cell_type": "markdown",
   "id": "4c450c77",
   "metadata": {},
   "source": [
    "### Model fit"
   ]
  },
  {
   "cell_type": "code",
   "execution_count": 67,
   "id": "d866c048",
   "metadata": {
    "scrolled": true
   },
   "outputs": [
    {
     "name": "stdout",
     "output_type": "stream",
     "text": [
      "Epoch 1/20\n",
      "57/57 [==============================] - 3s 15ms/step - loss: 1.9839e-04\n",
      "Epoch 2/20\n",
      "57/57 [==============================] - 1s 12ms/step - loss: 1.6740e-04\n",
      "Epoch 3/20\n",
      "57/57 [==============================] - 1s 9ms/step - loss: 1.9068e-04\n",
      "Epoch 4/20\n",
      "57/57 [==============================] - 1s 9ms/step - loss: 1.9632e-04\n",
      "Epoch 5/20\n",
      "57/57 [==============================] - 1s 9ms/step - loss: 1.7944e-04\n",
      "Epoch 6/20\n",
      "57/57 [==============================] - 1s 10ms/step - loss: 1.9163e-04\n",
      "Epoch 7/20\n",
      "57/57 [==============================] - 1s 9ms/step - loss: 1.6261e-04\n",
      "Epoch 8/20\n",
      "57/57 [==============================] - 1s 9ms/step - loss: 1.8336e-04\n",
      "Epoch 9/20\n",
      "57/57 [==============================] - 1s 9ms/step - loss: 1.8138e-04\n",
      "Epoch 10/20\n",
      "57/57 [==============================] - 1s 9ms/step - loss: 1.8593e-04\n",
      "Epoch 11/20\n",
      "57/57 [==============================] - 1s 10ms/step - loss: 1.7394e-04\n",
      "Epoch 12/20\n",
      "57/57 [==============================] - 1s 14ms/step - loss: 1.7897e-04\n",
      "Epoch 13/20\n",
      "57/57 [==============================] - 1s 10ms/step - loss: 1.9228e-04\n",
      "Epoch 14/20\n",
      "57/57 [==============================] - 1s 10ms/step - loss: 1.7983e-04\n",
      "Epoch 15/20\n",
      "57/57 [==============================] - 1s 12ms/step - loss: 1.6846e-04\n",
      "Epoch 16/20\n",
      "57/57 [==============================] - 1s 10ms/step - loss: 1.6884e-04\n",
      "Epoch 17/20\n",
      "57/57 [==============================] - 1s 10ms/step - loss: 1.7434e-04\n",
      "Epoch 18/20\n",
      "57/57 [==============================] - 1s 10ms/step - loss: 1.9441e-04\n",
      "Epoch 19/20\n",
      "57/57 [==============================] - 1s 10ms/step - loss: 1.6611e-04\n",
      "Epoch 20/20\n",
      "57/57 [==============================] - 1s 10ms/step - loss: 1.4273e-04\n"
     ]
    }
   ],
   "source": [
    "model.compile(optimizer='RMSprop', loss='mean_squared_error')\n",
    "model.fit(train_x, train_y, epochs=20, batch_size=30)\n",
    "pred_y = model.predict(test_x)"
   ]
  },
  {
   "cell_type": "markdown",
   "id": "bba9fd0a",
   "metadata": {},
   "source": [
    "### Compare prediction to real"
   ]
  },
  {
   "cell_type": "code",
   "execution_count": 68,
   "id": "2e7fa15e",
   "metadata": {},
   "outputs": [
    {
     "data": {
      "image/png": "[encoded data removed]",
      "text/plain": [
       "<Figure size 1152x576 with 1 Axes>"
      ]
     },
     "metadata": {
      "needs_background": "light"
     },
     "output_type": "display_data"
    }
   ],
   "source": [
    "plt.figure(figsize=(16,8))\n",
    "plt.plot(test_y, c='r', label='real stock price')\n",
    "plt.plot(pred_y, c='blue', label='predicted stock price')\n",
    "plt.title(f'{tickers} Stock price prediction')\n",
    "plt.xlabel('time')\n",
    "plt.ylabel('stock price')\n",
    "plt.legend()\n",
    "plt.show()"
   ]
  },
  {
   "cell_type": "markdown",
   "id": "ebd0b780",
   "metadata": {},
   "source": [
    "### Predict tomorrw's close price"
   ]
  },
  {
   "cell_type": "code",
   "execution_count": 69,
   "id": "60e12ee9",
   "metadata": {},
   "outputs": [
    {
     "name": "stdout",
     "output_type": "stream",
     "text": [
      "['BTC-USD'] tomorrow price : [36666.05]\n"
     ]
    }
   ],
   "source": [
    "print(f'{tickers} tomorrow price : {df.Close[-1]*pred_y[-1]/dfy.Close[-1]}')"
   ]
  },
  {
   "cell_type": "code",
   "execution_count": 59,
   "id": "60227ff0",
   "metadata": {},
   "outputs": [
    {
     "name": "stdout",
     "output_type": "stream",
     "text": [
      "Model: \"sequential_3\"\n",
      "_________________________________________________________________\n",
      "Layer (type)                 Output Shape              Param #   \n",
      "=================================================================\n",
      "lstm_12 (LSTM)               (None, 10, 30)            4320      \n",
      "_________________________________________________________________\n",
      "dropout_12 (Dropout)         (None, 10, 30)            0         \n",
      "_________________________________________________________________\n",
      "lstm_13 (LSTM)               (None, 10, 40)            11360     \n",
      "_________________________________________________________________\n",
      "dropout_13 (Dropout)         (None, 10, 40)            0         \n",
      "_________________________________________________________________\n",
      "lstm_14 (LSTM)               (None, 10, 60)            24240     \n",
      "_________________________________________________________________\n",
      "dropout_14 (Dropout)         (None, 10, 60)            0         \n",
      "_________________________________________________________________\n",
      "lstm_15 (LSTM)               (None, 90)                54360     \n",
      "_________________________________________________________________\n",
      "dropout_15 (Dropout)         (None, 90)                0         \n",
      "_________________________________________________________________\n",
      "dense_3 (Dense)              (None, 1)                 91        \n",
      "=================================================================\n",
      "Total params: 94,371\n",
      "Trainable params: 94,371\n",
      "Non-trainable params: 0\n",
      "_________________________________________________________________\n"
     ]
    }
   ],
   "source": [
    "model.summary()"
   ]
  },
  {
   "cell_type": "code",
   "execution_count": null,
   "id": "f9f88ee8",
   "metadata": {},
   "outputs": [],
   "source": []
  }
 ],
 "metadata": {
  "kernelspec": {
   "display_name": "Python 3",
   "language": "python",
   "name": "python3"
  },
  "language_info": {
   "codemirror_mode": {
    "name": "ipython",
    "version": 3
   },
   "file_extension": ".py",
   "mimetype": "text/x-python",
   "name": "python",
   "nbconvert_exporter": "python",
   "pygments_lexer": "ipython3",
   "version": "3.7.1"
  }
 },
 "nbformat": 4,
 "nbformat_minor": 5
}

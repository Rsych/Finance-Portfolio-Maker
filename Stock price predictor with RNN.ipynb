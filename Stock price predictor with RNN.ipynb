{
 "cells": [
  {
   "cell_type": "markdown",
   "metadata": {},
   "source": [
    "# RNN stock price predictor\n",
    "\n",
    "Using Recurrent neural network (RNN) and Long short-term memory (LSTM) algorithm, one of deep learning technique, we'll predict selected ticker's future price. \n",
    "\n",
    "Note : This is just a basic code, hence it's not suitable to apply in real life market, and any investment should be your own decision also risk you take.\n",
    "\n",
    "\n",
    "\n"
   ]
  },
  {
   "cell_type": "markdown",
   "metadata": {},
   "source": [
    "## Recurrent Neural Network (RNN)\n",
    "\n",
    "Recurrent neural networks (RNN) are the state of the art algorithm for sequential data and are used by Apple's Siri and and Google's voice search. In RNN, neuron is called cell, information of previously trained cell is used for next cell, hence it is suitable to process sequential data.\n",
    "\n",
    "[image : RNN]"
   ]
  },
  {
   "cell_type": "markdown",
   "metadata": {},
   "source": [
    "## Long short-term memory\n",
    "\n",
    "RNN can store short-term memory, to find correlations of data, it needs long term memory, LSTM is used to support \n",
    "this.\n",
    "\n",
    "A common LSTM unit is composed of a cell, an input gate, an output gate and a forget gate. The cell remembers values over arbitrary time intervals and the three gates regulate the flow of information into and out of the cell.\n"
   ]
  },
  {
   "cell_type": "markdown",
   "metadata": {},
   "source": [
    "## Stock price predictor\n",
    "\n",
    "\n",
    "### data cleansing"
   ]
  },
  {
   "cell_type": "code",
   "execution_count": 2,
   "metadata": {},
   "outputs": [],
   "source": [
    "from pandas_datareader import data as pdr\n",
    "import pandas as pd\n",
    "import yfinance as yf\n",
    "import tensorflow as tf\n",
    "from tensorflow import keras\n",
    "from tensorflow.keras import layers\n",
    "import numpy as np\n",
    "yf.pdr_override()\n",
    "import matplotlib.pyplot as plt\n",
    "\n",
    "    \n",
    "def get_tickers(tickers, date_from):\n",
    "    x = pdr.get_data_yahoo(tickers, start=date_from)\n",
    "    df = pd.DataFrame(x[['Open', 'High', 'Low', 'Volume', 'Adj Close']])\n",
    "    df.fillna(method='bfill', inplace=True)\n",
    "    df.fillna(method='ffill', inplace=True)\n",
    "    df.rename(columns={'Adj Close' : 'Close'}, inplace=True)\n",
    "    return df\n",
    "\n",
    "def Normalizer(data):\n",
    "    numerator = data - np.min(data,0)\n",
    "    denominator = np.max(data, 0) - np.min(data,0)\n",
    "    return numerator / (denominator + 1e-7)"
   ]
  },
  {
   "cell_type": "code",
   "execution_count": 3,
   "metadata": {},
   "outputs": [
    {
     "name": "stdout",
     "output_type": "stream",
     "text": [
      "[*********************100%***********************]  1 of 1 completed\n"
     ]
    },
    {
     "data": {
      "text/html": [
       "<div>\n",
       "<style scoped>\n",
       "    .dataframe tbody tr th:only-of-type {\n",
       "        vertical-align: middle;\n",
       "    }\n",
       "\n",
       "    .dataframe tbody tr th {\n",
       "        vertical-align: top;\n",
       "    }\n",
       "\n",
       "    .dataframe thead th {\n",
       "        text-align: right;\n",
       "    }\n",
       "</style>\n",
       "<table border=\"1\" class=\"dataframe\">\n",
       "  <thead>\n",
       "    <tr style=\"text-align: right;\">\n",
       "      <th></th>\n",
       "      <th>Open</th>\n",
       "      <th>High</th>\n",
       "      <th>Low</th>\n",
       "      <th>Volume</th>\n",
       "      <th>Close</th>\n",
       "    </tr>\n",
       "    <tr>\n",
       "      <th>Date</th>\n",
       "      <th></th>\n",
       "      <th></th>\n",
       "      <th></th>\n",
       "      <th></th>\n",
       "      <th></th>\n",
       "    </tr>\n",
       "  </thead>\n",
       "  <tbody>\n",
       "    <tr>\n",
       "      <th>2017-10-16</th>\n",
       "      <td>30.010000</td>\n",
       "      <td>30.010000</td>\n",
       "      <td>29.940001</td>\n",
       "      <td>8800</td>\n",
       "      <td>27.997444</td>\n",
       "    </tr>\n",
       "    <tr>\n",
       "      <th>2017-10-17</th>\n",
       "      <td>29.950001</td>\n",
       "      <td>30.049999</td>\n",
       "      <td>29.920000</td>\n",
       "      <td>21500</td>\n",
       "      <td>27.960064</td>\n",
       "    </tr>\n",
       "    <tr>\n",
       "      <th>2017-10-18</th>\n",
       "      <td>30.129999</td>\n",
       "      <td>30.129999</td>\n",
       "      <td>29.990000</td>\n",
       "      <td>49200</td>\n",
       "      <td>28.044165</td>\n",
       "    </tr>\n",
       "    <tr>\n",
       "      <th>2017-10-19</th>\n",
       "      <td>29.990000</td>\n",
       "      <td>30.000000</td>\n",
       "      <td>29.850000</td>\n",
       "      <td>24300</td>\n",
       "      <td>28.034821</td>\n",
       "    </tr>\n",
       "    <tr>\n",
       "      <th>2017-10-20</th>\n",
       "      <td>30.100000</td>\n",
       "      <td>30.219999</td>\n",
       "      <td>30.090000</td>\n",
       "      <td>164900</td>\n",
       "      <td>28.174995</td>\n",
       "    </tr>\n",
       "    <tr>\n",
       "      <th>...</th>\n",
       "      <td>...</td>\n",
       "      <td>...</td>\n",
       "      <td>...</td>\n",
       "      <td>...</td>\n",
       "      <td>...</td>\n",
       "    </tr>\n",
       "    <tr>\n",
       "      <th>2021-05-27</th>\n",
       "      <td>49.410000</td>\n",
       "      <td>49.459999</td>\n",
       "      <td>49.279999</td>\n",
       "      <td>1314000</td>\n",
       "      <td>49.299999</td>\n",
       "    </tr>\n",
       "    <tr>\n",
       "      <th>2021-05-28</th>\n",
       "      <td>49.500000</td>\n",
       "      <td>49.529999</td>\n",
       "      <td>49.360001</td>\n",
       "      <td>1939100</td>\n",
       "      <td>49.369999</td>\n",
       "    </tr>\n",
       "    <tr>\n",
       "      <th>2021-06-01</th>\n",
       "      <td>49.689999</td>\n",
       "      <td>49.689999</td>\n",
       "      <td>49.290001</td>\n",
       "      <td>1899600</td>\n",
       "      <td>49.349998</td>\n",
       "    </tr>\n",
       "    <tr>\n",
       "      <th>2021-06-02</th>\n",
       "      <td>49.430000</td>\n",
       "      <td>49.520000</td>\n",
       "      <td>49.299999</td>\n",
       "      <td>1328300</td>\n",
       "      <td>49.430000</td>\n",
       "    </tr>\n",
       "    <tr>\n",
       "      <th>2021-06-03</th>\n",
       "      <td>49.130001</td>\n",
       "      <td>49.165001</td>\n",
       "      <td>48.950001</td>\n",
       "      <td>427078</td>\n",
       "      <td>49.130100</td>\n",
       "    </tr>\n",
       "  </tbody>\n",
       "</table>\n",
       "<p>914 rows × 5 columns</p>\n",
       "</div>"
      ],
      "text/plain": [
       "                 Open       High        Low   Volume      Close\n",
       "Date                                                           \n",
       "2017-10-16  30.010000  30.010000  29.940001     8800  27.997444\n",
       "2017-10-17  29.950001  30.049999  29.920000    21500  27.960064\n",
       "2017-10-18  30.129999  30.129999  29.990000    49200  28.044165\n",
       "2017-10-19  29.990000  30.000000  29.850000    24300  28.034821\n",
       "2017-10-20  30.100000  30.219999  30.090000   164900  28.174995\n",
       "...               ...        ...        ...      ...        ...\n",
       "2021-05-27  49.410000  49.459999  49.279999  1314000  49.299999\n",
       "2021-05-28  49.500000  49.529999  49.360001  1939100  49.369999\n",
       "2021-06-01  49.689999  49.689999  49.290001  1899600  49.349998\n",
       "2021-06-02  49.430000  49.520000  49.299999  1328300  49.430000\n",
       "2021-06-03  49.130001  49.165001  48.950001   427078  49.130100\n",
       "\n",
       "[914 rows x 5 columns]"
      ]
     },
     "execution_count": 3,
     "metadata": {},
     "output_type": "execute_result"
    }
   ],
   "source": [
    "tickers = ['SPLG']\n",
    "df = get_tickers(tickers, '2017-10-17')\n",
    "df"
   ]
  },
  {
   "cell_type": "code",
   "execution_count": 4,
   "metadata": {},
   "outputs": [],
   "source": [
    "dfx = Normalizer(df)\n",
    "dfy = dfx[['Close']]\n",
    "\n",
    "\n",
    "x = dfx.values.tolist()\n",
    "y = dfy.values.tolist()"
   ]
  },
  {
   "cell_type": "code",
   "execution_count": 5,
   "metadata": {},
   "outputs": [
    {
     "name": "stdout",
     "output_type": "stream",
     "text": [
      "<class 'pandas.core.frame.DataFrame'>\n",
      "DatetimeIndex: 914 entries, 2017-10-16 to 2021-06-03\n",
      "Data columns (total 5 columns):\n",
      " #   Column  Non-Null Count  Dtype  \n",
      "---  ------  --------------  -----  \n",
      " 0   Open    914 non-null    float64\n",
      " 1   High    914 non-null    float64\n",
      " 2   Low     914 non-null    float64\n",
      " 3   Volume  914 non-null    float64\n",
      " 4   Close   914 non-null    float64\n",
      "dtypes: float64(5)\n",
      "memory usage: 42.8 KB\n"
     ]
    }
   ],
   "source": [
    "dfx.info()"
   ]
  },
  {
   "cell_type": "code",
   "execution_count": 6,
   "metadata": {},
   "outputs": [
    {
     "name": "stdout",
     "output_type": "stream",
     "text": [
      "<class 'pandas.core.frame.DataFrame'>\n",
      "DatetimeIndex: 914 entries, 2017-10-16 to 2021-06-03\n",
      "Data columns (total 1 columns):\n",
      " #   Column  Non-Null Count  Dtype  \n",
      "---  ------  --------------  -----  \n",
      " 0   Close   914 non-null    float64\n",
      "dtypes: float64(1)\n",
      "memory usage: 14.3 KB\n"
     ]
    }
   ],
   "source": [
    "dfy.info()"
   ]
  },
  {
   "cell_type": "code",
   "execution_count": 7,
   "metadata": {},
   "outputs": [],
   "source": [
    "data_x = []\n",
    "data_y = []\n",
    "window_size = 10\n",
    "for i in range(len(y) - window_size):\n",
    "    _x = x[i : i + window_size] # not including next day close (i+window_size)\n",
    "    _y = y[i + window_size] # Next day close\n",
    "    data_x.append(_x)\n",
    "    data_y.append(_y)"
   ]
  },
  {
   "cell_type": "markdown",
   "metadata": {},
   "source": [
    "Run `print(_x, \"->\", _y)` to see _x values added to data_x and _y"
   ]
  },
  {
   "cell_type": "code",
   "execution_count": 8,
   "metadata": {},
   "outputs": [
    {
     "name": "stdout",
     "output_type": "stream",
     "text": [
      "[[0.9195452413433595, 0.93950033407811, 0.9279697054020196, 0.16325182271829805, 0.9456189211249919], [0.9449060570673157, 0.9679965078418374, 0.9595619549416855, 0.0744438571672856, 0.9669531369250419], [0.9711412341342055, 0.9758877971272848, 0.9734624611821634, 0.08855923640151069, 0.9648614282417274], [0.9728902904184482, 0.9872862331851884, 0.9865206488390285, 0.0464423958835324, 0.9853589924834453], [0.9886314633782572, 0.9890398901903849, 0.9894692459411447, 0.07700887652152254, 0.9815941402584346], [0.9811980575698195, 0.9837790864127323, 0.9898904052329511, 0.04430876614796258, 0.9857772384751272], [0.9877569352361358, 0.9890398901903849, 0.9966300787072868, 0.05072520092651588, 0.9866138900334595], [0.9916922284760881, 0.9921087063305104, 0.9999999957877, 0.07501904332550843, 0.989542090700138], [0.9999999956274593, 0.9991231671133596, 0.9970513986855838, 0.07348391810592723, 0.9887054391418058], [0.9886314633782572, 0.9916703756981796, 0.9974725579773901, 0.051280955119933885, 0.9920520453751345]] -> [0.9795067400992618]\n"
     ]
    }
   ],
   "source": [
    "print(_x, \"->\", _y)"
   ]
  },
  {
   "cell_type": "markdown",
   "metadata": {},
   "source": [
    "Past 10 days, given data, latest close is 0.8726370803053053, next day close is 0.8677396475977315"
   ]
  },
  {
   "cell_type": "markdown",
   "metadata": {},
   "source": [
    "### Prepare train / test dataset"
   ]
  },
  {
   "cell_type": "code",
   "execution_count": 9,
   "metadata": {},
   "outputs": [],
   "source": [
    "# train dataset\n",
    "train_size = int(len(data_y) * 0.7)\n",
    "train_x = np.array(data_x[0 : train_size])\n",
    "train_y = np.array(data_y[0 : train_size])\n",
    "\n",
    "# test dataset\n",
    "test_size = len(data_y) - train_size\n",
    "test_x = np.array(data_x[train_size : len(data_x)])\n",
    "test_y = np.array(data_y[train_size : len(data_y)])"
   ]
  },
  {
   "cell_type": "markdown",
   "metadata": {},
   "source": [
    "### Build model"
   ]
  },
  {
   "cell_type": "code",
   "execution_count": 19,
   "metadata": {},
   "outputs": [
    {
     "name": "stdout",
     "output_type": "stream",
     "text": [
      "WARNING:tensorflow:Layer lstm_2 will not use cuDNN kernel since it doesn't meet the cuDNN kernel criteria. It will use generic GPU kernel as fallback when running on GPU\n",
      "WARNING:tensorflow:Layer lstm_3 will not use cuDNN kernel since it doesn't meet the cuDNN kernel criteria. It will use generic GPU kernel as fallback when running on GPU\n",
      "WARNING:tensorflow:Layer lstm_4 will not use cuDNN kernel since it doesn't meet the cuDNN kernel criteria. It will use generic GPU kernel as fallback when running on GPU\n",
      "WARNING:tensorflow:Layer lstm_5 will not use cuDNN kernel since it doesn't meet the cuDNN kernel criteria. It will use generic GPU kernel as fallback when running on GPU\n",
      "Model: \"sequential_1\"\n",
      "_________________________________________________________________\n",
      "Layer (type)                 Output Shape              Param #   \n",
      "=================================================================\n",
      "lstm_2 (LSTM)                (None, 10, 30)            4320      \n",
      "_________________________________________________________________\n",
      "dropout_2 (Dropout)          (None, 10, 30)            0         \n",
      "_________________________________________________________________\n",
      "lstm_3 (LSTM)                (None, 10, 40)            11360     \n",
      "_________________________________________________________________\n",
      "dropout_3 (Dropout)          (None, 10, 40)            0         \n",
      "_________________________________________________________________\n",
      "lstm_4 (LSTM)                (None, 10, 60)            24240     \n",
      "_________________________________________________________________\n",
      "dropout_4 (Dropout)          (None, 10, 60)            0         \n",
      "_________________________________________________________________\n",
      "lstm_5 (LSTM)                (None, 90)                54360     \n",
      "_________________________________________________________________\n",
      "dropout_5 (Dropout)          (None, 90)                0         \n",
      "_________________________________________________________________\n",
      "dense_1 (Dense)              (None, 1)                 91        \n",
      "=================================================================\n",
      "Total params: 94,371\n",
      "Trainable params: 94,371\n",
      "Non-trainable params: 0\n",
      "_________________________________________________________________\n"
     ]
    }
   ],
   "source": [
    "# model = keras.Sequential()\n",
    "# model.add(layers.LSTM(units=10, activation='relu',\n",
    "#                       return_sequences=True, input_shape=(window_size, 5)))\n",
    "# model.add(layers.Dropout(0.1))\n",
    "# model.add(layers.LSTM(units=10, activation='relu'))\n",
    "# model.add(layers.Dropout(0.1))\n",
    "# model.add(layers.Dense(units=1))\n",
    "# model.summary()\n",
    "\n",
    "from tensorflow.keras.layers import Dense, LSTM, Dropout, Bidirectional, Activation\n",
    "model = keras.Sequential()\n",
    "model.add(layers.LSTM(units=30, activation='relu',\n",
    "                      return_sequences=True, input_shape=(window_size, 5)))\n",
    "model.add(layers.Dropout(0.1))\n",
    "model.add(layers.LSTM(units=40, activation='relu', return_sequences=True))\n",
    "model.add(layers.Dropout(0.2))\n",
    "model.add(layers.LSTM(units=60, activation='relu', return_sequences=True))\n",
    "model.add(layers.Dropout(0.3))\n",
    "model.add(layers.LSTM(units=90, activation='relu'))\n",
    "model.add(layers.Dropout(0.5))\n",
    "model.add(layers.Dense(units=1))\n",
    "model.summary()"
   ]
  },
  {
   "cell_type": "markdown",
   "metadata": {},
   "source": [
    "### Model fit"
   ]
  },
  {
   "cell_type": "code",
   "execution_count": 20,
   "metadata": {
    "scrolled": true
   },
   "outputs": [
    {
     "name": "stdout",
     "output_type": "stream",
     "text": [
      "Epoch 1/20\n",
      "22/22 [==============================] - 5s 99ms/step - loss: 0.0527\n",
      "Epoch 2/20\n",
      "22/22 [==============================] - 2s 99ms/step - loss: 0.0113\n",
      "Epoch 3/20\n",
      "22/22 [==============================] - 2s 99ms/step - loss: 0.0080\n",
      "Epoch 4/20\n",
      "22/22 [==============================] - 2s 99ms/step - loss: 0.0045\n",
      "Epoch 5/20\n",
      "22/22 [==============================] - 2s 102ms/step - loss: 0.0042\n",
      "Epoch 6/20\n",
      "22/22 [==============================] - 2s 106ms/step - loss: 0.0045\n",
      "Epoch 7/20\n",
      "22/22 [==============================] - 2s 99ms/step - loss: 0.0041\n",
      "Epoch 8/20\n",
      "22/22 [==============================] - 2s 97ms/step - loss: 0.0040\n",
      "Epoch 9/20\n",
      "22/22 [==============================] - 2s 99ms/step - loss: 0.0035\n",
      "Epoch 10/20\n",
      "22/22 [==============================] - 2s 98ms/step - loss: 0.0038\n",
      "Epoch 11/20\n",
      "22/22 [==============================] - 2s 100ms/step - loss: 0.0030\n",
      "Epoch 12/20\n",
      "22/22 [==============================] - 2s 103ms/step - loss: 0.0033\n",
      "Epoch 13/20\n",
      "22/22 [==============================] - 2s 100ms/step - loss: 0.0030\n",
      "Epoch 14/20\n",
      "22/22 [==============================] - 2s 102ms/step - loss: 0.0033\n",
      "Epoch 15/20\n",
      "22/22 [==============================] - 2s 103ms/step - loss: 0.0031\n",
      "Epoch 16/20\n",
      "22/22 [==============================] - 2s 106ms/step - loss: 0.0030\n",
      "Epoch 17/20\n",
      "22/22 [==============================] - 2s 108ms/step - loss: 0.0029\n",
      "Epoch 18/20\n",
      "22/22 [==============================] - 2s 101ms/step - loss: 0.0027\n",
      "Epoch 19/20\n",
      "22/22 [==============================] - 2s 105ms/step - loss: 0.0028\n",
      "Epoch 20/20\n",
      "22/22 [==============================] - 2s 113ms/step - loss: 0.0030\n"
     ]
    }
   ],
   "source": [
    "model.compile(optimizer='adam', loss='mean_squared_error')\n",
    "model.fit(train_x, train_y, epochs=20, batch_size=30)\n",
    "pred_y = model.predict(test_x)"
   ]
  },
  {
   "cell_type": "markdown",
   "metadata": {},
   "source": [
    "### Compare prediction to real"
   ]
  },
  {
   "cell_type": "code",
   "execution_count": 21,
   "metadata": {},
   "outputs": [
    {
     "data": {
      "image/png": "[encoded data removed]",
      "text/plain": [
       "<Figure size 1152x576 with 1 Axes>"
      ]
     },
     "metadata": {
      "needs_background": "light"
     },
     "output_type": "display_data"
    }
   ],
   "source": [
    "plt.figure(figsize=(16,8))\n",
    "plt.plot(test_y, c='r', label='real stock price')\n",
    "plt.plot(pred_y, c='blue', label='predicted stock price')\n",
    "plt.title(f'{tickers} Stock price prediction')\n",
    "plt.xlabel('time')\n",
    "plt.ylabel('stock price')\n",
    "plt.legend()\n",
    "plt.show()"
   ]
  },
  {
   "cell_type": "markdown",
   "metadata": {},
   "source": [
    "### Predict tomorrw's close price"
   ]
  },
  {
   "cell_type": "code",
   "execution_count": 22,
   "metadata": {},
   "outputs": [
    {
     "name": "stdout",
     "output_type": "stream",
     "text": [
      "['SPLG'] tomorrow price : [54.87004]\n"
     ]
    }
   ],
   "source": [
    "print(f'{tickers} tomorrow price : {df.Close[-1]*pred_y[-1]/dfy.Close[-1]}')"
   ]
  },
  {
   "cell_type": "code",
   "execution_count": null,
   "metadata": {},
   "outputs": [],
   "source": []
  }
 ],
 "metadata": {
  "kernelspec": {
   "display_name": "Python 3",
   "language": "python",
   "name": "python3"
  },
  "language_info": {
   "codemirror_mode": {
    "name": "ipython",
    "version": 3
   },
   "file_extension": ".py",
   "mimetype": "text/x-python",
   "name": "python",
   "nbconvert_exporter": "python",
   "pygments_lexer": "ipython3",
   "version": "3.8.5"
  }
 },
 "nbformat": 4,
 "nbformat_minor": 5
}

{
 "cells": [
  {
   "cell_type": "markdown",
   "id": "83f41b5d",
   "metadata": {},
   "source": [
    "# RNN stock price predictor\n",
    "\n",
    "Using Recurrent neural network (RNN) and Long short-term memory (LSTM) algorithm, one of deep learning technique, we'll predict selected ticker's future price. \n",
    "\n",
    "Note : This is just a basic code, hence it's not suitable to apply in real life market, and any investment should be your own decision also risk you take.\n",
    "\n",
    "\n",
    "\n"
   ]
  },
  {
   "cell_type": "markdown",
   "id": "a6414717",
   "metadata": {},
   "source": [
    "## Recurrent Neural Network (RNN)\n",
    "\n",
    "Recurrent neural networks (RNN) are the state of the art algorithm for sequential data and are used by Apple's Siri and and Google's voice search. In RNN, neuron is called cell, information of previously trained cell is used for next cell, hence it is suitable to process sequential data.\n",
    "\n",
    "[image : RNN]"
   ]
  },
  {
   "cell_type": "markdown",
   "id": "b4dbe791",
   "metadata": {},
   "source": [
    "## Long short-term memory\n",
    "\n",
    "RNN can store short-term memory, to find correlations of data, it needs long term memory, LSTM is used to support \n",
    "this.\n",
    "\n",
    "A common LSTM unit is composed of a cell, an input gate, an output gate and a forget gate. The cell remembers values over arbitrary time intervals and the three gates regulate the flow of information into and out of the cell.\n"
   ]
  },
  {
   "cell_type": "markdown",
   "id": "c0393143",
   "metadata": {},
   "source": [
    "## Stock price predictor\n",
    "\n",
    "\n",
    "### data cleansing"
   ]
  },
  {
   "cell_type": "code",
   "execution_count": 2,
   "id": "ec93ea6b",
   "metadata": {},
   "outputs": [],
   "source": [
    "import pandas as pd\n",
    "import yfinance as yf\n",
    "import numpy as np\n",
    "import matplotlib.pyplot as plt\n",
    "# To prevent TF complier error\n",
    "import os\n",
    "os.environ['TF_CPP_MIN_LOG_LEVEL'] = '2'\n",
    "# Model\n",
    "import tensorflow as tf\n",
    "from keras.layers import Dense, SimpleRNN, Dropout, Bidirectional, Activation\n",
    "from keras.models import Sequential\n",
    "\n",
    "\n",
    "    \n",
    "def get_tickers(ticker):\n",
    "    data = yf.Ticker(ticker)\n",
    "    x = data.history(period='max', auto_adjust=True)\n",
    "#     x = pdr.get_data_yahoo(tickers, start=date_from)\n",
    "    df = pd.DataFrame(x[['Open', 'High', 'Low', 'Volume', 'Close']])\n",
    "    df.fillna(method='bfill', inplace=True)\n",
    "    df.fillna(method='ffill', inplace=True)\n",
    "    df.rename(columns={'Close' : 'Close'}, inplace=True)\n",
    "    return df\n",
    "\n",
    "def Normalizer(data):\n",
    "    numerator = data - np.min(data,0)\n",
    "    denominator = np.max(data, 0) - np.min(data,0)\n",
    "    return numerator / (denominator + 1e-7)"
   ]
  },
  {
   "cell_type": "code",
   "execution_count": 3,
   "id": "f006ee93",
   "metadata": {},
   "outputs": [
    {
     "data": {
      "text/html": [
       "<div>\n",
       "<style scoped>\n",
       "    .dataframe tbody tr th:only-of-type {\n",
       "        vertical-align: middle;\n",
       "    }\n",
       "\n",
       "    .dataframe tbody tr th {\n",
       "        vertical-align: top;\n",
       "    }\n",
       "\n",
       "    .dataframe thead th {\n",
       "        text-align: right;\n",
       "    }\n",
       "</style>\n",
       "<table border=\"1\" class=\"dataframe\">\n",
       "  <thead>\n",
       "    <tr style=\"text-align: right;\">\n",
       "      <th></th>\n",
       "      <th>Open</th>\n",
       "      <th>High</th>\n",
       "      <th>Low</th>\n",
       "      <th>Volume</th>\n",
       "      <th>Close</th>\n",
       "    </tr>\n",
       "    <tr>\n",
       "      <th>Date</th>\n",
       "      <th></th>\n",
       "      <th></th>\n",
       "      <th></th>\n",
       "      <th></th>\n",
       "      <th></th>\n",
       "    </tr>\n",
       "  </thead>\n",
       "  <tbody>\n",
       "    <tr>\n",
       "      <th>1993-01-29</th>\n",
       "      <td>25.818120</td>\n",
       "      <td>25.818120</td>\n",
       "      <td>25.689672</td>\n",
       "      <td>1003200</td>\n",
       "      <td>25.799770</td>\n",
       "    </tr>\n",
       "    <tr>\n",
       "      <th>1993-02-01</th>\n",
       "      <td>25.818125</td>\n",
       "      <td>25.983273</td>\n",
       "      <td>25.818125</td>\n",
       "      <td>480500</td>\n",
       "      <td>25.983273</td>\n",
       "    </tr>\n",
       "    <tr>\n",
       "      <th>1993-02-02</th>\n",
       "      <td>25.964916</td>\n",
       "      <td>26.056665</td>\n",
       "      <td>25.909866</td>\n",
       "      <td>201300</td>\n",
       "      <td>26.038315</td>\n",
       "    </tr>\n",
       "    <tr>\n",
       "      <th>1993-02-03</th>\n",
       "      <td>26.075019</td>\n",
       "      <td>26.331916</td>\n",
       "      <td>26.056669</td>\n",
       "      <td>529400</td>\n",
       "      <td>26.313566</td>\n",
       "    </tr>\n",
       "    <tr>\n",
       "      <th>1993-02-04</th>\n",
       "      <td>26.405305</td>\n",
       "      <td>26.478704</td>\n",
       "      <td>26.111709</td>\n",
       "      <td>531500</td>\n",
       "      <td>26.423655</td>\n",
       "    </tr>\n",
       "    <tr>\n",
       "      <th>...</th>\n",
       "      <td>...</td>\n",
       "      <td>...</td>\n",
       "      <td>...</td>\n",
       "      <td>...</td>\n",
       "      <td>...</td>\n",
       "    </tr>\n",
       "    <tr>\n",
       "      <th>2021-07-15</th>\n",
       "      <td>434.809998</td>\n",
       "      <td>435.529999</td>\n",
       "      <td>432.720001</td>\n",
       "      <td>55126400</td>\n",
       "      <td>434.750000</td>\n",
       "    </tr>\n",
       "    <tr>\n",
       "      <th>2021-07-16</th>\n",
       "      <td>436.010010</td>\n",
       "      <td>436.059998</td>\n",
       "      <td>430.920013</td>\n",
       "      <td>75784700</td>\n",
       "      <td>431.339996</td>\n",
       "    </tr>\n",
       "    <tr>\n",
       "      <th>2021-07-19</th>\n",
       "      <td>426.190002</td>\n",
       "      <td>431.410004</td>\n",
       "      <td>421.970001</td>\n",
       "      <td>147987000</td>\n",
       "      <td>424.970001</td>\n",
       "    </tr>\n",
       "    <tr>\n",
       "      <th>2021-07-20</th>\n",
       "      <td>425.679993</td>\n",
       "      <td>432.420013</td>\n",
       "      <td>424.829987</td>\n",
       "      <td>99501600</td>\n",
       "      <td>431.059998</td>\n",
       "    </tr>\n",
       "    <tr>\n",
       "      <th>2021-07-21</th>\n",
       "      <td>432.339996</td>\n",
       "      <td>434.700012</td>\n",
       "      <td>431.010010</td>\n",
       "      <td>64623000</td>\n",
       "      <td>434.549988</td>\n",
       "    </tr>\n",
       "  </tbody>\n",
       "</table>\n",
       "<p>7171 rows × 5 columns</p>\n",
       "</div>"
      ],
      "text/plain": [
       "                  Open        High         Low     Volume       Close\n",
       "Date                                                                 \n",
       "1993-01-29   25.818120   25.818120   25.689672    1003200   25.799770\n",
       "1993-02-01   25.818125   25.983273   25.818125     480500   25.983273\n",
       "1993-02-02   25.964916   26.056665   25.909866     201300   26.038315\n",
       "1993-02-03   26.075019   26.331916   26.056669     529400   26.313566\n",
       "1993-02-04   26.405305   26.478704   26.111709     531500   26.423655\n",
       "...                ...         ...         ...        ...         ...\n",
       "2021-07-15  434.809998  435.529999  432.720001   55126400  434.750000\n",
       "2021-07-16  436.010010  436.059998  430.920013   75784700  431.339996\n",
       "2021-07-19  426.190002  431.410004  421.970001  147987000  424.970001\n",
       "2021-07-20  425.679993  432.420013  424.829987   99501600  431.059998\n",
       "2021-07-21  432.339996  434.700012  431.010010   64623000  434.549988\n",
       "\n",
       "[7171 rows x 5 columns]"
      ]
     },
     "execution_count": 3,
     "metadata": {},
     "output_type": "execute_result"
    }
   ],
   "source": [
    "tickers = 'SPY'\n",
    "df = get_tickers(tickers)\n",
    "df"
   ]
  },
  {
   "cell_type": "code",
   "execution_count": 4,
   "id": "1e3b91ca",
   "metadata": {},
   "outputs": [],
   "source": [
    "dfx = Normalizer(df)\n",
    "dfy = dfx[['Close']]\n",
    "\n",
    "\n",
    "x = dfx.values.tolist()\n",
    "y = dfy.values.tolist()"
   ]
  },
  {
   "cell_type": "code",
   "execution_count": 5,
   "id": "f3f24f0f",
   "metadata": {},
   "outputs": [
    {
     "name": "stdout",
     "output_type": "stream",
     "text": [
      "<class 'pandas.core.frame.DataFrame'>\n",
      "DatetimeIndex: 7171 entries, 1993-01-29 to 2021-07-21\n",
      "Data columns (total 5 columns):\n",
      " #   Column  Non-Null Count  Dtype  \n",
      "---  ------  --------------  -----  \n",
      " 0   Open    7171 non-null   float64\n",
      " 1   High    7171 non-null   float64\n",
      " 2   Low     7171 non-null   float64\n",
      " 3   Volume  7171 non-null   float64\n",
      " 4   Close   7171 non-null   float64\n",
      "dtypes: float64(5)\n",
      "memory usage: 336.1 KB\n"
     ]
    }
   ],
   "source": [
    "dfx.info()"
   ]
  },
  {
   "cell_type": "code",
   "execution_count": 6,
   "id": "1fe6ddc6",
   "metadata": {},
   "outputs": [
    {
     "name": "stdout",
     "output_type": "stream",
     "text": [
      "<class 'pandas.core.frame.DataFrame'>\n",
      "DatetimeIndex: 7171 entries, 1993-01-29 to 2021-07-21\n",
      "Data columns (total 1 columns):\n",
      " #   Column  Non-Null Count  Dtype  \n",
      "---  ------  --------------  -----  \n",
      " 0   Close   7171 non-null   float64\n",
      "dtypes: float64(1)\n",
      "memory usage: 112.0 KB\n"
     ]
    }
   ],
   "source": [
    "dfy.info()"
   ]
  },
  {
   "cell_type": "code",
   "execution_count": 7,
   "id": "55cedf19",
   "metadata": {},
   "outputs": [],
   "source": [
    "data_x = []\n",
    "data_y = []\n",
    "window_size = 10\n",
    "for i in range(len(y) - window_size):\n",
    "    _x = x[i : i + window_size] # not including next day close (i+window_size)\n",
    "    _y = y[i + window_size] # Next day close\n",
    "    data_x.append(_x)\n",
    "    data_y.append(_y)"
   ]
  },
  {
   "cell_type": "markdown",
   "id": "fb1810ad",
   "metadata": {},
   "source": [
    "Run `print(_x, \"->\", _y)` to see _x values added to data_x and _y"
   ]
  },
  {
   "cell_type": "code",
   "execution_count": 8,
   "id": "73637c0b",
   "metadata": {},
   "outputs": [
    {
     "name": "stdout",
     "output_type": "stream",
     "text": [
      "[[0.9909204179787647, 0.9923367614152111, 0.9907355965365644, 0.07295380100436143, 0.9936344869992849], [0.9790732203562797, 0.9849887943539722, 0.9810078913136155, 0.1120409138194241, 0.9850337933768394], [0.9881771028627895, 0.9949558072754968, 0.9887851449520326, 0.08746642302924693, 0.9962098459906643], [0.9952174238503065, 0.9986176906055411, 0.9991710857335682, 0.06071540632023724, 0.999999999757041], [0.9971838565447058, 0.9998059525042312, 0.9999999997561991, 0.06074031960879018, 0.9963799350540092], [0.9999999997572298, 0.9999999997574927, 0.9990248111649934, 0.07362071940622333, 0.9979591534324681], [0.9937122604632439, 0.9942040406856304, 0.9936855662056507, 0.06328342677347311, 0.9943390887294363], [0.9966255325003612, 0.9954893262109513, 0.9892971803441649, 0.0870007626680915, 0.9860541794665314], [0.9727854810622939, 0.9842127533556124, 0.9674769729056006, 0.16989462138173228, 0.970577705896295], [0.9715473293333812, 0.986662100378473, 0.9744496420147357, 0.1142296093630797, 0.9853738973583405]] -> [0.9938531411613618]\n"
     ]
    }
   ],
   "source": [
    "print(_x, \"->\", _y)"
   ]
  },
  {
   "cell_type": "markdown",
   "id": "022b29b0",
   "metadata": {},
   "source": [
    "Past 10 days, given data, latest close is 0.8726370803053053, next day close is 0.8677396475977315"
   ]
  },
  {
   "cell_type": "markdown",
   "id": "3678ab6e",
   "metadata": {},
   "source": [
    "### Prepare train / test dataset"
   ]
  },
  {
   "cell_type": "code",
   "execution_count": 9,
   "id": "3f9b2e9f",
   "metadata": {},
   "outputs": [],
   "source": [
    "# train dataset\n",
    "train_size = int(len(data_y) * 0.7)\n",
    "train_x = np.array(data_x[0 : train_size])\n",
    "train_y = np.array(data_y[0 : train_size])\n",
    "\n",
    "# test dataset\n",
    "test_size = len(data_y) - train_size\n",
    "test_x = np.array(data_x[train_size : len(data_x)])\n",
    "test_y = np.array(data_y[train_size : len(data_y)])"
   ]
  },
  {
   "cell_type": "markdown",
   "id": "c06dff18",
   "metadata": {},
   "source": [
    "### Build model"
   ]
  },
  {
   "cell_type": "code",
   "execution_count": 10,
   "id": "f2b16739",
   "metadata": {},
   "outputs": [
    {
     "name": "stdout",
     "output_type": "stream",
     "text": [
      "Model: \"sequential\"\n",
      "_________________________________________________________________\n",
      "Layer (type)                 Output Shape              Param #   \n",
      "=================================================================\n",
      "simple_rnn (SimpleRNN)       (None, 10, 40)            1840      \n",
      "_________________________________________________________________\n",
      "dropout (Dropout)            (None, 10, 40)            0         \n",
      "_________________________________________________________________\n",
      "simple_rnn_1 (SimpleRNN)     (None, 40)                3240      \n",
      "_________________________________________________________________\n",
      "dropout_1 (Dropout)          (None, 40)                0         \n",
      "_________________________________________________________________\n",
      "dense (Dense)                (None, 1)                 41        \n",
      "=================================================================\n",
      "Total params: 5,121\n",
      "Trainable params: 5,121\n",
      "Non-trainable params: 0\n",
      "_________________________________________________________________\n"
     ]
    }
   ],
   "source": [
    "# model = keras.Sequential()\n",
    "# model.add(layers.LSTM(units=10, activation='relu',\n",
    "#                       return_sequences=True, input_shape=(window_size, 5)))\n",
    "# model.add(layers.Dropout(0.1))\n",
    "# model.add(layers.LSTM(units=10, activation='relu'))\n",
    "# model.add(layers.Dropout(0.1))\n",
    "# model.add(layers.Dense(units=1))\n",
    "# model.summary()\n",
    "\n",
    "# from keras.layers import Dense, LSTM, Dropout, Bidirectional, Activation\n",
    "# from keras.models import Sequential\n",
    "# model = keras.Sequential()\n",
    "# model.add(layers.LSTM(units=30, activation='relu',\n",
    "#                       return_sequences=True, input_shape=(window_size, 5)))\n",
    "# model.add(layers.Dropout(0.1))\n",
    "# model.add(layers.LSTM(units=40, activation='relu', return_sequences=True))\n",
    "# model.add(layers.Dropout(0.2))\n",
    "# model.add(layers.LSTM(units=60, activation='relu', return_sequences=True))\n",
    "# model.add(layers.Dropout(0.3))\n",
    "# model.add(layers.LSTM(units=90, activation='relu'))\n",
    "# model.add(layers.Dropout(0.5))\n",
    "# model.add(layers.Dense(units=1))\n",
    "# model.summary()\n",
    "\n",
    "\n",
    "\n",
    "model = Sequential()\n",
    "\n",
    "model.add(SimpleRNN(units = 40, activation='relu',\n",
    "                   return_sequences=True, input_shape=(window_size, 5)))\n",
    "model.add(Dropout(0.1))\n",
    "model.add(SimpleRNN(units=40))\n",
    "model.add(Dropout(0.1))\n",
    "model.add(Dense(units=1))\n",
    "model.summary()"
   ]
  },
  {
   "cell_type": "markdown",
   "id": "0b319a27",
   "metadata": {},
   "source": [
    "### Model fit"
   ]
  },
  {
   "cell_type": "code",
   "execution_count": 11,
   "id": "2be021cb",
   "metadata": {
    "scrolled": true
   },
   "outputs": [
    {
     "name": "stdout",
     "output_type": "stream",
     "text": [
      "Epoch 1/30\n",
      "168/168 [==============================] - 24s 6ms/step - loss: 0.0164 - accuracy: 5.9020e-04\n",
      "Epoch 2/30\n",
      "168/168 [==============================] - 1s 6ms/step - loss: 9.8026e-04 - accuracy: 3.2577e-04\n",
      "Epoch 3/30\n",
      "168/168 [==============================] - 1s 6ms/step - loss: 5.1460e-04 - accuracy: 6.5688e-05\n",
      "Epoch 4/30\n",
      "168/168 [==============================] - 1s 6ms/step - loss: 3.7057e-04 - accuracy: 9.2903e-04\n",
      "Epoch 5/30\n",
      "168/168 [==============================] - 1s 6ms/step - loss: 2.8439e-04 - accuracy: 3.0836e-04\n",
      "Epoch 6/30\n",
      "168/168 [==============================] - 1s 6ms/step - loss: 2.0772e-04 - accuracy: 2.5093e-04\n",
      "Epoch 7/30\n",
      "168/168 [==============================] - 1s 6ms/step - loss: 1.8508e-04 - accuracy: 2.7287e-04\n",
      "Epoch 8/30\n",
      "168/168 [==============================] - 1s 8ms/step - loss: 1.6623e-04 - accuracy: 4.9902e-04\n",
      "Epoch 9/30\n",
      "168/168 [==============================] - 1s 8ms/step - loss: 1.5069e-04 - accuracy: 1.9998e-04\n",
      "Epoch 10/30\n",
      "168/168 [==============================] - 1s 8ms/step - loss: 1.2650e-04 - accuracy: 1.9367e-04\n",
      "Epoch 11/30\n",
      "168/168 [==============================] - 2s 11ms/step - loss: 1.2850e-04 - accuracy: 2.6828e-04\n",
      "Epoch 12/30\n",
      "168/168 [==============================] - 1s 8ms/step - loss: 1.1718e-04 - accuracy: 3.7361e-04\n",
      "Epoch 13/30\n",
      "168/168 [==============================] - 1s 8ms/step - loss: 1.0007e-04 - accuracy: 1.2162e-04\n",
      "Epoch 14/30\n",
      "168/168 [==============================] - 2s 13ms/step - loss: 9.5882e-05 - accuracy: 2.7287e-04\n",
      "Epoch 15/30\n",
      "168/168 [==============================] - 1s 8ms/step - loss: 9.1452e-05 - accuracy: 2.6828e-04\n",
      "Epoch 16/30\n",
      "168/168 [==============================] - 1s 7ms/step - loss: 8.7983e-05 - accuracy: 1.1736e-04\n",
      "Epoch 17/30\n",
      "168/168 [==============================] - 2s 9ms/step - loss: 8.0650e-05 - accuracy: 2.4682e-04\n",
      "Epoch 18/30\n",
      "168/168 [==============================] - 1s 9ms/step - loss: 7.1768e-05 - accuracy: 2.2023e-04\n",
      "Epoch 19/30\n",
      "168/168 [==============================] - 1s 8ms/step - loss: 7.5049e-05 - accuracy: 3.4488e-04\n",
      "Epoch 20/30\n",
      "168/168 [==============================] - 1s 8ms/step - loss: 6.9708e-05 - accuracy: 2.6828e-04\n",
      "Epoch 21/30\n",
      "168/168 [==============================] - 1s 7ms/step - loss: 6.3294e-05 - accuracy: 8.0868e-05\n",
      "Epoch 22/30\n",
      "168/168 [==============================] - 2s 9ms/step - loss: 7.8823e-05 - accuracy: 1.4204e-04\n",
      "Epoch 23/30\n",
      "168/168 [==============================] - 1s 8ms/step - loss: 6.2968e-05 - accuracy: 1.1736e-04\n",
      "Epoch 24/30\n",
      "168/168 [==============================] - 2s 9ms/step - loss: 6.6293e-05 - accuracy: 5.1419e-04\n",
      "Epoch 25/30\n",
      "168/168 [==============================] - 2s 11ms/step - loss: 5.7307e-05 - accuracy: 3.5632e-05\n",
      "Epoch 26/30\n",
      "168/168 [==============================] - 2s 10ms/step - loss: 6.2311e-05 - accuracy: 3.2864e-05\n",
      "Epoch 27/30\n",
      "168/168 [==============================] - 2s 9ms/step - loss: 5.2538e-05 - accuracy: 3.8440e-05\n",
      "Epoch 28/30\n",
      "168/168 [==============================] - 1s 8ms/step - loss: 6.4712e-05 - accuracy: 1.1948e-04\n",
      "Epoch 29/30\n",
      "168/168 [==============================] - 1s 7ms/step - loss: 5.2411e-05 - accuracy: 9.3539e-05\n",
      "Epoch 30/30\n",
      "168/168 [==============================] - 1s 7ms/step - loss: 4.9689e-05 - accuracy: 2.9236e-04\n"
     ]
    }
   ],
   "source": [
    "model.compile(optimizer='adam', loss='mean_squared_error', metrics = ['accuracy'])\n",
    "history = model.fit(train_x, train_y, epochs=30, batch_size=30)\n",
    "pred_y = model.predict(test_x)"
   ]
  },
  {
   "cell_type": "markdown",
   "id": "1adcd4dc",
   "metadata": {},
   "source": [
    "### Compare prediction to real"
   ]
  },
  {
   "cell_type": "code",
   "execution_count": 12,
   "id": "8b7ceaae",
   "metadata": {},
   "outputs": [
    {
     "data": {
      "image/png": "[encoded data removed]",
      "text/plain": [
       "<Figure size 1152x576 with 1 Axes>"
      ]
     },
     "metadata": {
      "needs_background": "light"
     },
     "output_type": "display_data"
    }
   ],
   "source": [
    "plt.figure(figsize=(16,8))\n",
    "plt.plot(test_y, c='r', label='real stock price')\n",
    "plt.plot(pred_y, c='blue', label='predicted stock price')\n",
    "plt.title(f'{tickers} Stock price prediction')\n",
    "plt.xlabel('time')\n",
    "plt.ylabel('stock price')\n",
    "plt.legend()\n",
    "plt.show()"
   ]
  },
  {
   "cell_type": "markdown",
   "id": "90925bd2",
   "metadata": {},
   "source": [
    "## Evaluating Model"
   ]
  },
  {
   "cell_type": "code",
   "execution_count": 13,
   "id": "fd8968c3",
   "metadata": {},
   "outputs": [],
   "source": [
    "# Losses\n",
    "history.history['loss'];"
   ]
  },
  {
   "cell_type": "code",
   "execution_count": 17,
   "id": "1417aecf",
   "metadata": {},
   "outputs": [
    {
     "data": {
      "image/png": "[encoded data removed]",
      "text/plain": [
       "<Figure size 864x576 with 1 Axes>"
      ]
     },
     "metadata": {
      "needs_background": "light"
     },
     "output_type": "display_data"
    }
   ],
   "source": [
    "# plot loss vs epochs\n",
    "plt.figure(figsize=(12,8))\n",
    "plt.plot(history.history['loss'])\n",
    "plt.xlabel('Epochs')\n",
    "plt.ylabel('Losses')\n",
    "plt.title('Simple RNN model, Loss vs Epoch')\n",
    "plt.show()"
   ]
  },
  {
   "cell_type": "markdown",
   "id": "b3990a77",
   "metadata": {},
   "source": [
    "### Predict tomorrw's close price"
   ]
  },
  {
   "cell_type": "code",
   "execution_count": 15,
   "id": "1fbd75f2",
   "metadata": {},
   "outputs": [
    {
     "name": "stdout",
     "output_type": "stream",
     "text": [
      "SPY tomorrow price : [354.03738]\n"
     ]
    }
   ],
   "source": [
    "print(f'{tickers} tomorrow price : {df.Close[-1]*pred_y[-1]/dfy.Close[-1]}')"
   ]
  },
  {
   "cell_type": "code",
   "execution_count": null,
   "id": "8c3d616f",
   "metadata": {},
   "outputs": [],
   "source": []
  },
  {
   "cell_type": "code",
   "execution_count": null,
   "id": "7fb14313",
   "metadata": {},
   "outputs": [],
   "source": []
  }
 ],
 "metadata": {
  "kernelspec": {
   "display_name": "Python 3 (ipykernel)",
   "language": "python",
   "name": "python3"
  },
  "language_info": {
   "codemirror_mode": {
    "name": "ipython",
    "version": 3
   },
   "file_extension": ".py",
   "mimetype": "text/x-python",
   "name": "python",
   "nbconvert_exporter": "python",
   "pygments_lexer": "ipython3",
   "version": "3.8.10"
  }
 },
 "nbformat": 4,
 "nbformat_minor": 5
}
